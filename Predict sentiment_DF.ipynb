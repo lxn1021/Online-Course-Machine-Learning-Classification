{
 "cells": [
  {
   "cell_type": "markdown",
   "metadata": {},
   "source": [
    "# Predicting sentiment from product reviews"
   ]
  },
  {
   "cell_type": "code",
   "execution_count": 428,
   "metadata": {},
   "outputs": [],
   "source": [
    "import numpy as np\n",
    "import graphlab\n",
    "import pandas as pd\n",
    "import time\n",
    "import sklearn\n",
    "from sklearn.model_selection import train_test_split\n",
    "from __future__ import division"
   ]
  },
  {
   "cell_type": "markdown",
   "metadata": {},
   "source": [
    "# Data preparation"
   ]
  },
  {
   "cell_type": "code",
   "execution_count": 95,
   "metadata": {},
   "outputs": [],
   "source": [
    "products = graphlab.SFrame(\"E:\\\\Machine Learning\\\\U.W\\\\Classification\\\\amazon_baby.gl/\")\n",
    "products.save(\"E:\\\\Machine Learning\\\\U.W\\\\Classification\\\\amazon_baby.csv\", format=\"csv\")\n",
    "products = pd.read_csv(\"E:\\\\Machine Learning\\\\U.W\\\\Classification\\\\amazon_baby.csv\")"
   ]
  },
  {
   "cell_type": "code",
   "execution_count": 96,
   "metadata": {},
   "outputs": [
    {
     "data": {
      "text/plain": [
       "pandas.core.frame.DataFrame"
      ]
     },
     "execution_count": 96,
     "metadata": {},
     "output_type": "execute_result"
    }
   ],
   "source": [
    "type(products)"
   ]
  },
  {
   "cell_type": "code",
   "execution_count": 97,
   "metadata": {},
   "outputs": [
    {
     "data": {
      "text/html": [
       "<div>\n",
       "<style scoped>\n",
       "    .dataframe tbody tr th:only-of-type {\n",
       "        vertical-align: middle;\n",
       "    }\n",
       "\n",
       "    .dataframe tbody tr th {\n",
       "        vertical-align: top;\n",
       "    }\n",
       "\n",
       "    .dataframe thead th {\n",
       "        text-align: right;\n",
       "    }\n",
       "</style>\n",
       "<table border=\"1\" class=\"dataframe\">\n",
       "  <thead>\n",
       "    <tr style=\"text-align: right;\">\n",
       "      <th></th>\n",
       "      <th>name</th>\n",
       "      <th>review</th>\n",
       "      <th>rating</th>\n",
       "    </tr>\n",
       "  </thead>\n",
       "  <tbody>\n",
       "    <tr>\n",
       "      <th>0</th>\n",
       "      <td>Planetwise Flannel Wipes</td>\n",
       "      <td>These flannel wipes are OK, but in my opinion ...</td>\n",
       "      <td>3</td>\n",
       "    </tr>\n",
       "    <tr>\n",
       "      <th>1</th>\n",
       "      <td>Planetwise Wipe Pouch</td>\n",
       "      <td>it came early and was not disappointed. i love...</td>\n",
       "      <td>5</td>\n",
       "    </tr>\n",
       "    <tr>\n",
       "      <th>2</th>\n",
       "      <td>Annas Dream Full Quilt with 2 Shams</td>\n",
       "      <td>Very soft and comfortable and warmer than it l...</td>\n",
       "      <td>5</td>\n",
       "    </tr>\n",
       "    <tr>\n",
       "      <th>3</th>\n",
       "      <td>Stop Pacifier Sucking without tears with Thumb...</td>\n",
       "      <td>This is a product well worth the purchase.  I ...</td>\n",
       "      <td>5</td>\n",
       "    </tr>\n",
       "    <tr>\n",
       "      <th>4</th>\n",
       "      <td>Stop Pacifier Sucking without tears with Thumb...</td>\n",
       "      <td>All of my kids have cried non-stop when I trie...</td>\n",
       "      <td>5</td>\n",
       "    </tr>\n",
       "  </tbody>\n",
       "</table>\n",
       "</div>"
      ],
      "text/plain": [
       "                                                name  \\\n",
       "0                           Planetwise Flannel Wipes   \n",
       "1                              Planetwise Wipe Pouch   \n",
       "2                Annas Dream Full Quilt with 2 Shams   \n",
       "3  Stop Pacifier Sucking without tears with Thumb...   \n",
       "4  Stop Pacifier Sucking without tears with Thumb...   \n",
       "\n",
       "                                              review  rating  \n",
       "0  These flannel wipes are OK, but in my opinion ...       3  \n",
       "1  it came early and was not disappointed. i love...       5  \n",
       "2  Very soft and comfortable and warmer than it l...       5  \n",
       "3  This is a product well worth the purchase.  I ...       5  \n",
       "4  All of my kids have cried non-stop when I trie...       5  "
      ]
     },
     "execution_count": 97,
     "metadata": {},
     "output_type": "execute_result"
    }
   ],
   "source": [
    "products.head()"
   ]
  },
  {
   "cell_type": "markdown",
   "metadata": {},
   "source": [
    "## Build the word count vector for each review"
   ]
  },
  {
   "cell_type": "markdown",
   "metadata": {},
   "source": [
    "Let us explore a specific example of a baby product."
   ]
  },
  {
   "cell_type": "code",
   "execution_count": 98,
   "metadata": {},
   "outputs": [
    {
     "data": {
      "text/plain": [
       "name      The First Years Massaging Action Teether\n",
       "review                    A favorite in our house!\n",
       "rating                                           5\n",
       "Name: 269, dtype: object"
      ]
     },
     "execution_count": 98,
     "metadata": {},
     "output_type": "execute_result"
    }
   ],
   "source": [
    "products.iloc[269, :]"
   ]
  },
  {
   "cell_type": "code",
   "execution_count": 99,
   "metadata": {},
   "outputs": [
    {
     "data": {
      "text/plain": [
       "'A favorite in our house!'"
      ]
     },
     "execution_count": 99,
     "metadata": {},
     "output_type": "execute_result"
    }
   ],
   "source": [
    "products.iloc[269, :][\"review\"]"
   ]
  },
  {
   "cell_type": "markdown",
   "metadata": {},
   "source": [
    "Now, we will perform 2 simple data transformations:\n",
    "\n",
    "1. Remove punctuation.\n",
    "2. Transform the reviews into word-counts."
   ]
  },
  {
   "cell_type": "markdown",
   "metadata": {},
   "source": [
    "**The function below is different than \"SFrame\" in Graphlab.**"
   ]
  },
  {
   "cell_type": "code",
   "execution_count": 100,
   "metadata": {},
   "outputs": [],
   "source": [
    "def remove_punctuation(text):\n",
    "    import string\n",
    "    \n",
    "    for punc in string.punctuation:\n",
    "        text = text.replace(punc, \"\")\n",
    "        \n",
    "    return text"
   ]
  },
  {
   "cell_type": "code",
   "execution_count": 101,
   "metadata": {},
   "outputs": [],
   "source": [
    "products[\"review\"].fillna(\"0\", inplace=True)"
   ]
  },
  {
   "cell_type": "code",
   "execution_count": 102,
   "metadata": {},
   "outputs": [],
   "source": [
    "products[\"review_no_punc\"] = products[\"review\"].apply(remove_punctuation)"
   ]
  },
  {
   "cell_type": "code",
   "execution_count": 103,
   "metadata": {},
   "outputs": [
    {
     "data": {
      "text/html": [
       "<div>\n",
       "<style scoped>\n",
       "    .dataframe tbody tr th:only-of-type {\n",
       "        vertical-align: middle;\n",
       "    }\n",
       "\n",
       "    .dataframe tbody tr th {\n",
       "        vertical-align: top;\n",
       "    }\n",
       "\n",
       "    .dataframe thead th {\n",
       "        text-align: right;\n",
       "    }\n",
       "</style>\n",
       "<table border=\"1\" class=\"dataframe\">\n",
       "  <thead>\n",
       "    <tr style=\"text-align: right;\">\n",
       "      <th></th>\n",
       "      <th>name</th>\n",
       "      <th>review</th>\n",
       "      <th>rating</th>\n",
       "      <th>review_no_punc</th>\n",
       "    </tr>\n",
       "  </thead>\n",
       "  <tbody>\n",
       "    <tr>\n",
       "      <th>0</th>\n",
       "      <td>Planetwise Flannel Wipes</td>\n",
       "      <td>These flannel wipes are OK, but in my opinion ...</td>\n",
       "      <td>3</td>\n",
       "      <td>These flannel wipes are OK but in my opinion n...</td>\n",
       "    </tr>\n",
       "    <tr>\n",
       "      <th>1</th>\n",
       "      <td>Planetwise Wipe Pouch</td>\n",
       "      <td>it came early and was not disappointed. i love...</td>\n",
       "      <td>5</td>\n",
       "      <td>it came early and was not disappointed i love ...</td>\n",
       "    </tr>\n",
       "    <tr>\n",
       "      <th>2</th>\n",
       "      <td>Annas Dream Full Quilt with 2 Shams</td>\n",
       "      <td>Very soft and comfortable and warmer than it l...</td>\n",
       "      <td>5</td>\n",
       "      <td>Very soft and comfortable and warmer than it l...</td>\n",
       "    </tr>\n",
       "    <tr>\n",
       "      <th>3</th>\n",
       "      <td>Stop Pacifier Sucking without tears with Thumb...</td>\n",
       "      <td>This is a product well worth the purchase.  I ...</td>\n",
       "      <td>5</td>\n",
       "      <td>This is a product well worth the purchase  I h...</td>\n",
       "    </tr>\n",
       "    <tr>\n",
       "      <th>4</th>\n",
       "      <td>Stop Pacifier Sucking without tears with Thumb...</td>\n",
       "      <td>All of my kids have cried non-stop when I trie...</td>\n",
       "      <td>5</td>\n",
       "      <td>All of my kids have cried nonstop when I tried...</td>\n",
       "    </tr>\n",
       "  </tbody>\n",
       "</table>\n",
       "</div>"
      ],
      "text/plain": [
       "                                                name  \\\n",
       "0                           Planetwise Flannel Wipes   \n",
       "1                              Planetwise Wipe Pouch   \n",
       "2                Annas Dream Full Quilt with 2 Shams   \n",
       "3  Stop Pacifier Sucking without tears with Thumb...   \n",
       "4  Stop Pacifier Sucking without tears with Thumb...   \n",
       "\n",
       "                                              review  rating  \\\n",
       "0  These flannel wipes are OK, but in my opinion ...       3   \n",
       "1  it came early and was not disappointed. i love...       5   \n",
       "2  Very soft and comfortable and warmer than it l...       5   \n",
       "3  This is a product well worth the purchase.  I ...       5   \n",
       "4  All of my kids have cried non-stop when I trie...       5   \n",
       "\n",
       "                                      review_no_punc  \n",
       "0  These flannel wipes are OK but in my opinion n...  \n",
       "1  it came early and was not disappointed i love ...  \n",
       "2  Very soft and comfortable and warmer than it l...  \n",
       "3  This is a product well worth the purchase  I h...  \n",
       "4  All of my kids have cried nonstop when I tried...  "
      ]
     },
     "execution_count": 103,
     "metadata": {},
     "output_type": "execute_result"
    }
   ],
   "source": [
    "products.head()"
   ]
  },
  {
   "cell_type": "code",
   "execution_count": 104,
   "metadata": {},
   "outputs": [
    {
     "data": {
      "text/plain": [
       "'A favorite in our house'"
      ]
     },
     "execution_count": 104,
     "metadata": {},
     "output_type": "execute_result"
    }
   ],
   "source": [
    "products[\"review_no_punc\"][269]"
   ]
  },
  {
   "cell_type": "markdown",
   "metadata": {},
   "source": [
    "**The function above works as well as in Graphlab.**"
   ]
  },
  {
   "cell_type": "markdown",
   "metadata": {},
   "source": [
    "**Knowledge of Python:**\n",
    "\n",
    "1. When *products* is DataFrame, *products[\"review\"]* is pandas.Series, *products[[\"review\"]]* is DataFrame, *products[\"review\"][0]* is String, *products[[\"review\"]].loc[0]* is pandas.Series.\n",
    "2. *replace* function only works for String."
   ]
  },
  {
   "cell_type": "markdown",
   "metadata": {},
   "source": [
    "**The function below is different than Graphlab**"
   ]
  },
  {
   "cell_type": "code",
   "execution_count": 105,
   "metadata": {},
   "outputs": [],
   "source": [
    "def word_count(text):\n",
    "    words = {}\n",
    "    \n",
    "    words_list = text.split()\n",
    "    for i in range(len(words_list)):\n",
    "        if words_list[i] in words:\n",
    "            words[words_list[i]] += 1\n",
    "        else:\n",
    "            words[words_list[i]] = 1\n",
    "            \n",
    "            \n",
    "    return words"
   ]
  },
  {
   "cell_type": "code",
   "execution_count": 106,
   "metadata": {},
   "outputs": [],
   "source": [
    "products[\"word_count\"] = products[\"review_no_punc\"].apply(word_count)"
   ]
  },
  {
   "cell_type": "code",
   "execution_count": 107,
   "metadata": {},
   "outputs": [
    {
     "data": {
      "text/html": [
       "<div>\n",
       "<style scoped>\n",
       "    .dataframe tbody tr th:only-of-type {\n",
       "        vertical-align: middle;\n",
       "    }\n",
       "\n",
       "    .dataframe tbody tr th {\n",
       "        vertical-align: top;\n",
       "    }\n",
       "\n",
       "    .dataframe thead th {\n",
       "        text-align: right;\n",
       "    }\n",
       "</style>\n",
       "<table border=\"1\" class=\"dataframe\">\n",
       "  <thead>\n",
       "    <tr style=\"text-align: right;\">\n",
       "      <th></th>\n",
       "      <th>name</th>\n",
       "      <th>review</th>\n",
       "      <th>rating</th>\n",
       "      <th>review_no_punc</th>\n",
       "      <th>word_count</th>\n",
       "    </tr>\n",
       "  </thead>\n",
       "  <tbody>\n",
       "    <tr>\n",
       "      <th>0</th>\n",
       "      <td>Planetwise Flannel Wipes</td>\n",
       "      <td>These flannel wipes are OK, but in my opinion ...</td>\n",
       "      <td>3</td>\n",
       "      <td>These flannel wipes are OK but in my opinion n...</td>\n",
       "      <td>{u'and': 5, u'stink': 1, u'months': 1, u'order...</td>\n",
       "    </tr>\n",
       "    <tr>\n",
       "      <th>1</th>\n",
       "      <td>Planetwise Wipe Pouch</td>\n",
       "      <td>it came early and was not disappointed. i love...</td>\n",
       "      <td>5</td>\n",
       "      <td>it came early and was not disappointed i love ...</td>\n",
       "      <td>{u'and': 3, u'love': 1, u'it': 3, u'highly': 1...</td>\n",
       "    </tr>\n",
       "    <tr>\n",
       "      <th>2</th>\n",
       "      <td>Annas Dream Full Quilt with 2 Shams</td>\n",
       "      <td>Very soft and comfortable and warmer than it l...</td>\n",
       "      <td>5</td>\n",
       "      <td>Very soft and comfortable and warmer than it l...</td>\n",
       "      <td>{u'and': 2, u'quilt': 1, u'it': 1, u'comfortab...</td>\n",
       "    </tr>\n",
       "    <tr>\n",
       "      <th>3</th>\n",
       "      <td>Stop Pacifier Sucking without tears with Thumb...</td>\n",
       "      <td>This is a product well worth the purchase.  I ...</td>\n",
       "      <td>5</td>\n",
       "      <td>This is a product well worth the purchase  I h...</td>\n",
       "      <td>{u'and': 3, u'ingenious': 1, u'What': 1, u'lov...</td>\n",
       "    </tr>\n",
       "    <tr>\n",
       "      <th>4</th>\n",
       "      <td>Stop Pacifier Sucking without tears with Thumb...</td>\n",
       "      <td>All of my kids have cried non-stop when I trie...</td>\n",
       "      <td>5</td>\n",
       "      <td>All of my kids have cried nonstop when I tried...</td>\n",
       "      <td>{u'and': 2, u'all': 1, u'help': 1, u'cried': 1...</td>\n",
       "    </tr>\n",
       "  </tbody>\n",
       "</table>\n",
       "</div>"
      ],
      "text/plain": [
       "                                                name  \\\n",
       "0                           Planetwise Flannel Wipes   \n",
       "1                              Planetwise Wipe Pouch   \n",
       "2                Annas Dream Full Quilt with 2 Shams   \n",
       "3  Stop Pacifier Sucking without tears with Thumb...   \n",
       "4  Stop Pacifier Sucking without tears with Thumb...   \n",
       "\n",
       "                                              review  rating  \\\n",
       "0  These flannel wipes are OK, but in my opinion ...       3   \n",
       "1  it came early and was not disappointed. i love...       5   \n",
       "2  Very soft and comfortable and warmer than it l...       5   \n",
       "3  This is a product well worth the purchase.  I ...       5   \n",
       "4  All of my kids have cried non-stop when I trie...       5   \n",
       "\n",
       "                                      review_no_punc  \\\n",
       "0  These flannel wipes are OK but in my opinion n...   \n",
       "1  it came early and was not disappointed i love ...   \n",
       "2  Very soft and comfortable and warmer than it l...   \n",
       "3  This is a product well worth the purchase  I h...   \n",
       "4  All of my kids have cried nonstop when I tried...   \n",
       "\n",
       "                                          word_count  \n",
       "0  {u'and': 5, u'stink': 1, u'months': 1, u'order...  \n",
       "1  {u'and': 3, u'love': 1, u'it': 3, u'highly': 1...  \n",
       "2  {u'and': 2, u'quilt': 1, u'it': 1, u'comfortab...  \n",
       "3  {u'and': 3, u'ingenious': 1, u'What': 1, u'lov...  \n",
       "4  {u'and': 2, u'all': 1, u'help': 1, u'cried': 1...  "
      ]
     },
     "execution_count": 107,
     "metadata": {},
     "output_type": "execute_result"
    }
   ],
   "source": [
    "products.head()"
   ]
  },
  {
   "cell_type": "markdown",
   "metadata": {},
   "source": [
    "**The function above works as well as Graphlab.**"
   ]
  },
  {
   "cell_type": "markdown",
   "metadata": {},
   "source": [
    "## Extract sentiments"
   ]
  },
  {
   "cell_type": "markdown",
   "metadata": {},
   "source": [
    "We will **ignore** all reviews with *rating = 3*, since they tend to have a neutral sentiment."
   ]
  },
  {
   "cell_type": "code",
   "execution_count": 108,
   "metadata": {},
   "outputs": [
    {
     "data": {
      "text/plain": [
       "166752"
      ]
     },
     "execution_count": 108,
     "metadata": {},
     "output_type": "execute_result"
    }
   ],
   "source": [
    "products = products[products[\"rating\"] != 3]\n",
    "\n",
    "len(products)"
   ]
  },
  {
   "cell_type": "markdown",
   "metadata": {},
   "source": [
    "Now, we will assign reviews with a rating of 4 or higher to be *positive* reviews, while the ones with rating of 2 or lower are *negative*. For the sentiment column, we use +1 for the positive class label and -1 for the negative class label."
   ]
  },
  {
   "cell_type": "code",
   "execution_count": 109,
   "metadata": {},
   "outputs": [
    {
     "data": {
      "text/html": [
       "<div>\n",
       "<style scoped>\n",
       "    .dataframe tbody tr th:only-of-type {\n",
       "        vertical-align: middle;\n",
       "    }\n",
       "\n",
       "    .dataframe tbody tr th {\n",
       "        vertical-align: top;\n",
       "    }\n",
       "\n",
       "    .dataframe thead th {\n",
       "        text-align: right;\n",
       "    }\n",
       "</style>\n",
       "<table border=\"1\" class=\"dataframe\">\n",
       "  <thead>\n",
       "    <tr style=\"text-align: right;\">\n",
       "      <th></th>\n",
       "      <th>name</th>\n",
       "      <th>review</th>\n",
       "      <th>rating</th>\n",
       "      <th>review_no_punc</th>\n",
       "      <th>word_count</th>\n",
       "      <th>sentiment</th>\n",
       "    </tr>\n",
       "  </thead>\n",
       "  <tbody>\n",
       "    <tr>\n",
       "      <th>1</th>\n",
       "      <td>Planetwise Wipe Pouch</td>\n",
       "      <td>it came early and was not disappointed. i love...</td>\n",
       "      <td>5</td>\n",
       "      <td>it came early and was not disappointed i love ...</td>\n",
       "      <td>{u'and': 3, u'love': 1, u'it': 3, u'highly': 1...</td>\n",
       "      <td>1</td>\n",
       "    </tr>\n",
       "    <tr>\n",
       "      <th>2</th>\n",
       "      <td>Annas Dream Full Quilt with 2 Shams</td>\n",
       "      <td>Very soft and comfortable and warmer than it l...</td>\n",
       "      <td>5</td>\n",
       "      <td>Very soft and comfortable and warmer than it l...</td>\n",
       "      <td>{u'and': 2, u'quilt': 1, u'it': 1, u'comfortab...</td>\n",
       "      <td>1</td>\n",
       "    </tr>\n",
       "    <tr>\n",
       "      <th>3</th>\n",
       "      <td>Stop Pacifier Sucking without tears with Thumb...</td>\n",
       "      <td>This is a product well worth the purchase.  I ...</td>\n",
       "      <td>5</td>\n",
       "      <td>This is a product well worth the purchase  I h...</td>\n",
       "      <td>{u'and': 3, u'ingenious': 1, u'What': 1, u'lov...</td>\n",
       "      <td>1</td>\n",
       "    </tr>\n",
       "    <tr>\n",
       "      <th>4</th>\n",
       "      <td>Stop Pacifier Sucking without tears with Thumb...</td>\n",
       "      <td>All of my kids have cried non-stop when I trie...</td>\n",
       "      <td>5</td>\n",
       "      <td>All of my kids have cried nonstop when I tried...</td>\n",
       "      <td>{u'and': 2, u'all': 1, u'help': 1, u'cried': 1...</td>\n",
       "      <td>1</td>\n",
       "    </tr>\n",
       "    <tr>\n",
       "      <th>5</th>\n",
       "      <td>Stop Pacifier Sucking without tears with Thumb...</td>\n",
       "      <td>When the Binky Fairy came to our house, we did...</td>\n",
       "      <td>5</td>\n",
       "      <td>When the Binky Fairy came to our house we didn...</td>\n",
       "      <td>{u'and': 2, u'cute': 1, u'would': 1, u'help': ...</td>\n",
       "      <td>1</td>\n",
       "    </tr>\n",
       "  </tbody>\n",
       "</table>\n",
       "</div>"
      ],
      "text/plain": [
       "                                                name  \\\n",
       "1                              Planetwise Wipe Pouch   \n",
       "2                Annas Dream Full Quilt with 2 Shams   \n",
       "3  Stop Pacifier Sucking without tears with Thumb...   \n",
       "4  Stop Pacifier Sucking without tears with Thumb...   \n",
       "5  Stop Pacifier Sucking without tears with Thumb...   \n",
       "\n",
       "                                              review  rating  \\\n",
       "1  it came early and was not disappointed. i love...       5   \n",
       "2  Very soft and comfortable and warmer than it l...       5   \n",
       "3  This is a product well worth the purchase.  I ...       5   \n",
       "4  All of my kids have cried non-stop when I trie...       5   \n",
       "5  When the Binky Fairy came to our house, we did...       5   \n",
       "\n",
       "                                      review_no_punc  \\\n",
       "1  it came early and was not disappointed i love ...   \n",
       "2  Very soft and comfortable and warmer than it l...   \n",
       "3  This is a product well worth the purchase  I h...   \n",
       "4  All of my kids have cried nonstop when I tried...   \n",
       "5  When the Binky Fairy came to our house we didn...   \n",
       "\n",
       "                                          word_count  sentiment  \n",
       "1  {u'and': 3, u'love': 1, u'it': 3, u'highly': 1...          1  \n",
       "2  {u'and': 2, u'quilt': 1, u'it': 1, u'comfortab...          1  \n",
       "3  {u'and': 3, u'ingenious': 1, u'What': 1, u'lov...          1  \n",
       "4  {u'and': 2, u'all': 1, u'help': 1, u'cried': 1...          1  \n",
       "5  {u'and': 2, u'cute': 1, u'would': 1, u'help': ...          1  "
      ]
     },
     "execution_count": 109,
     "metadata": {},
     "output_type": "execute_result"
    }
   ],
   "source": [
    "products[\"sentiment\"] = products[\"rating\"].apply(lambda rating: +1 if rating>3 else -1)\n",
    "\n",
    "products.head()"
   ]
  },
  {
   "cell_type": "markdown",
   "metadata": {},
   "source": [
    "## Split data into training and test sets"
   ]
  },
  {
   "cell_type": "markdown",
   "metadata": {},
   "source": [
    "Let's perform a train/test split with 80% of the data in the training set and 20% of the data in the test set. We use `seed=1` so that everyone gets the same result."
   ]
  },
  {
   "cell_type": "markdown",
   "metadata": {},
   "source": [
    "**The method below is different than Graphlab.**"
   ]
  },
  {
   "cell_type": "code",
   "execution_count": 110,
   "metadata": {},
   "outputs": [
    {
     "name": "stdout",
     "output_type": "stream",
     "text": [
      "133401\n",
      "33351\n"
     ]
    }
   ],
   "source": [
    "train_data, test_data = train_test_split(products, test_size=0.2, random_state=42)\n",
    "\n",
    "print len(train_data)\n",
    "print len(test_data)"
   ]
  },
  {
   "cell_type": "markdown",
   "metadata": {},
   "source": [
    "**In Graphlab, the size is 133416/33336, pretty close.**"
   ]
  },
  {
   "cell_type": "markdown",
   "metadata": {},
   "source": [
    "# Train a sentiment classifier with logistic regression"
   ]
  },
  {
   "cell_type": "markdown",
   "metadata": {},
   "source": [
    "We will now use logistic regression to create a sentiment classifier on the training data. This model will use the column **word_count** as a feature and the column **sentiment** as the target."
   ]
  },
  {
   "cell_type": "code",
   "execution_count": 111,
   "metadata": {},
   "outputs": [
    {
     "data": {
      "text/html": [
       "<div>\n",
       "<style scoped>\n",
       "    .dataframe tbody tr th:only-of-type {\n",
       "        vertical-align: middle;\n",
       "    }\n",
       "\n",
       "    .dataframe tbody tr th {\n",
       "        vertical-align: top;\n",
       "    }\n",
       "\n",
       "    .dataframe thead th {\n",
       "        text-align: right;\n",
       "    }\n",
       "</style>\n",
       "<table border=\"1\" class=\"dataframe\">\n",
       "  <thead>\n",
       "    <tr style=\"text-align: right;\">\n",
       "      <th></th>\n",
       "      <th>name</th>\n",
       "      <th>review</th>\n",
       "      <th>rating</th>\n",
       "      <th>review_no_punc</th>\n",
       "      <th>word_count</th>\n",
       "      <th>sentiment</th>\n",
       "    </tr>\n",
       "  </thead>\n",
       "  <tbody>\n",
       "    <tr>\n",
       "      <th>1</th>\n",
       "      <td>Planetwise Wipe Pouch</td>\n",
       "      <td>it came early and was not disappointed. i love...</td>\n",
       "      <td>5</td>\n",
       "      <td>it came early and was not disappointed i love ...</td>\n",
       "      <td>{u'and': 3, u'love': 1, u'it': 3, u'highly': 1...</td>\n",
       "      <td>1</td>\n",
       "    </tr>\n",
       "    <tr>\n",
       "      <th>2</th>\n",
       "      <td>Annas Dream Full Quilt with 2 Shams</td>\n",
       "      <td>Very soft and comfortable and warmer than it l...</td>\n",
       "      <td>5</td>\n",
       "      <td>Very soft and comfortable and warmer than it l...</td>\n",
       "      <td>{u'and': 2, u'quilt': 1, u'it': 1, u'comfortab...</td>\n",
       "      <td>1</td>\n",
       "    </tr>\n",
       "    <tr>\n",
       "      <th>3</th>\n",
       "      <td>Stop Pacifier Sucking without tears with Thumb...</td>\n",
       "      <td>This is a product well worth the purchase.  I ...</td>\n",
       "      <td>5</td>\n",
       "      <td>This is a product well worth the purchase  I h...</td>\n",
       "      <td>{u'and': 3, u'ingenious': 1, u'What': 1, u'lov...</td>\n",
       "      <td>1</td>\n",
       "    </tr>\n",
       "    <tr>\n",
       "      <th>4</th>\n",
       "      <td>Stop Pacifier Sucking without tears with Thumb...</td>\n",
       "      <td>All of my kids have cried non-stop when I trie...</td>\n",
       "      <td>5</td>\n",
       "      <td>All of my kids have cried nonstop when I tried...</td>\n",
       "      <td>{u'and': 2, u'all': 1, u'help': 1, u'cried': 1...</td>\n",
       "      <td>1</td>\n",
       "    </tr>\n",
       "    <tr>\n",
       "      <th>5</th>\n",
       "      <td>Stop Pacifier Sucking without tears with Thumb...</td>\n",
       "      <td>When the Binky Fairy came to our house, we did...</td>\n",
       "      <td>5</td>\n",
       "      <td>When the Binky Fairy came to our house we didn...</td>\n",
       "      <td>{u'and': 2, u'cute': 1, u'would': 1, u'help': ...</td>\n",
       "      <td>1</td>\n",
       "    </tr>\n",
       "  </tbody>\n",
       "</table>\n",
       "</div>"
      ],
      "text/plain": [
       "                                                name  \\\n",
       "1                              Planetwise Wipe Pouch   \n",
       "2                Annas Dream Full Quilt with 2 Shams   \n",
       "3  Stop Pacifier Sucking without tears with Thumb...   \n",
       "4  Stop Pacifier Sucking without tears with Thumb...   \n",
       "5  Stop Pacifier Sucking without tears with Thumb...   \n",
       "\n",
       "                                              review  rating  \\\n",
       "1  it came early and was not disappointed. i love...       5   \n",
       "2  Very soft and comfortable and warmer than it l...       5   \n",
       "3  This is a product well worth the purchase.  I ...       5   \n",
       "4  All of my kids have cried non-stop when I trie...       5   \n",
       "5  When the Binky Fairy came to our house, we did...       5   \n",
       "\n",
       "                                      review_no_punc  \\\n",
       "1  it came early and was not disappointed i love ...   \n",
       "2  Very soft and comfortable and warmer than it l...   \n",
       "3  This is a product well worth the purchase  I h...   \n",
       "4  All of my kids have cried nonstop when I tried...   \n",
       "5  When the Binky Fairy came to our house we didn...   \n",
       "\n",
       "                                          word_count  sentiment  \n",
       "1  {u'and': 3, u'love': 1, u'it': 3, u'highly': 1...          1  \n",
       "2  {u'and': 2, u'quilt': 1, u'it': 1, u'comfortab...          1  \n",
       "3  {u'and': 3, u'ingenious': 1, u'What': 1, u'lov...          1  \n",
       "4  {u'and': 2, u'all': 1, u'help': 1, u'cried': 1...          1  \n",
       "5  {u'and': 2, u'cute': 1, u'would': 1, u'help': ...          1  "
      ]
     },
     "execution_count": 111,
     "metadata": {},
     "output_type": "execute_result"
    }
   ],
   "source": [
    "products.head()"
   ]
  },
  {
   "cell_type": "code",
   "execution_count": 112,
   "metadata": {},
   "outputs": [],
   "source": [
    "products = products.reset_index(drop=True)"
   ]
  },
  {
   "cell_type": "code",
   "execution_count": 113,
   "metadata": {},
   "outputs": [
    {
     "data": {
      "text/html": [
       "<div>\n",
       "<style scoped>\n",
       "    .dataframe tbody tr th:only-of-type {\n",
       "        vertical-align: middle;\n",
       "    }\n",
       "\n",
       "    .dataframe tbody tr th {\n",
       "        vertical-align: top;\n",
       "    }\n",
       "\n",
       "    .dataframe thead th {\n",
       "        text-align: right;\n",
       "    }\n",
       "</style>\n",
       "<table border=\"1\" class=\"dataframe\">\n",
       "  <thead>\n",
       "    <tr style=\"text-align: right;\">\n",
       "      <th></th>\n",
       "      <th>name</th>\n",
       "      <th>review</th>\n",
       "      <th>rating</th>\n",
       "      <th>review_no_punc</th>\n",
       "      <th>word_count</th>\n",
       "      <th>sentiment</th>\n",
       "    </tr>\n",
       "  </thead>\n",
       "  <tbody>\n",
       "    <tr>\n",
       "      <th>0</th>\n",
       "      <td>Planetwise Wipe Pouch</td>\n",
       "      <td>it came early and was not disappointed. i love...</td>\n",
       "      <td>5</td>\n",
       "      <td>it came early and was not disappointed i love ...</td>\n",
       "      <td>{u'and': 3, u'love': 1, u'it': 3, u'highly': 1...</td>\n",
       "      <td>1</td>\n",
       "    </tr>\n",
       "    <tr>\n",
       "      <th>1</th>\n",
       "      <td>Annas Dream Full Quilt with 2 Shams</td>\n",
       "      <td>Very soft and comfortable and warmer than it l...</td>\n",
       "      <td>5</td>\n",
       "      <td>Very soft and comfortable and warmer than it l...</td>\n",
       "      <td>{u'and': 2, u'quilt': 1, u'it': 1, u'comfortab...</td>\n",
       "      <td>1</td>\n",
       "    </tr>\n",
       "    <tr>\n",
       "      <th>2</th>\n",
       "      <td>Stop Pacifier Sucking without tears with Thumb...</td>\n",
       "      <td>This is a product well worth the purchase.  I ...</td>\n",
       "      <td>5</td>\n",
       "      <td>This is a product well worth the purchase  I h...</td>\n",
       "      <td>{u'and': 3, u'ingenious': 1, u'What': 1, u'lov...</td>\n",
       "      <td>1</td>\n",
       "    </tr>\n",
       "    <tr>\n",
       "      <th>3</th>\n",
       "      <td>Stop Pacifier Sucking without tears with Thumb...</td>\n",
       "      <td>All of my kids have cried non-stop when I trie...</td>\n",
       "      <td>5</td>\n",
       "      <td>All of my kids have cried nonstop when I tried...</td>\n",
       "      <td>{u'and': 2, u'all': 1, u'help': 1, u'cried': 1...</td>\n",
       "      <td>1</td>\n",
       "    </tr>\n",
       "    <tr>\n",
       "      <th>4</th>\n",
       "      <td>Stop Pacifier Sucking without tears with Thumb...</td>\n",
       "      <td>When the Binky Fairy came to our house, we did...</td>\n",
       "      <td>5</td>\n",
       "      <td>When the Binky Fairy came to our house we didn...</td>\n",
       "      <td>{u'and': 2, u'cute': 1, u'would': 1, u'help': ...</td>\n",
       "      <td>1</td>\n",
       "    </tr>\n",
       "  </tbody>\n",
       "</table>\n",
       "</div>"
      ],
      "text/plain": [
       "                                                name  \\\n",
       "0                              Planetwise Wipe Pouch   \n",
       "1                Annas Dream Full Quilt with 2 Shams   \n",
       "2  Stop Pacifier Sucking without tears with Thumb...   \n",
       "3  Stop Pacifier Sucking without tears with Thumb...   \n",
       "4  Stop Pacifier Sucking without tears with Thumb...   \n",
       "\n",
       "                                              review  rating  \\\n",
       "0  it came early and was not disappointed. i love...       5   \n",
       "1  Very soft and comfortable and warmer than it l...       5   \n",
       "2  This is a product well worth the purchase.  I ...       5   \n",
       "3  All of my kids have cried non-stop when I trie...       5   \n",
       "4  When the Binky Fairy came to our house, we did...       5   \n",
       "\n",
       "                                      review_no_punc  \\\n",
       "0  it came early and was not disappointed i love ...   \n",
       "1  Very soft and comfortable and warmer than it l...   \n",
       "2  This is a product well worth the purchase  I h...   \n",
       "3  All of my kids have cried nonstop when I tried...   \n",
       "4  When the Binky Fairy came to our house we didn...   \n",
       "\n",
       "                                          word_count  sentiment  \n",
       "0  {u'and': 3, u'love': 1, u'it': 3, u'highly': 1...          1  \n",
       "1  {u'and': 2, u'quilt': 1, u'it': 1, u'comfortab...          1  \n",
       "2  {u'and': 3, u'ingenious': 1, u'What': 1, u'lov...          1  \n",
       "3  {u'and': 2, u'all': 1, u'help': 1, u'cried': 1...          1  \n",
       "4  {u'and': 2, u'cute': 1, u'would': 1, u'help': ...          1  "
      ]
     },
     "execution_count": 113,
     "metadata": {},
     "output_type": "execute_result"
    }
   ],
   "source": [
    "products.head()"
   ]
  },
  {
   "cell_type": "markdown",
   "metadata": {},
   "source": [
    "**The code below transforms the [\"word_count\"] to sparse matrix.**"
   ]
  },
  {
   "cell_type": "code",
   "execution_count": 21,
   "metadata": {},
   "outputs": [],
   "source": [
    "# start = time.time()\n",
    "\n",
    "# df_new = pd.DataFrame()\n",
    "\n",
    "# for i in range(len(products)):\n",
    "#     ddd = pd.DataFrame.from_dict(products[\"word_count\"][i], orient=\"index\")\n",
    "#     ddd = ddd.reset_index()\n",
    "#     ddd.columns = [\"feature\", \"value\"]\n",
    "#     ddd.insert(loc=0, column=\"id\", value=i)\n",
    "    \n",
    "#     df_new = df_new.append(ddd, ignore_index=True)\n",
    "    \n",
    "    \n",
    "# runtime = time.time() - start"
   ]
  },
  {
   "cell_type": "markdown",
   "metadata": {},
   "source": [
    "**Ran a whole day!!!!**"
   ]
  },
  {
   "cell_type": "markdown",
   "metadata": {},
   "source": [
    "To save time, we only use the first 1000 observations."
   ]
  },
  {
   "cell_type": "code",
   "execution_count": 363,
   "metadata": {},
   "outputs": [
    {
     "name": "stdout",
     "output_type": "stream",
     "text": [
      "800\n",
      "200\n",
      "1000\n"
     ]
    }
   ],
   "source": [
    "train_data_1000_df, test_data_1000_df = train_test_split(products.iloc[:1000, :], test_size=0.2, random_state=42)\n",
    "\n",
    "print len(train_data_1000_df)\n",
    "print len(test_data_1000_df)\n",
    "\n",
    "products_1000_df = train_data_1000_df.append(test_data_1000_df)\n",
    "\n",
    "print len(products_1000_df)"
   ]
  },
  {
   "cell_type": "code",
   "execution_count": 364,
   "metadata": {},
   "outputs": [],
   "source": [
    "products_1000_df = products_1000_df.reset_index(drop=True)"
   ]
  },
  {
   "cell_type": "code",
   "execution_count": 365,
   "metadata": {},
   "outputs": [],
   "source": [
    "df_new = products_1000_df[\"word_count\"].apply(pd.Series).stack()\n",
    "df_new = df_new.reset_index()\n",
    "df_new.columns = [\"id\", \"feature\", \"value\"]"
   ]
  },
  {
   "cell_type": "code",
   "execution_count": 366,
   "metadata": {},
   "outputs": [],
   "source": [
    "from sklearn.preprocessing import LabelEncoder"
   ]
  },
  {
   "cell_type": "code",
   "execution_count": 367,
   "metadata": {},
   "outputs": [],
   "source": [
    "f = LabelEncoder()\n",
    "df_new_label = f.fit_transform(df_new[\"feature\"])\n",
    "\n",
    "df_new[\"feature_id\"] = df_new_label"
   ]
  },
  {
   "cell_type": "code",
   "execution_count": 368,
   "metadata": {},
   "outputs": [],
   "source": [
    "from scipy.sparse import csr_matrix\n",
    "\n",
    "v = np.array(df_new[\"value\"])\n",
    "i = np.array(df_new[\"id\"])\n",
    "j = np.array(df_new[\"feature_id\"])\n",
    "\n",
    "row = df_new[\"id\"].max() + 1\n",
    "col = j.max() + 1\n",
    "\n",
    "mat = csr_matrix((v, (i, j)), shape=(row, col))\n",
    "features_toarray = mat.toarray()"
   ]
  },
  {
   "cell_type": "code",
   "execution_count": 369,
   "metadata": {},
   "outputs": [],
   "source": [
    "sentiment_toarray = np.array(products_1000_df[\"sentiment\"])\n",
    "sentiment_toarray = sentiment_toarray[:, None]"
   ]
  },
  {
   "cell_type": "code",
   "execution_count": 370,
   "metadata": {},
   "outputs": [
    {
     "name": "stdout",
     "output_type": "stream",
     "text": [
      "(1000L, 7064L)\n",
      "(1000L, 1L)\n"
     ]
    }
   ],
   "source": [
    "print features_toarray.shape\n",
    "print sentiment_toarray.shape"
   ]
  },
  {
   "cell_type": "code",
   "execution_count": 371,
   "metadata": {},
   "outputs": [],
   "source": [
    "products_1000_array = np.hstack((features_toarray, sentiment_toarray))"
   ]
  },
  {
   "cell_type": "code",
   "execution_count": 372,
   "metadata": {},
   "outputs": [
    {
     "name": "stdout",
     "output_type": "stream",
     "text": [
      "(1000L, 7065L)\n"
     ]
    },
    {
     "data": {
      "text/plain": [
       "array([[ 0.,  0.,  0., ...,  0.,  0.,  1.],\n",
       "       [ 0.,  0.,  0., ...,  0.,  0.,  1.],\n",
       "       [ 0.,  0.,  0., ...,  0.,  0., -1.],\n",
       "       ...,\n",
       "       [ 0.,  0.,  0., ...,  0.,  0.,  1.],\n",
       "       [ 0.,  0.,  0., ...,  0.,  0.,  1.],\n",
       "       [ 0.,  0.,  0., ...,  0.,  0., -1.]])"
      ]
     },
     "execution_count": 372,
     "metadata": {},
     "output_type": "execute_result"
    }
   ],
   "source": [
    "print products_1000_array.shape\n",
    "\n",
    "products_1000_array"
   ]
  },
  {
   "cell_type": "code",
   "execution_count": 373,
   "metadata": {},
   "outputs": [
    {
     "name": "stdout",
     "output_type": "stream",
     "text": [
      "800\n",
      "200\n"
     ]
    }
   ],
   "source": [
    "train_data_1000_arr = products_1000_array[:800, :]\n",
    "test_data_1000_arr = products_1000_array[800:, :]\n",
    "\n",
    "print len(train_data_1000_arr)\n",
    "print len(test_data_1000_arr)"
   ]
  },
  {
   "cell_type": "markdown",
   "metadata": {},
   "source": [
    "# Train a sentiment classifier with logistic regression"
   ]
  },
  {
   "cell_type": "code",
   "execution_count": 374,
   "metadata": {},
   "outputs": [],
   "source": [
    "from sklearn.linear_model import LogisticRegression\n",
    "\n",
    "sentiment_model = LogisticRegression(solver=\"lbfgs\").fit(train_data_1000_arr[:, :-1], train_data_1000_arr[:, -1])"
   ]
  },
  {
   "cell_type": "code",
   "execution_count": 375,
   "metadata": {},
   "outputs": [
    {
     "data": {
      "text/plain": [
       "LogisticRegression(C=1.0, class_weight=None, dual=False, fit_intercept=True,\n",
       "          intercept_scaling=1, max_iter=100, multi_class='warn',\n",
       "          n_jobs=None, penalty='l2', random_state=None, solver='lbfgs',\n",
       "          tol=0.0001, verbose=0, warm_start=False)"
      ]
     },
     "execution_count": 375,
     "metadata": {},
     "output_type": "execute_result"
    }
   ],
   "source": [
    "sentiment_model"
   ]
  },
  {
   "cell_type": "code",
   "execution_count": 376,
   "metadata": {},
   "outputs": [
    {
     "name": "stdout",
     "output_type": "stream",
     "text": [
      "[[-0.00472237  0.00015791  0.03777541 ...  0.          0.00669177\n",
      "   0.0250207 ]]\n",
      "[1.10986443]\n"
     ]
    }
   ],
   "source": [
    "weights = sentiment_model.coef_\n",
    "intercept = sentiment_model.intercept_\n",
    "\n",
    "print weights\n",
    "print intercept"
   ]
  },
  {
   "cell_type": "code",
   "execution_count": 377,
   "metadata": {},
   "outputs": [
    {
     "name": "stdout",
     "output_type": "stream",
     "text": [
      "Number of positive weights: 3993\n",
      "Number of negative weights: 2132\n",
      "Number of zero weights: 939\n"
     ]
    }
   ],
   "source": [
    "num_positive_weights = len(weights[weights > 0])\n",
    "num_negative_weights = len(weights[weights < 0])\n",
    "num_zero_weights = len(weights[weights == 0])\n",
    "\n",
    "print \"Number of positive weights: %s\" % num_positive_weights\n",
    "print \"Number of negative weights: %s\" % num_negative_weights\n",
    "print \"Number of zero weights: %s\" % num_zero_weights"
   ]
  },
  {
   "cell_type": "markdown",
   "metadata": {},
   "source": [
    "## Making predictions with logistic regression"
   ]
  },
  {
   "cell_type": "code",
   "execution_count": 378,
   "metadata": {},
   "outputs": [
    {
     "name": "stdout",
     "output_type": "stream",
     "text": [
      "811    1\n",
      "76     5\n",
      "636    5\n",
      "Name: rating, dtype: int64\n"
     ]
    },
    {
     "data": {
      "text/html": [
       "<div>\n",
       "<style scoped>\n",
       "    .dataframe tbody tr th:only-of-type {\n",
       "        vertical-align: middle;\n",
       "    }\n",
       "\n",
       "    .dataframe tbody tr th {\n",
       "        vertical-align: top;\n",
       "    }\n",
       "\n",
       "    .dataframe thead th {\n",
       "        text-align: right;\n",
       "    }\n",
       "</style>\n",
       "<table border=\"1\" class=\"dataframe\">\n",
       "  <thead>\n",
       "    <tr style=\"text-align: right;\">\n",
       "      <th></th>\n",
       "      <th>name</th>\n",
       "      <th>review</th>\n",
       "      <th>rating</th>\n",
       "      <th>review_no_punc</th>\n",
       "      <th>word_count</th>\n",
       "      <th>sentiment</th>\n",
       "    </tr>\n",
       "  </thead>\n",
       "  <tbody>\n",
       "    <tr>\n",
       "      <th>811</th>\n",
       "      <td>Safety 1st Tot-Lok Magnetic Key</td>\n",
       "      <td>Not the Tot-Lok key shown in the picture.  It ...</td>\n",
       "      <td>1</td>\n",
       "      <td>Not the TotLok key shown in the picture  It is...</td>\n",
       "      <td>{u'customer': 1, u'picture': 1, u'shown': 1, u...</td>\n",
       "      <td>-1</td>\n",
       "    </tr>\n",
       "    <tr>\n",
       "      <th>76</th>\n",
       "      <td>Cloth Diaper Pins Stainless Steel Traditional ...</td>\n",
       "      <td>As another reviewer noted, these are great for...</td>\n",
       "      <td>5</td>\n",
       "      <td>As another reviewer noted these are great for ...</td>\n",
       "      <td>{u'and': 4, u'dont': 1, u'just': 2, u'Great': ...</td>\n",
       "      <td>1</td>\n",
       "    </tr>\n",
       "    <tr>\n",
       "      <th>636</th>\n",
       "      <td>Summer Infant Ultimate Crib Sheet, 52&amp;quot; x ...</td>\n",
       "      <td>I have 4 daughters and was greatful for this c...</td>\n",
       "      <td>5</td>\n",
       "      <td>I have 4 daughters and was greatful for this c...</td>\n",
       "      <td>{u'and': 4, u'IDEA': 1, u'all': 2, u'placing':...</td>\n",
       "      <td>1</td>\n",
       "    </tr>\n",
       "  </tbody>\n",
       "</table>\n",
       "</div>"
      ],
      "text/plain": [
       "                                                  name  \\\n",
       "811                    Safety 1st Tot-Lok Magnetic Key   \n",
       "76   Cloth Diaper Pins Stainless Steel Traditional ...   \n",
       "636  Summer Infant Ultimate Crib Sheet, 52&quot; x ...   \n",
       "\n",
       "                                                review  rating  \\\n",
       "811  Not the Tot-Lok key shown in the picture.  It ...       1   \n",
       "76   As another reviewer noted, these are great for...       5   \n",
       "636  I have 4 daughters and was greatful for this c...       5   \n",
       "\n",
       "                                        review_no_punc  \\\n",
       "811  Not the TotLok key shown in the picture  It is...   \n",
       "76   As another reviewer noted these are great for ...   \n",
       "636  I have 4 daughters and was greatful for this c...   \n",
       "\n",
       "                                            word_count  sentiment  \n",
       "811  {u'customer': 1, u'picture': 1, u'shown': 1, u...         -1  \n",
       "76   {u'and': 4, u'dont': 1, u'just': 2, u'Great': ...          1  \n",
       "636  {u'and': 4, u'IDEA': 1, u'all': 2, u'placing':...          1  "
      ]
     },
     "execution_count": 378,
     "metadata": {},
     "output_type": "execute_result"
    }
   ],
   "source": [
    "sample_test_data = test_data_1000_df.iloc[10:13, :]\n",
    "\n",
    "print sample_test_data[\"rating\"]\n",
    "sample_test_data"
   ]
  },
  {
   "cell_type": "code",
   "execution_count": 379,
   "metadata": {},
   "outputs": [
    {
     "data": {
      "text/plain": [
       "\"Not the Tot-Lok key shown in the picture.  It is similar, but not the Tot-Lok key. The customer service is terrible. Don't buy from this seller.\""
      ]
     },
     "execution_count": 379,
     "metadata": {},
     "output_type": "execute_result"
    }
   ],
   "source": [
    "sample_test_data.iloc[0, :][\"review\"]"
   ]
  },
  {
   "cell_type": "code",
   "execution_count": 380,
   "metadata": {},
   "outputs": [
    {
     "data": {
      "text/plain": [
       "\"As another reviewer noted, these are great for matching socks before washing.  Now once the socks come out of the washer, I hang them to dry with the pins still on.  The socks stay on the line to dry without clothespins, they just hang with one sock on each side of the line.  After they are dried, I just open the pin and leave it by the hamper on a shelf.  As I put dirty socks into the hamper, I grab a pin and use it.  Has saved a lot of time and I don't have the problem of lost socks or mismatched socks on my feet.  Great idea and am glad I read about this here on the reviews.  Wish I had done this my whole life.\""
      ]
     },
     "execution_count": 380,
     "metadata": {},
     "output_type": "execute_result"
    }
   ],
   "source": [
    "sample_test_data.iloc[1, :][\"review\"]"
   ]
  },
  {
   "cell_type": "code",
   "execution_count": 381,
   "metadata": {},
   "outputs": [
    {
     "data": {
      "text/plain": [
       "'I have 4 daughters and was greatful for this crib sheet.  I had purchased 1 over the telephone several years ago from an ad.  After I received it, I called and purchased 3 more.  My kids are a little older now and no longer in baby beds, but I still use them when they are sick by placing them under their pillows.  It still saves me from changing sheets all of the time.  I have purchased a sheet for everyone I know having a baby for the past 5 years and they all end up buying more of them. THIS IS THE BEST IDEA FOR A CRIB SHEET THAT WAS EVER INVENTED!!!!!'"
      ]
     },
     "execution_count": 381,
     "metadata": {},
     "output_type": "execute_result"
    }
   ],
   "source": [
    "sample_test_data.iloc[2, :][\"review\"]"
   ]
  },
  {
   "cell_type": "code",
   "execution_count": 389,
   "metadata": {},
   "outputs": [],
   "source": [
    "scores = intercept + np.dot(test_data_1000_arr[:, :-1], weights.T)[10:13]"
   ]
  },
  {
   "cell_type": "code",
   "execution_count": 390,
   "metadata": {},
   "outputs": [
    {
     "data": {
      "text/plain": [
       "array([[-0.46432869],\n",
       "       [ 4.53245859],\n",
       "       [ 5.27352481]])"
      ]
     },
     "execution_count": 390,
     "metadata": {},
     "output_type": "execute_result"
    }
   ],
   "source": [
    "scores"
   ]
  },
  {
   "cell_type": "markdown",
   "metadata": {},
   "source": [
    "### Predicting sentiment"
   ]
  },
  {
   "cell_type": "code",
   "execution_count": 391,
   "metadata": {},
   "outputs": [
    {
     "data": {
      "text/html": [
       "<div>\n",
       "<style scoped>\n",
       "    .dataframe tbody tr th:only-of-type {\n",
       "        vertical-align: middle;\n",
       "    }\n",
       "\n",
       "    .dataframe tbody tr th {\n",
       "        vertical-align: top;\n",
       "    }\n",
       "\n",
       "    .dataframe thead th {\n",
       "        text-align: right;\n",
       "    }\n",
       "</style>\n",
       "<table border=\"1\" class=\"dataframe\">\n",
       "  <thead>\n",
       "    <tr style=\"text-align: right;\">\n",
       "      <th></th>\n",
       "      <th>name</th>\n",
       "      <th>review</th>\n",
       "      <th>rating</th>\n",
       "      <th>review_no_punc</th>\n",
       "      <th>word_count</th>\n",
       "      <th>sentiment</th>\n",
       "    </tr>\n",
       "  </thead>\n",
       "  <tbody>\n",
       "    <tr>\n",
       "      <th>811</th>\n",
       "      <td>Safety 1st Tot-Lok Magnetic Key</td>\n",
       "      <td>Not the Tot-Lok key shown in the picture.  It ...</td>\n",
       "      <td>1</td>\n",
       "      <td>Not the TotLok key shown in the picture  It is...</td>\n",
       "      <td>{u'customer': 1, u'picture': 1, u'shown': 1, u...</td>\n",
       "      <td>-1</td>\n",
       "    </tr>\n",
       "    <tr>\n",
       "      <th>76</th>\n",
       "      <td>Cloth Diaper Pins Stainless Steel Traditional ...</td>\n",
       "      <td>As another reviewer noted, these are great for...</td>\n",
       "      <td>5</td>\n",
       "      <td>As another reviewer noted these are great for ...</td>\n",
       "      <td>{u'and': 4, u'dont': 1, u'just': 2, u'Great': ...</td>\n",
       "      <td>1</td>\n",
       "    </tr>\n",
       "    <tr>\n",
       "      <th>636</th>\n",
       "      <td>Summer Infant Ultimate Crib Sheet, 52&amp;quot; x ...</td>\n",
       "      <td>I have 4 daughters and was greatful for this c...</td>\n",
       "      <td>5</td>\n",
       "      <td>I have 4 daughters and was greatful for this c...</td>\n",
       "      <td>{u'and': 4, u'IDEA': 1, u'all': 2, u'placing':...</td>\n",
       "      <td>1</td>\n",
       "    </tr>\n",
       "  </tbody>\n",
       "</table>\n",
       "</div>"
      ],
      "text/plain": [
       "                                                  name  \\\n",
       "811                    Safety 1st Tot-Lok Magnetic Key   \n",
       "76   Cloth Diaper Pins Stainless Steel Traditional ...   \n",
       "636  Summer Infant Ultimate Crib Sheet, 52&quot; x ...   \n",
       "\n",
       "                                                review  rating  \\\n",
       "811  Not the Tot-Lok key shown in the picture.  It ...       1   \n",
       "76   As another reviewer noted, these are great for...       5   \n",
       "636  I have 4 daughters and was greatful for this c...       5   \n",
       "\n",
       "                                        review_no_punc  \\\n",
       "811  Not the TotLok key shown in the picture  It is...   \n",
       "76   As another reviewer noted these are great for ...   \n",
       "636  I have 4 daughters and was greatful for this c...   \n",
       "\n",
       "                                            word_count  sentiment  \n",
       "811  {u'customer': 1, u'picture': 1, u'shown': 1, u...         -1  \n",
       "76   {u'and': 4, u'dont': 1, u'just': 2, u'Great': ...          1  \n",
       "636  {u'and': 4, u'IDEA': 1, u'all': 2, u'placing':...          1  "
      ]
     },
     "execution_count": 391,
     "metadata": {},
     "output_type": "execute_result"
    }
   ],
   "source": [
    "sample_test_data"
   ]
  },
  {
   "cell_type": "code",
   "execution_count": 392,
   "metadata": {},
   "outputs": [
    {
     "data": {
      "text/plain": [
       "[-1, 1, 1]"
      ]
     },
     "execution_count": 392,
     "metadata": {},
     "output_type": "execute_result"
    }
   ],
   "source": [
    "prediction = []\n",
    "\n",
    "for i in range(len(scores)):\n",
    "    if scores[i][0] > 0:\n",
    "        predict = 1\n",
    "    else:\n",
    "        predict = -1\n",
    "    prediction.append(predict)\n",
    "    \n",
    "prediction"
   ]
  },
  {
   "cell_type": "code",
   "execution_count": 394,
   "metadata": {},
   "outputs": [
    {
     "name": "stdout",
     "output_type": "stream",
     "text": [
      "Class predictions according to SKlearn:\n",
      "[-1.  1.  1.]\n"
     ]
    }
   ],
   "source": [
    "print \"Class predictions according to SKlearn:\"\n",
    "print sentiment_model.predict(test_data_1000_arr[10:13, :-1])"
   ]
  },
  {
   "cell_type": "markdown",
   "metadata": {},
   "source": [
    "### Probability predictions"
   ]
  },
  {
   "cell_type": "code",
   "execution_count": 395,
   "metadata": {},
   "outputs": [
    {
     "data": {
      "text/plain": [
       "array([[-0.46432869],\n",
       "       [ 4.53245859],\n",
       "       [ 5.27352481]])"
      ]
     },
     "execution_count": 395,
     "metadata": {},
     "output_type": "execute_result"
    }
   ],
   "source": [
    "scores"
   ]
  },
  {
   "cell_type": "code",
   "execution_count": 396,
   "metadata": {},
   "outputs": [
    {
     "data": {
      "text/plain": [
       "array([[0.38595944],\n",
       "       [0.98936022],\n",
       "       [0.99490062]])"
      ]
     },
     "execution_count": 396,
     "metadata": {},
     "output_type": "execute_result"
    }
   ],
   "source": [
    "1 / (1+np.exp(-scores))"
   ]
  },
  {
   "cell_type": "code",
   "execution_count": 397,
   "metadata": {},
   "outputs": [
    {
     "name": "stdout",
     "output_type": "stream",
     "text": [
      "Class predictions according to SKlearn:\n",
      "[[0.61404056 0.38595944]\n",
      " [0.01063978 0.98936022]\n",
      " [0.00509938 0.99490062]]\n"
     ]
    }
   ],
   "source": [
    "print \"Class predictions according to SKlearn:\"\n",
    "print sentiment_model.predict_proba(test_data_1000_arr[10:13, :-1])"
   ]
  },
  {
   "cell_type": "markdown",
   "metadata": {},
   "source": [
    "# Find the most positive (and negative) review"
   ]
  },
  {
   "cell_type": "code",
   "execution_count": 398,
   "metadata": {},
   "outputs": [
    {
     "data": {
      "text/plain": [
       "LogisticRegression(C=1.0, class_weight=None, dual=False, fit_intercept=True,\n",
       "          intercept_scaling=1, max_iter=100, multi_class='warn',\n",
       "          n_jobs=None, penalty='l2', random_state=None, solver='lbfgs',\n",
       "          tol=0.0001, verbose=0, warm_start=False)"
      ]
     },
     "execution_count": 398,
     "metadata": {},
     "output_type": "execute_result"
    }
   ],
   "source": [
    "sentiment_model"
   ]
  },
  {
   "cell_type": "code",
   "execution_count": 410,
   "metadata": {},
   "outputs": [
    {
     "data": {
      "text/html": [
       "<div>\n",
       "<style scoped>\n",
       "    .dataframe tbody tr th:only-of-type {\n",
       "        vertical-align: middle;\n",
       "    }\n",
       "\n",
       "    .dataframe tbody tr th {\n",
       "        vertical-align: top;\n",
       "    }\n",
       "\n",
       "    .dataframe thead th {\n",
       "        text-align: right;\n",
       "    }\n",
       "</style>\n",
       "<table border=\"1\" class=\"dataframe\">\n",
       "  <thead>\n",
       "    <tr style=\"text-align: right;\">\n",
       "      <th></th>\n",
       "      <th>name</th>\n",
       "      <th>review</th>\n",
       "      <th>rating</th>\n",
       "      <th>review_no_punc</th>\n",
       "      <th>word_count</th>\n",
       "      <th>sentiment</th>\n",
       "      <th>predict</th>\n",
       "    </tr>\n",
       "  </thead>\n",
       "  <tbody>\n",
       "    <tr>\n",
       "      <th>521</th>\n",
       "      <td>Baby Trend Diaper Champ</td>\n",
       "      <td>I just wanted to say that I love my Diaper Cha...</td>\n",
       "      <td>5</td>\n",
       "      <td>I just wanted to say that I love my Diaper Cha...</td>\n",
       "      <td>{u'and': 1, u'feed': 1, u'love': 1, u'just': 1...</td>\n",
       "      <td>1</td>\n",
       "      <td>0.994392</td>\n",
       "    </tr>\n",
       "    <tr>\n",
       "      <th>737</th>\n",
       "      <td>Safety 1st Power Strip Cover</td>\n",
       "      <td>My little one looooves plug ins.  This product...</td>\n",
       "      <td>4</td>\n",
       "      <td>My little one looooves plug ins  This product ...</td>\n",
       "      <td>{u'all': 2, u'less': 1, u'moments': 1, u'despi...</td>\n",
       "      <td>1</td>\n",
       "      <td>0.117232</td>\n",
       "    </tr>\n",
       "    <tr>\n",
       "      <th>740</th>\n",
       "      <td>Safety 1st Grow with Me Portable Booster Seat</td>\n",
       "      <td>My first son got this booster when he was 2 ye...</td>\n",
       "      <td>5</td>\n",
       "      <td>My first son got this booster when he was 2 ye...</td>\n",
       "      <td>{u'all': 1, u'they': 1, u'just': 1, u'reviewer...</td>\n",
       "      <td>1</td>\n",
       "      <td>0.930052</td>\n",
       "    </tr>\n",
       "    <tr>\n",
       "      <th>660</th>\n",
       "      <td>Summer Infant, Ultimate Training Pad - Twin Ma...</td>\n",
       "      <td>This is my second one and it works like a char...</td>\n",
       "      <td>5</td>\n",
       "      <td>This is my second one and it works like a char...</td>\n",
       "      <td>{u'and': 2, u'dont': 1, u'backing': 1, u'is': ...</td>\n",
       "      <td>1</td>\n",
       "      <td>0.965302</td>\n",
       "    </tr>\n",
       "    <tr>\n",
       "      <th>411</th>\n",
       "      <td>Baby Trend Diaper Champ</td>\n",
       "      <td>I am really disappointed with the Diaper Champ...</td>\n",
       "      <td>2</td>\n",
       "      <td>I am really disappointed with the Diaper Champ...</td>\n",
       "      <td>{u'just': 1, u'grossOtherwise': 1, u'Babies': ...</td>\n",
       "      <td>-1</td>\n",
       "      <td>0.247608</td>\n",
       "    </tr>\n",
       "    <tr>\n",
       "      <th>678</th>\n",
       "      <td>Odorless Diaper Pail by Safety 1st</td>\n",
       "      <td>I liked the idea of this pail using regular ki...</td>\n",
       "      <td>1</td>\n",
       "      <td>I liked the idea of this pail using regular ki...</td>\n",
       "      <td>{u'liked': 1, u'is': 2, u'idea': 1, u'Also': 1...</td>\n",
       "      <td>-1</td>\n",
       "      <td>0.777873</td>\n",
       "    </tr>\n",
       "    <tr>\n",
       "      <th>626</th>\n",
       "      <td>Summer Infant Ultimate Crib Sheet, 52&amp;quot; x ...</td>\n",
       "      <td>The reviews that say this product is soft are ...</td>\n",
       "      <td>2</td>\n",
       "      <td>The reviews that say this product is soft are ...</td>\n",
       "      <td>{u'and': 1, u'all': 2, u'old': 1, u'Somewhere'...</td>\n",
       "      <td>-1</td>\n",
       "      <td>0.349377</td>\n",
       "    </tr>\n",
       "    <tr>\n",
       "      <th>513</th>\n",
       "      <td>Baby Trend Diaper Champ</td>\n",
       "      <td>I had tried a Diaper Genie at a friend's house...</td>\n",
       "      <td>5</td>\n",
       "      <td>I had tried a Diaper Genie at a friends house ...</td>\n",
       "      <td>{u'all': 3, u'seemed': 1, u'refills': 2, u'We'...</td>\n",
       "      <td>1</td>\n",
       "      <td>0.095494</td>\n",
       "    </tr>\n",
       "    <tr>\n",
       "      <th>859</th>\n",
       "      <td>Safety 1st Space Saver Fold-Up Bath Tub</td>\n",
       "      <td>We first saw this fold-up infant tub in the NI...</td>\n",
       "      <td>5</td>\n",
       "      <td>We first saw this foldup infant tub in the NIC...</td>\n",
       "      <td>{u'infant': 3, u'just': 1, u'over': 1, u'washc...</td>\n",
       "      <td>1</td>\n",
       "      <td>0.989376</td>\n",
       "    </tr>\n",
       "    <tr>\n",
       "      <th>136</th>\n",
       "      <td>Pedal Farm Tractor</td>\n",
       "      <td>We bought this tractor to accompany the traile...</td>\n",
       "      <td>5</td>\n",
       "      <td>We bought this tractor to accompany the traile...</td>\n",
       "      <td>{u'and': 5, u'load': 1, u'love': 1, u'into': 1...</td>\n",
       "      <td>1</td>\n",
       "      <td>0.968170</td>\n",
       "    </tr>\n",
       "    <tr>\n",
       "      <th>811</th>\n",
       "      <td>Safety 1st Tot-Lok Magnetic Key</td>\n",
       "      <td>Not the Tot-Lok key shown in the picture.  It ...</td>\n",
       "      <td>1</td>\n",
       "      <td>Not the TotLok key shown in the picture  It is...</td>\n",
       "      <td>{u'customer': 1, u'picture': 1, u'shown': 1, u...</td>\n",
       "      <td>-1</td>\n",
       "      <td>0.385959</td>\n",
       "    </tr>\n",
       "    <tr>\n",
       "      <th>76</th>\n",
       "      <td>Cloth Diaper Pins Stainless Steel Traditional ...</td>\n",
       "      <td>As another reviewer noted, these are great for...</td>\n",
       "      <td>5</td>\n",
       "      <td>As another reviewer noted these are great for ...</td>\n",
       "      <td>{u'and': 4, u'dont': 1, u'just': 2, u'Great': ...</td>\n",
       "      <td>1</td>\n",
       "      <td>0.989360</td>\n",
       "    </tr>\n",
       "    <tr>\n",
       "      <th>636</th>\n",
       "      <td>Summer Infant Ultimate Crib Sheet, 52&amp;quot; x ...</td>\n",
       "      <td>I have 4 daughters and was greatful for this c...</td>\n",
       "      <td>5</td>\n",
       "      <td>I have 4 daughters and was greatful for this c...</td>\n",
       "      <td>{u'and': 4, u'IDEA': 1, u'all': 2, u'placing':...</td>\n",
       "      <td>1</td>\n",
       "      <td>0.994901</td>\n",
       "    </tr>\n",
       "    <tr>\n",
       "      <th>973</th>\n",
       "      <td>Safety 1st Deluxe 4-in-1 Bath Station</td>\n",
       "      <td>I didnt realize just how many problems this ba...</td>\n",
       "      <td>1</td>\n",
       "      <td>I didnt realize just how many problems this ba...</td>\n",
       "      <td>{u'dont': 2, u'just': 1, u'it': 3, u'bath': 2,...</td>\n",
       "      <td>-1</td>\n",
       "      <td>0.521980</td>\n",
       "    </tr>\n",
       "    <tr>\n",
       "      <th>938</th>\n",
       "      <td>Safety 1st Deluxe 4-in-1 Bath Station</td>\n",
       "      <td>Stay clear of this bathtub... I cleaned mine a...</td>\n",
       "      <td>1</td>\n",
       "      <td>Stay clear of this bathtub I cleaned mine and ...</td>\n",
       "      <td>{u'and': 4, u'all': 1, u'her': 1, u'keeps': 1,...</td>\n",
       "      <td>-1</td>\n",
       "      <td>0.190682</td>\n",
       "    </tr>\n",
       "    <tr>\n",
       "      <th>899</th>\n",
       "      <td>Safety 1st Deluxe 4-in-1 Bath Station</td>\n",
       "      <td>I think the 4-in-1 bathtub is the greatest. I ...</td>\n",
       "      <td>4</td>\n",
       "      <td>I think the 4in1 bathtub is the greatest I ori...</td>\n",
       "      <td>{u'and': 1, u'because': 1, u'love': 1, u'is': ...</td>\n",
       "      <td>1</td>\n",
       "      <td>0.993631</td>\n",
       "    </tr>\n",
       "    <tr>\n",
       "      <th>280</th>\n",
       "      <td>Sassy Busy Bugs Bar</td>\n",
       "      <td>I bought this on a whim to keep my 4 month old...</td>\n",
       "      <td>5</td>\n",
       "      <td>I bought this on a whim to keep my 4 month old...</td>\n",
       "      <td>{u'and': 3, u'whim': 1, u'old': 2, u'for': 1, ...</td>\n",
       "      <td>1</td>\n",
       "      <td>0.921084</td>\n",
       "    </tr>\n",
       "    <tr>\n",
       "      <th>883</th>\n",
       "      <td>Graco Traveling Potty Seat</td>\n",
       "      <td>We're currently in the process of potty traini...</td>\n",
       "      <td>4</td>\n",
       "      <td>Were currently in the process of potty trainin...</td>\n",
       "      <td>{u'currently': 1, u'help': 2, u'supported': 1,...</td>\n",
       "      <td>1</td>\n",
       "      <td>0.962927</td>\n",
       "    </tr>\n",
       "    <tr>\n",
       "      <th>761</th>\n",
       "      <td>Graco Deluxe Tot-Lock with Tray and High Back ...</td>\n",
       "      <td>I had my first un-interrupted restaurant dinne...</td>\n",
       "      <td>5</td>\n",
       "      <td>I had my first uninterrupted restaurant dinner...</td>\n",
       "      <td>{u'old': 1, u'just': 1, u'money': 1, u'spent':...</td>\n",
       "      <td>1</td>\n",
       "      <td>0.946990</td>\n",
       "    </tr>\n",
       "    <tr>\n",
       "      <th>319</th>\n",
       "      <td>Baby Trend Diaper Champ</td>\n",
       "      <td>Diaper Champ is great.  But just to let you kn...</td>\n",
       "      <td>5</td>\n",
       "      <td>Diaper Champ is great  But just to let you kno...</td>\n",
       "      <td>{u'breastfeeding': 1, u'and': 1, u'stink': 1, ...</td>\n",
       "      <td>1</td>\n",
       "      <td>0.920029</td>\n",
       "    </tr>\n",
       "    <tr>\n",
       "      <th>549</th>\n",
       "      <td>Baby Trend Diaper Champ</td>\n",
       "      <td>This is a great diaper pail, easy to use and k...</td>\n",
       "      <td>5</td>\n",
       "      <td>This is a great diaper pail easy to use and ke...</td>\n",
       "      <td>{u'and': 2, u'inserts': 1, u'drop': 1, u'old':...</td>\n",
       "      <td>1</td>\n",
       "      <td>0.998969</td>\n",
       "    </tr>\n",
       "    <tr>\n",
       "      <th>174</th>\n",
       "      <td>Sassy Who Loves Baby? Photo Album Book with te...</td>\n",
       "      <td>We bought this for our 5 month old and put pic...</td>\n",
       "      <td>5</td>\n",
       "      <td>We bought this for our 5 month old and put pic...</td>\n",
       "      <td>{u'and': 3, u'old': 1, u'is': 2, u'grandmas': ...</td>\n",
       "      <td>1</td>\n",
       "      <td>0.996988</td>\n",
       "    </tr>\n",
       "    <tr>\n",
       "      <th>371</th>\n",
       "      <td>Baby Trend Diaper Champ</td>\n",
       "      <td>I registered for the Diaper Champ after readin...</td>\n",
       "      <td>5</td>\n",
       "      <td>I registered for the Diaper Champ after readin...</td>\n",
       "      <td>{u'and': 3, u'this': 1, u'bottom': 1, u'just':...</td>\n",
       "      <td>1</td>\n",
       "      <td>0.873475</td>\n",
       "    </tr>\n",
       "    <tr>\n",
       "      <th>527</th>\n",
       "      <td>Baby Trend Diaper Champ</td>\n",
       "      <td>I have had the Diaper Champ in my son's room f...</td>\n",
       "      <td>1</td>\n",
       "      <td>I have had the Diaper Champ in my sons room fo...</td>\n",
       "      <td>{u'and': 3, u'lysol': 1, u'all': 2, u'sprayed'...</td>\n",
       "      <td>-1</td>\n",
       "      <td>0.693826</td>\n",
       "    </tr>\n",
       "    <tr>\n",
       "      <th>210</th>\n",
       "      <td>Comfy Easy PC Play &amp;amp; Learn Keyboard</td>\n",
       "      <td>This product was very innovative when introduc...</td>\n",
       "      <td>5</td>\n",
       "      <td>This product was very innovative when introduc...</td>\n",
       "      <td>{u'and': 3, u'Israeli': 1, u'selection': 1, u'...</td>\n",
       "      <td>1</td>\n",
       "      <td>0.810592</td>\n",
       "    </tr>\n",
       "    <tr>\n",
       "      <th>235</th>\n",
       "      <td>The First Years Massaging Action Teether</td>\n",
       "      <td>My LO is definitely teething and I've tried gi...</td>\n",
       "      <td>2</td>\n",
       "      <td>My LO is definitely teething and Ive tried giv...</td>\n",
       "      <td>{u'and': 5, u'sticking': 1, u'Giraffe': 1, u'o...</td>\n",
       "      <td>-1</td>\n",
       "      <td>0.968668</td>\n",
       "    </tr>\n",
       "    <tr>\n",
       "      <th>101</th>\n",
       "      <td>Newborn Baby Tracker&amp;reg; - Round the Clock Ch...</td>\n",
       "      <td>I used a tracker with my first son - but I did...</td>\n",
       "      <td>4</td>\n",
       "      <td>I used a tracker with my first son  but I didn...</td>\n",
       "      <td>{u'and': 1, u'months': 1, u'3': 1, u'is': 4, u...</td>\n",
       "      <td>1</td>\n",
       "      <td>0.996730</td>\n",
       "    </tr>\n",
       "    <tr>\n",
       "      <th>986</th>\n",
       "      <td>Safety 1st Deluxe 4-in-1 Bath Station</td>\n",
       "      <td>I bought this tub before reading reviews,and i...</td>\n",
       "      <td>2</td>\n",
       "      <td>I bought this tub before reading reviewsand i ...</td>\n",
       "      <td>{u'all': 1, u'just': 1, u'over': 1, u'where': ...</td>\n",
       "      <td>-1</td>\n",
       "      <td>0.008755</td>\n",
       "    </tr>\n",
       "    <tr>\n",
       "      <th>902</th>\n",
       "      <td>Safety 1st Deluxe 4-in-1 Bath Station</td>\n",
       "      <td>I bought this tub and am not impressed at all....</td>\n",
       "      <td>1</td>\n",
       "      <td>I bought this tub and am not impressed at all ...</td>\n",
       "      <td>{u'all': 2, u'infant': 1, u'hanging': 1, u'sti...</td>\n",
       "      <td>-1</td>\n",
       "      <td>0.011120</td>\n",
       "    </tr>\n",
       "    <tr>\n",
       "      <th>947</th>\n",
       "      <td>Safety 1st Deluxe 4-in-1 Bath Station</td>\n",
       "      <td>I really recommend another product - anything ...</td>\n",
       "      <td>1</td>\n",
       "      <td>I really recommend another product  anything w...</td>\n",
       "      <td>{u'and': 4, u'limited': 1, u'leaked': 1, u'ver...</td>\n",
       "      <td>-1</td>\n",
       "      <td>0.174870</td>\n",
       "    </tr>\n",
       "    <tr>\n",
       "      <th>...</th>\n",
       "      <td>...</td>\n",
       "      <td>...</td>\n",
       "      <td>...</td>\n",
       "      <td>...</td>\n",
       "      <td>...</td>\n",
       "      <td>...</td>\n",
       "      <td>...</td>\n",
       "    </tr>\n",
       "    <tr>\n",
       "      <th>361</th>\n",
       "      <td>Baby Trend Diaper Champ</td>\n",
       "      <td>This is the only diaper pail we've had and our...</td>\n",
       "      <td>5</td>\n",
       "      <td>This is the only diaper pail weve had and our ...</td>\n",
       "      <td>{u'prebag': 1, u'just': 1, u'rest': 1, u'years...</td>\n",
       "      <td>1</td>\n",
       "      <td>0.993268</td>\n",
       "    </tr>\n",
       "    <tr>\n",
       "      <th>479</th>\n",
       "      <td>Baby Trend Diaper Champ</td>\n",
       "      <td>You cannot imagine how much money you'll save ...</td>\n",
       "      <td>5</td>\n",
       "      <td>You cannot imagine how much money youll save a...</td>\n",
       "      <td>{u'and': 2, u'WEEK': 1, u'garbage': 1, u'WONDE...</td>\n",
       "      <td>1</td>\n",
       "      <td>0.939230</td>\n",
       "    </tr>\n",
       "    <tr>\n",
       "      <th>110</th>\n",
       "      <td>Modern House Trailing Cherry Blossom Vinyl Mur...</td>\n",
       "      <td>well its not as big as it looks in the picture...</td>\n",
       "      <td>4</td>\n",
       "      <td>well its not as big as it looks in the picture...</td>\n",
       "      <td>{u'one': 1, u'picture': 1, u'about': 1, u'only...</td>\n",
       "      <td>1</td>\n",
       "      <td>0.816110</td>\n",
       "    </tr>\n",
       "    <tr>\n",
       "      <th>989</th>\n",
       "      <td>Safety 1st Deluxe 4-in-1 Bath Station</td>\n",
       "      <td>I got this tub as a shower gift that I didn't ...</td>\n",
       "      <td>1</td>\n",
       "      <td>I got this tub as a shower gift that I didnt r...</td>\n",
       "      <td>{u'work': 1, u'yourself': 1, u'as': 1, u'sleep...</td>\n",
       "      <td>-1</td>\n",
       "      <td>0.110189</td>\n",
       "    </tr>\n",
       "    <tr>\n",
       "      <th>486</th>\n",
       "      <td>Baby Trend Diaper Champ</td>\n",
       "      <td>I have a friend that had the Diaper Genie and ...</td>\n",
       "      <td>5</td>\n",
       "      <td>I have a friend that had the Diaper Genie and ...</td>\n",
       "      <td>{u'and': 5, u'own': 1, u'love': 1, u'garbage':...</td>\n",
       "      <td>1</td>\n",
       "      <td>0.999821</td>\n",
       "    </tr>\n",
       "    <tr>\n",
       "      <th>363</th>\n",
       "      <td>Baby Trend Diaper Champ</td>\n",
       "      <td>We got the Diaper Champ as a gift and immediat...</td>\n",
       "      <td>4</td>\n",
       "      <td>We got the Diaper Champ as a gift and immediat...</td>\n",
       "      <td>{u'money': 1, u'messy': 1, u'its': 1, u'We': 1...</td>\n",
       "      <td>1</td>\n",
       "      <td>0.021105</td>\n",
       "    </tr>\n",
       "    <tr>\n",
       "      <th>254</th>\n",
       "      <td>Crown Crafts The Original NoJo BabySling by Dr...</td>\n",
       "      <td>It is a little awkward at first, but I had an ...</td>\n",
       "      <td>4</td>\n",
       "      <td>It is a little awkward at first but I had an e...</td>\n",
       "      <td>{u'and': 4, u'this': 1, u'all': 1, u'because':...</td>\n",
       "      <td>1</td>\n",
       "      <td>0.967289</td>\n",
       "    </tr>\n",
       "    <tr>\n",
       "      <th>259</th>\n",
       "      <td>Crown Crafts The Original NoJo BabySling by Dr...</td>\n",
       "      <td>My Grandson is super fussy and I used this for...</td>\n",
       "      <td>5</td>\n",
       "      <td>My Grandson is super fussy and I used this for...</td>\n",
       "      <td>{u'and': 2, u'longer': 1, u'What': 1, u'own': ...</td>\n",
       "      <td>1</td>\n",
       "      <td>0.942579</td>\n",
       "    </tr>\n",
       "    <tr>\n",
       "      <th>802</th>\n",
       "      <td>Safety 1st Magnetic Tot Lok Complete Set</td>\n",
       "      <td>My son's first reaction to his new 'big boy' f...</td>\n",
       "      <td>5</td>\n",
       "      <td>My sons first reaction to his new big boy furn...</td>\n",
       "      <td>{u'and': 3, u'all': 1, u'love': 1, u'they': 1,...</td>\n",
       "      <td>1</td>\n",
       "      <td>0.999096</td>\n",
       "    </tr>\n",
       "    <tr>\n",
       "      <th>677</th>\n",
       "      <td>Odorless Diaper Pail by Safety 1st</td>\n",
       "      <td>We bought this pail for our first son.  It was...</td>\n",
       "      <td>2</td>\n",
       "      <td>We bought this pail for our first son  It was ...</td>\n",
       "      <td>{u'and': 2, u'load': 1, u'all': 1, u'just': 1,...</td>\n",
       "      <td>-1</td>\n",
       "      <td>0.981613</td>\n",
       "    </tr>\n",
       "    <tr>\n",
       "      <th>494</th>\n",
       "      <td>Baby Trend Diaper Champ</td>\n",
       "      <td>Excellent product. Holds nearly a week of soil...</td>\n",
       "      <td>5</td>\n",
       "      <td>Excellent product Holds nearly a week of soile...</td>\n",
       "      <td>{u'and': 1, u'Would': 1, u'Holds': 1, u'Easy':...</td>\n",
       "      <td>1</td>\n",
       "      <td>0.420065</td>\n",
       "    </tr>\n",
       "    <tr>\n",
       "      <th>670</th>\n",
       "      <td>Basic Comfort EZ Changing Pad</td>\n",
       "      <td>I got this pad as a baby shower gift and I thi...</td>\n",
       "      <td>5</td>\n",
       "      <td>I got this pad as a baby shower gift and I thi...</td>\n",
       "      <td>{u'just': 3, u'hugging': 1, u'fine': 1, u'its'...</td>\n",
       "      <td>1</td>\n",
       "      <td>0.864415</td>\n",
       "    </tr>\n",
       "    <tr>\n",
       "      <th>377</th>\n",
       "      <td>Baby Trend Diaper Champ</td>\n",
       "      <td>We have been using our Diaper Champ for almost...</td>\n",
       "      <td>5</td>\n",
       "      <td>We have been using our Diaper Champ for almost...</td>\n",
       "      <td>{u'son': 2, u'all': 3, u'humid': 1, u'consider...</td>\n",
       "      <td>1</td>\n",
       "      <td>1.000000</td>\n",
       "    </tr>\n",
       "    <tr>\n",
       "      <th>526</th>\n",
       "      <td>Baby Trend Diaper Champ</td>\n",
       "      <td>I love this thing! I don't notice any smell wh...</td>\n",
       "      <td>5</td>\n",
       "      <td>I love this thing I dont notice any smell whil...</td>\n",
       "      <td>{u'because': 1, u'love': 1, u'dont': 2, u'do':...</td>\n",
       "      <td>1</td>\n",
       "      <td>0.911683</td>\n",
       "    </tr>\n",
       "    <tr>\n",
       "      <th>845</th>\n",
       "      <td>Safety 1st Space Saver Fold-Up Bath Tub</td>\n",
       "      <td>I purchased my first Fold-Up Tub back in 1997 ...</td>\n",
       "      <td>5</td>\n",
       "      <td>I purchased my first FoldUp Tub back in 1997 w...</td>\n",
       "      <td>{u'and': 3, u'recommend': 1, u'all': 1, u'anot...</td>\n",
       "      <td>1</td>\n",
       "      <td>0.980076</td>\n",
       "    </tr>\n",
       "    <tr>\n",
       "      <th>137</th>\n",
       "      <td>Pedal Farm Tractor</td>\n",
       "      <td>We bought this tractor for our 2 and a half-ye...</td>\n",
       "      <td>5</td>\n",
       "      <td>We bought this tractor for our 2 and a halfyea...</td>\n",
       "      <td>{u'and': 5, u'all': 2, u'tip': 1, u'is': 4, u'...</td>\n",
       "      <td>1</td>\n",
       "      <td>0.924214</td>\n",
       "    </tr>\n",
       "    <tr>\n",
       "      <th>355</th>\n",
       "      <td>Baby Trend Diaper Champ</td>\n",
       "      <td>So far so good.  I was using the cheapie pail....</td>\n",
       "      <td>5</td>\n",
       "      <td>So far so good  I was using the cheapie pailan...</td>\n",
       "      <td>{u'Even': 1, u'and': 1, u'work': 1, u'old': 1,...</td>\n",
       "      <td>1</td>\n",
       "      <td>0.749437</td>\n",
       "    </tr>\n",
       "    <tr>\n",
       "      <th>365</th>\n",
       "      <td>Baby Trend Diaper Champ</td>\n",
       "      <td>When our daughter was born we bought the diape...</td>\n",
       "      <td>5</td>\n",
       "      <td>When our daughter was born we bought the diape...</td>\n",
       "      <td>{u'son': 1, u'just': 3, u'less': 1, u'money': ...</td>\n",
       "      <td>1</td>\n",
       "      <td>0.999996</td>\n",
       "    </tr>\n",
       "    <tr>\n",
       "      <th>942</th>\n",
       "      <td>Safety 1st Deluxe 4-in-1 Bath Station</td>\n",
       "      <td>I received this item as a gift for my baby sho...</td>\n",
       "      <td>1</td>\n",
       "      <td>I received this item as a gift for my baby sho...</td>\n",
       "      <td>{u'and': 1, u'all': 1, u'leaked': 2, u'just': ...</td>\n",
       "      <td>-1</td>\n",
       "      <td>0.049139</td>\n",
       "    </tr>\n",
       "    <tr>\n",
       "      <th>749</th>\n",
       "      <td>Graco ultraclear baby monitor</td>\n",
       "      <td>I'm a fan of Graco products in general, and th...</td>\n",
       "      <td>5</td>\n",
       "      <td>Im a fan of Graco products in general and this...</td>\n",
       "      <td>{u'and': 1, u'all': 1, u'house': 1, u'is': 1, ...</td>\n",
       "      <td>1</td>\n",
       "      <td>0.020646</td>\n",
       "    </tr>\n",
       "    <tr>\n",
       "      <th>948</th>\n",
       "      <td>Safety 1st Deluxe 4-in-1 Bath Station</td>\n",
       "      <td>I first tried the sling in the sink, and that ...</td>\n",
       "      <td>2</td>\n",
       "      <td>I first tried the sling in the sink and that w...</td>\n",
       "      <td>{u'just': 1, u'yet': 1, u'had': 1, u'to': 6, u...</td>\n",
       "      <td>-1</td>\n",
       "      <td>0.061495</td>\n",
       "    </tr>\n",
       "    <tr>\n",
       "      <th>829</th>\n",
       "      <td>Hospital's Choice Fold Up Nail Clippers</td>\n",
       "      <td>I have no complaints at all.  We had these bef...</td>\n",
       "      <td>5</td>\n",
       "      <td>I have no complaints at all  We had these befo...</td>\n",
       "      <td>{u'and': 2, u'all': 1, u'just': 1, u'we': 1, u...</td>\n",
       "      <td>1</td>\n",
       "      <td>0.927817</td>\n",
       "    </tr>\n",
       "    <tr>\n",
       "      <th>656</th>\n",
       "      <td>Summer Infant, Ultimate Training Pad - Twin Ma...</td>\n",
       "      <td>Washes well and is wider than the other brand ...</td>\n",
       "      <td>5</td>\n",
       "      <td>Washes well and is wider than the other brand ...</td>\n",
       "      <td>{u'and': 3, u'old': 1, u'just': 1, u'less': 1,...</td>\n",
       "      <td>1</td>\n",
       "      <td>0.975827</td>\n",
       "    </tr>\n",
       "    <tr>\n",
       "      <th>199</th>\n",
       "      <td>Big and Small Chime Ball by Sassy</td>\n",
       "      <td>This is an iteresting ball that my baby has lo...</td>\n",
       "      <td>5</td>\n",
       "      <td>This is an iteresting ball that my baby has lo...</td>\n",
       "      <td>{u'and': 3, u'BPA': 1, u'dont': 1, u'is': 5, u...</td>\n",
       "      <td>1</td>\n",
       "      <td>0.989106</td>\n",
       "    </tr>\n",
       "    <tr>\n",
       "      <th>213</th>\n",
       "      <td>The First Years Massaging Action Teether</td>\n",
       "      <td>all three of my kids have had one of these tee...</td>\n",
       "      <td>5</td>\n",
       "      <td>all three of my kids have had one of these tee...</td>\n",
       "      <td>{u'and': 1, u'all': 2, u'family': 1, u'year': ...</td>\n",
       "      <td>1</td>\n",
       "      <td>0.988506</td>\n",
       "    </tr>\n",
       "    <tr>\n",
       "      <th>408</th>\n",
       "      <td>Baby Trend Diaper Champ</td>\n",
       "      <td>I received my Diaper Champ at my baby shower f...</td>\n",
       "      <td>5</td>\n",
       "      <td>I received my Diaper Champ at my baby shower f...</td>\n",
       "      <td>{u'ease': 1, u'to': 5, u'only': 1, u'kitchensi...</td>\n",
       "      <td>1</td>\n",
       "      <td>0.999998</td>\n",
       "    </tr>\n",
       "    <tr>\n",
       "      <th>332</th>\n",
       "      <td>Baby Trend Diaper Champ</td>\n",
       "      <td>My husband and I love the Diaper Champ. It hol...</td>\n",
       "      <td>5</td>\n",
       "      <td>My husband and I love the Diaper Champ It hold...</td>\n",
       "      <td>{u'and': 3, u'own': 1, u'love': 1, u'garbage':...</td>\n",
       "      <td>1</td>\n",
       "      <td>0.991396</td>\n",
       "    </tr>\n",
       "    <tr>\n",
       "      <th>208</th>\n",
       "      <td>Fisher Price - Baby Bowling</td>\n",
       "      <td>Cute toy, durable and is simple. Nothing sings...</td>\n",
       "      <td>5</td>\n",
       "      <td>Cute toy durable and is simple Nothing sings l...</td>\n",
       "      <td>{u'all': 1, u'forget': 1, u'SIMPLE': 1, u'yell...</td>\n",
       "      <td>1</td>\n",
       "      <td>0.999779</td>\n",
       "    </tr>\n",
       "    <tr>\n",
       "      <th>613</th>\n",
       "      <td>Summer Infant Ultimate Crib Sheet, 52&amp;quot; x ...</td>\n",
       "      <td>I love this crib sheet because of its ease of ...</td>\n",
       "      <td>5</td>\n",
       "      <td>I love this crib sheet because of its ease of ...</td>\n",
       "      <td>{u'and': 6, u'all': 1, u'because': 2, u'love':...</td>\n",
       "      <td>1</td>\n",
       "      <td>0.993382</td>\n",
       "    </tr>\n",
       "    <tr>\n",
       "      <th>78</th>\n",
       "      <td>Cloth Diaper Pins Stainless Steel Traditional ...</td>\n",
       "      <td>I really thought I was getting a dozen pins..t...</td>\n",
       "      <td>2</td>\n",
       "      <td>I really thought I was getting a dozen pinstur...</td>\n",
       "      <td>{u'sadand': 1, u'overpriced': 1, u'be': 1, u'a...</td>\n",
       "      <td>-1</td>\n",
       "      <td>0.714739</td>\n",
       "    </tr>\n",
       "  </tbody>\n",
       "</table>\n",
       "<p>200 rows × 7 columns</p>\n",
       "</div>"
      ],
      "text/plain": [
       "                                                  name  \\\n",
       "521                            Baby Trend Diaper Champ   \n",
       "737                       Safety 1st Power Strip Cover   \n",
       "740      Safety 1st Grow with Me Portable Booster Seat   \n",
       "660  Summer Infant, Ultimate Training Pad - Twin Ma...   \n",
       "411                            Baby Trend Diaper Champ   \n",
       "678                 Odorless Diaper Pail by Safety 1st   \n",
       "626  Summer Infant Ultimate Crib Sheet, 52&quot; x ...   \n",
       "513                            Baby Trend Diaper Champ   \n",
       "859            Safety 1st Space Saver Fold-Up Bath Tub   \n",
       "136                                 Pedal Farm Tractor   \n",
       "811                    Safety 1st Tot-Lok Magnetic Key   \n",
       "76   Cloth Diaper Pins Stainless Steel Traditional ...   \n",
       "636  Summer Infant Ultimate Crib Sheet, 52&quot; x ...   \n",
       "973              Safety 1st Deluxe 4-in-1 Bath Station   \n",
       "938              Safety 1st Deluxe 4-in-1 Bath Station   \n",
       "899              Safety 1st Deluxe 4-in-1 Bath Station   \n",
       "280                                Sassy Busy Bugs Bar   \n",
       "883                         Graco Traveling Potty Seat   \n",
       "761  Graco Deluxe Tot-Lock with Tray and High Back ...   \n",
       "319                            Baby Trend Diaper Champ   \n",
       "549                            Baby Trend Diaper Champ   \n",
       "174  Sassy Who Loves Baby? Photo Album Book with te...   \n",
       "371                            Baby Trend Diaper Champ   \n",
       "527                            Baby Trend Diaper Champ   \n",
       "210            Comfy Easy PC Play &amp; Learn Keyboard   \n",
       "235           The First Years Massaging Action Teether   \n",
       "101  Newborn Baby Tracker&reg; - Round the Clock Ch...   \n",
       "986              Safety 1st Deluxe 4-in-1 Bath Station   \n",
       "902              Safety 1st Deluxe 4-in-1 Bath Station   \n",
       "947              Safety 1st Deluxe 4-in-1 Bath Station   \n",
       "..                                                 ...   \n",
       "361                            Baby Trend Diaper Champ   \n",
       "479                            Baby Trend Diaper Champ   \n",
       "110  Modern House Trailing Cherry Blossom Vinyl Mur...   \n",
       "989              Safety 1st Deluxe 4-in-1 Bath Station   \n",
       "486                            Baby Trend Diaper Champ   \n",
       "363                            Baby Trend Diaper Champ   \n",
       "254  Crown Crafts The Original NoJo BabySling by Dr...   \n",
       "259  Crown Crafts The Original NoJo BabySling by Dr...   \n",
       "802           Safety 1st Magnetic Tot Lok Complete Set   \n",
       "677                 Odorless Diaper Pail by Safety 1st   \n",
       "494                            Baby Trend Diaper Champ   \n",
       "670                      Basic Comfort EZ Changing Pad   \n",
       "377                            Baby Trend Diaper Champ   \n",
       "526                            Baby Trend Diaper Champ   \n",
       "845            Safety 1st Space Saver Fold-Up Bath Tub   \n",
       "137                                 Pedal Farm Tractor   \n",
       "355                            Baby Trend Diaper Champ   \n",
       "365                            Baby Trend Diaper Champ   \n",
       "942              Safety 1st Deluxe 4-in-1 Bath Station   \n",
       "749                      Graco ultraclear baby monitor   \n",
       "948              Safety 1st Deluxe 4-in-1 Bath Station   \n",
       "829            Hospital's Choice Fold Up Nail Clippers   \n",
       "656  Summer Infant, Ultimate Training Pad - Twin Ma...   \n",
       "199                  Big and Small Chime Ball by Sassy   \n",
       "213           The First Years Massaging Action Teether   \n",
       "408                            Baby Trend Diaper Champ   \n",
       "332                            Baby Trend Diaper Champ   \n",
       "208                        Fisher Price - Baby Bowling   \n",
       "613  Summer Infant Ultimate Crib Sheet, 52&quot; x ...   \n",
       "78   Cloth Diaper Pins Stainless Steel Traditional ...   \n",
       "\n",
       "                                                review  rating  \\\n",
       "521  I just wanted to say that I love my Diaper Cha...       5   \n",
       "737  My little one looooves plug ins.  This product...       4   \n",
       "740  My first son got this booster when he was 2 ye...       5   \n",
       "660  This is my second one and it works like a char...       5   \n",
       "411  I am really disappointed with the Diaper Champ...       2   \n",
       "678  I liked the idea of this pail using regular ki...       1   \n",
       "626  The reviews that say this product is soft are ...       2   \n",
       "513  I had tried a Diaper Genie at a friend's house...       5   \n",
       "859  We first saw this fold-up infant tub in the NI...       5   \n",
       "136  We bought this tractor to accompany the traile...       5   \n",
       "811  Not the Tot-Lok key shown in the picture.  It ...       1   \n",
       "76   As another reviewer noted, these are great for...       5   \n",
       "636  I have 4 daughters and was greatful for this c...       5   \n",
       "973  I didnt realize just how many problems this ba...       1   \n",
       "938  Stay clear of this bathtub... I cleaned mine a...       1   \n",
       "899  I think the 4-in-1 bathtub is the greatest. I ...       4   \n",
       "280  I bought this on a whim to keep my 4 month old...       5   \n",
       "883  We're currently in the process of potty traini...       4   \n",
       "761  I had my first un-interrupted restaurant dinne...       5   \n",
       "319  Diaper Champ is great.  But just to let you kn...       5   \n",
       "549  This is a great diaper pail, easy to use and k...       5   \n",
       "174  We bought this for our 5 month old and put pic...       5   \n",
       "371  I registered for the Diaper Champ after readin...       5   \n",
       "527  I have had the Diaper Champ in my son's room f...       1   \n",
       "210  This product was very innovative when introduc...       5   \n",
       "235  My LO is definitely teething and I've tried gi...       2   \n",
       "101  I used a tracker with my first son - but I did...       4   \n",
       "986  I bought this tub before reading reviews,and i...       2   \n",
       "902  I bought this tub and am not impressed at all....       1   \n",
       "947  I really recommend another product - anything ...       1   \n",
       "..                                                 ...     ...   \n",
       "361  This is the only diaper pail we've had and our...       5   \n",
       "479  You cannot imagine how much money you'll save ...       5   \n",
       "110  well its not as big as it looks in the picture...       4   \n",
       "989  I got this tub as a shower gift that I didn't ...       1   \n",
       "486  I have a friend that had the Diaper Genie and ...       5   \n",
       "363  We got the Diaper Champ as a gift and immediat...       4   \n",
       "254  It is a little awkward at first, but I had an ...       4   \n",
       "259  My Grandson is super fussy and I used this for...       5   \n",
       "802  My son's first reaction to his new 'big boy' f...       5   \n",
       "677  We bought this pail for our first son.  It was...       2   \n",
       "494  Excellent product. Holds nearly a week of soil...       5   \n",
       "670  I got this pad as a baby shower gift and I thi...       5   \n",
       "377  We have been using our Diaper Champ for almost...       5   \n",
       "526  I love this thing! I don't notice any smell wh...       5   \n",
       "845  I purchased my first Fold-Up Tub back in 1997 ...       5   \n",
       "137  We bought this tractor for our 2 and a half-ye...       5   \n",
       "355  So far so good.  I was using the cheapie pail....       5   \n",
       "365  When our daughter was born we bought the diape...       5   \n",
       "942  I received this item as a gift for my baby sho...       1   \n",
       "749  I'm a fan of Graco products in general, and th...       5   \n",
       "948  I first tried the sling in the sink, and that ...       2   \n",
       "829  I have no complaints at all.  We had these bef...       5   \n",
       "656  Washes well and is wider than the other brand ...       5   \n",
       "199  This is an iteresting ball that my baby has lo...       5   \n",
       "213  all three of my kids have had one of these tee...       5   \n",
       "408  I received my Diaper Champ at my baby shower f...       5   \n",
       "332  My husband and I love the Diaper Champ. It hol...       5   \n",
       "208  Cute toy, durable and is simple. Nothing sings...       5   \n",
       "613  I love this crib sheet because of its ease of ...       5   \n",
       "78   I really thought I was getting a dozen pins..t...       2   \n",
       "\n",
       "                                        review_no_punc  \\\n",
       "521  I just wanted to say that I love my Diaper Cha...   \n",
       "737  My little one looooves plug ins  This product ...   \n",
       "740  My first son got this booster when he was 2 ye...   \n",
       "660  This is my second one and it works like a char...   \n",
       "411  I am really disappointed with the Diaper Champ...   \n",
       "678  I liked the idea of this pail using regular ki...   \n",
       "626  The reviews that say this product is soft are ...   \n",
       "513  I had tried a Diaper Genie at a friends house ...   \n",
       "859  We first saw this foldup infant tub in the NIC...   \n",
       "136  We bought this tractor to accompany the traile...   \n",
       "811  Not the TotLok key shown in the picture  It is...   \n",
       "76   As another reviewer noted these are great for ...   \n",
       "636  I have 4 daughters and was greatful for this c...   \n",
       "973  I didnt realize just how many problems this ba...   \n",
       "938  Stay clear of this bathtub I cleaned mine and ...   \n",
       "899  I think the 4in1 bathtub is the greatest I ori...   \n",
       "280  I bought this on a whim to keep my 4 month old...   \n",
       "883  Were currently in the process of potty trainin...   \n",
       "761  I had my first uninterrupted restaurant dinner...   \n",
       "319  Diaper Champ is great  But just to let you kno...   \n",
       "549  This is a great diaper pail easy to use and ke...   \n",
       "174  We bought this for our 5 month old and put pic...   \n",
       "371  I registered for the Diaper Champ after readin...   \n",
       "527  I have had the Diaper Champ in my sons room fo...   \n",
       "210  This product was very innovative when introduc...   \n",
       "235  My LO is definitely teething and Ive tried giv...   \n",
       "101  I used a tracker with my first son  but I didn...   \n",
       "986  I bought this tub before reading reviewsand i ...   \n",
       "902  I bought this tub and am not impressed at all ...   \n",
       "947  I really recommend another product  anything w...   \n",
       "..                                                 ...   \n",
       "361  This is the only diaper pail weve had and our ...   \n",
       "479  You cannot imagine how much money youll save a...   \n",
       "110  well its not as big as it looks in the picture...   \n",
       "989  I got this tub as a shower gift that I didnt r...   \n",
       "486  I have a friend that had the Diaper Genie and ...   \n",
       "363  We got the Diaper Champ as a gift and immediat...   \n",
       "254  It is a little awkward at first but I had an e...   \n",
       "259  My Grandson is super fussy and I used this for...   \n",
       "802  My sons first reaction to his new big boy furn...   \n",
       "677  We bought this pail for our first son  It was ...   \n",
       "494  Excellent product Holds nearly a week of soile...   \n",
       "670  I got this pad as a baby shower gift and I thi...   \n",
       "377  We have been using our Diaper Champ for almost...   \n",
       "526  I love this thing I dont notice any smell whil...   \n",
       "845  I purchased my first FoldUp Tub back in 1997 w...   \n",
       "137  We bought this tractor for our 2 and a halfyea...   \n",
       "355  So far so good  I was using the cheapie pailan...   \n",
       "365  When our daughter was born we bought the diape...   \n",
       "942  I received this item as a gift for my baby sho...   \n",
       "749  Im a fan of Graco products in general and this...   \n",
       "948  I first tried the sling in the sink and that w...   \n",
       "829  I have no complaints at all  We had these befo...   \n",
       "656  Washes well and is wider than the other brand ...   \n",
       "199  This is an iteresting ball that my baby has lo...   \n",
       "213  all three of my kids have had one of these tee...   \n",
       "408  I received my Diaper Champ at my baby shower f...   \n",
       "332  My husband and I love the Diaper Champ It hold...   \n",
       "208  Cute toy durable and is simple Nothing sings l...   \n",
       "613  I love this crib sheet because of its ease of ...   \n",
       "78   I really thought I was getting a dozen pinstur...   \n",
       "\n",
       "                                            word_count  sentiment   predict  \n",
       "521  {u'and': 1, u'feed': 1, u'love': 1, u'just': 1...          1  0.994392  \n",
       "737  {u'all': 2, u'less': 1, u'moments': 1, u'despi...          1  0.117232  \n",
       "740  {u'all': 1, u'they': 1, u'just': 1, u'reviewer...          1  0.930052  \n",
       "660  {u'and': 2, u'dont': 1, u'backing': 1, u'is': ...          1  0.965302  \n",
       "411  {u'just': 1, u'grossOtherwise': 1, u'Babies': ...         -1  0.247608  \n",
       "678  {u'liked': 1, u'is': 2, u'idea': 1, u'Also': 1...         -1  0.777873  \n",
       "626  {u'and': 1, u'all': 2, u'old': 1, u'Somewhere'...         -1  0.349377  \n",
       "513  {u'all': 3, u'seemed': 1, u'refills': 2, u'We'...          1  0.095494  \n",
       "859  {u'infant': 3, u'just': 1, u'over': 1, u'washc...          1  0.989376  \n",
       "136  {u'and': 5, u'load': 1, u'love': 1, u'into': 1...          1  0.968170  \n",
       "811  {u'customer': 1, u'picture': 1, u'shown': 1, u...         -1  0.385959  \n",
       "76   {u'and': 4, u'dont': 1, u'just': 2, u'Great': ...          1  0.989360  \n",
       "636  {u'and': 4, u'IDEA': 1, u'all': 2, u'placing':...          1  0.994901  \n",
       "973  {u'dont': 2, u'just': 1, u'it': 3, u'bath': 2,...         -1  0.521980  \n",
       "938  {u'and': 4, u'all': 1, u'her': 1, u'keeps': 1,...         -1  0.190682  \n",
       "899  {u'and': 1, u'because': 1, u'love': 1, u'is': ...          1  0.993631  \n",
       "280  {u'and': 3, u'whim': 1, u'old': 2, u'for': 1, ...          1  0.921084  \n",
       "883  {u'currently': 1, u'help': 2, u'supported': 1,...          1  0.962927  \n",
       "761  {u'old': 1, u'just': 1, u'money': 1, u'spent':...          1  0.946990  \n",
       "319  {u'breastfeeding': 1, u'and': 1, u'stink': 1, ...          1  0.920029  \n",
       "549  {u'and': 2, u'inserts': 1, u'drop': 1, u'old':...          1  0.998969  \n",
       "174  {u'and': 3, u'old': 1, u'is': 2, u'grandmas': ...          1  0.996988  \n",
       "371  {u'and': 3, u'this': 1, u'bottom': 1, u'just':...          1  0.873475  \n",
       "527  {u'and': 3, u'lysol': 1, u'all': 2, u'sprayed'...         -1  0.693826  \n",
       "210  {u'and': 3, u'Israeli': 1, u'selection': 1, u'...          1  0.810592  \n",
       "235  {u'and': 5, u'sticking': 1, u'Giraffe': 1, u'o...         -1  0.968668  \n",
       "101  {u'and': 1, u'months': 1, u'3': 1, u'is': 4, u...          1  0.996730  \n",
       "986  {u'all': 1, u'just': 1, u'over': 1, u'where': ...         -1  0.008755  \n",
       "902  {u'all': 2, u'infant': 1, u'hanging': 1, u'sti...         -1  0.011120  \n",
       "947  {u'and': 4, u'limited': 1, u'leaked': 1, u'ver...         -1  0.174870  \n",
       "..                                                 ...        ...       ...  \n",
       "361  {u'prebag': 1, u'just': 1, u'rest': 1, u'years...          1  0.993268  \n",
       "479  {u'and': 2, u'WEEK': 1, u'garbage': 1, u'WONDE...          1  0.939230  \n",
       "110  {u'one': 1, u'picture': 1, u'about': 1, u'only...          1  0.816110  \n",
       "989  {u'work': 1, u'yourself': 1, u'as': 1, u'sleep...         -1  0.110189  \n",
       "486  {u'and': 5, u'own': 1, u'love': 1, u'garbage':...          1  0.999821  \n",
       "363  {u'money': 1, u'messy': 1, u'its': 1, u'We': 1...          1  0.021105  \n",
       "254  {u'and': 4, u'this': 1, u'all': 1, u'because':...          1  0.967289  \n",
       "259  {u'and': 2, u'longer': 1, u'What': 1, u'own': ...          1  0.942579  \n",
       "802  {u'and': 3, u'all': 1, u'love': 1, u'they': 1,...          1  0.999096  \n",
       "677  {u'and': 2, u'load': 1, u'all': 1, u'just': 1,...         -1  0.981613  \n",
       "494  {u'and': 1, u'Would': 1, u'Holds': 1, u'Easy':...          1  0.420065  \n",
       "670  {u'just': 3, u'hugging': 1, u'fine': 1, u'its'...          1  0.864415  \n",
       "377  {u'son': 2, u'all': 3, u'humid': 1, u'consider...          1  1.000000  \n",
       "526  {u'because': 1, u'love': 1, u'dont': 2, u'do':...          1  0.911683  \n",
       "845  {u'and': 3, u'recommend': 1, u'all': 1, u'anot...          1  0.980076  \n",
       "137  {u'and': 5, u'all': 2, u'tip': 1, u'is': 4, u'...          1  0.924214  \n",
       "355  {u'Even': 1, u'and': 1, u'work': 1, u'old': 1,...          1  0.749437  \n",
       "365  {u'son': 1, u'just': 3, u'less': 1, u'money': ...          1  0.999996  \n",
       "942  {u'and': 1, u'all': 1, u'leaked': 2, u'just': ...         -1  0.049139  \n",
       "749  {u'and': 1, u'all': 1, u'house': 1, u'is': 1, ...          1  0.020646  \n",
       "948  {u'just': 1, u'yet': 1, u'had': 1, u'to': 6, u...         -1  0.061495  \n",
       "829  {u'and': 2, u'all': 1, u'just': 1, u'we': 1, u...          1  0.927817  \n",
       "656  {u'and': 3, u'old': 1, u'just': 1, u'less': 1,...          1  0.975827  \n",
       "199  {u'and': 3, u'BPA': 1, u'dont': 1, u'is': 5, u...          1  0.989106  \n",
       "213  {u'and': 1, u'all': 2, u'family': 1, u'year': ...          1  0.988506  \n",
       "408  {u'ease': 1, u'to': 5, u'only': 1, u'kitchensi...          1  0.999998  \n",
       "332  {u'and': 3, u'own': 1, u'love': 1, u'garbage':...          1  0.991396  \n",
       "208  {u'all': 1, u'forget': 1, u'SIMPLE': 1, u'yell...          1  0.999779  \n",
       "613  {u'and': 6, u'all': 1, u'because': 2, u'love':...          1  0.993382  \n",
       "78   {u'sadand': 1, u'overpriced': 1, u'be': 1, u'a...         -1  0.714739  \n",
       "\n",
       "[200 rows x 7 columns]"
      ]
     },
     "execution_count": 410,
     "metadata": {},
     "output_type": "execute_result"
    }
   ],
   "source": [
    "test_data_1000_df[\"predict\"] = sentiment_model.predict_proba(test_data_1000_arr[:, :-1])[:, 1]\n",
    "\n",
    "test_data_1000_df"
   ]
  },
  {
   "cell_type": "code",
   "execution_count": 416,
   "metadata": {},
   "outputs": [
    {
     "data": {
      "text/html": [
       "<div>\n",
       "<style scoped>\n",
       "    .dataframe tbody tr th:only-of-type {\n",
       "        vertical-align: middle;\n",
       "    }\n",
       "\n",
       "    .dataframe tbody tr th {\n",
       "        vertical-align: top;\n",
       "    }\n",
       "\n",
       "    .dataframe thead th {\n",
       "        text-align: right;\n",
       "    }\n",
       "</style>\n",
       "<table border=\"1\" class=\"dataframe\">\n",
       "  <thead>\n",
       "    <tr style=\"text-align: right;\">\n",
       "      <th></th>\n",
       "      <th>name</th>\n",
       "      <th>predict</th>\n",
       "    </tr>\n",
       "  </thead>\n",
       "  <tbody>\n",
       "    <tr>\n",
       "      <th>377</th>\n",
       "      <td>Baby Trend Diaper Champ</td>\n",
       "      <td>1.000000</td>\n",
       "    </tr>\n",
       "    <tr>\n",
       "      <th>261</th>\n",
       "      <td>Crown Crafts The Original NoJo BabySling by Dr...</td>\n",
       "      <td>1.000000</td>\n",
       "    </tr>\n",
       "    <tr>\n",
       "      <th>408</th>\n",
       "      <td>Baby Trend Diaper Champ</td>\n",
       "      <td>0.999998</td>\n",
       "    </tr>\n",
       "    <tr>\n",
       "      <th>365</th>\n",
       "      <td>Baby Trend Diaper Champ</td>\n",
       "      <td>0.999996</td>\n",
       "    </tr>\n",
       "    <tr>\n",
       "      <th>299</th>\n",
       "      <td>Baby Trend Diaper Champ</td>\n",
       "      <td>0.999995</td>\n",
       "    </tr>\n",
       "    <tr>\n",
       "      <th>429</th>\n",
       "      <td>Baby Trend Diaper Champ</td>\n",
       "      <td>0.999994</td>\n",
       "    </tr>\n",
       "    <tr>\n",
       "      <th>584</th>\n",
       "      <td>Basic Comfort Rest EZ II Pregnancy Wedge</td>\n",
       "      <td>0.999911</td>\n",
       "    </tr>\n",
       "    <tr>\n",
       "      <th>486</th>\n",
       "      <td>Baby Trend Diaper Champ</td>\n",
       "      <td>0.999821</td>\n",
       "    </tr>\n",
       "    <tr>\n",
       "      <th>208</th>\n",
       "      <td>Fisher Price - Baby Bowling</td>\n",
       "      <td>0.999779</td>\n",
       "    </tr>\n",
       "    <tr>\n",
       "      <th>55</th>\n",
       "      <td>Our Baby Girl Memory Book</td>\n",
       "      <td>0.999725</td>\n",
       "    </tr>\n",
       "    <tr>\n",
       "      <th>767</th>\n",
       "      <td>Graco Deluxe Tot-Lock with Tray and High Back ...</td>\n",
       "      <td>0.999713</td>\n",
       "    </tr>\n",
       "    <tr>\n",
       "      <th>312</th>\n",
       "      <td>Baby Trend Diaper Champ</td>\n",
       "      <td>0.999711</td>\n",
       "    </tr>\n",
       "    <tr>\n",
       "      <th>158</th>\n",
       "      <td>Fisher Price Nesting Action Vehicles</td>\n",
       "      <td>0.999629</td>\n",
       "    </tr>\n",
       "    <tr>\n",
       "      <th>298</th>\n",
       "      <td>Baby Trend Diaper Champ</td>\n",
       "      <td>0.999530</td>\n",
       "    </tr>\n",
       "    <tr>\n",
       "      <th>522</th>\n",
       "      <td>Baby Trend Diaper Champ</td>\n",
       "      <td>0.999507</td>\n",
       "    </tr>\n",
       "    <tr>\n",
       "      <th>604</th>\n",
       "      <td>Summer Infant Ultimate Crib Sheet, 52&amp;quot; x ...</td>\n",
       "      <td>0.999501</td>\n",
       "    </tr>\n",
       "    <tr>\n",
       "      <th>599</th>\n",
       "      <td>Summer Infant Ultimate Crib Sheet, 52&amp;quot; x ...</td>\n",
       "      <td>0.999341</td>\n",
       "    </tr>\n",
       "    <tr>\n",
       "      <th>800</th>\n",
       "      <td>Safety 1st Magnetic Tot Lok Complete Set</td>\n",
       "      <td>0.999199</td>\n",
       "    </tr>\n",
       "    <tr>\n",
       "      <th>802</th>\n",
       "      <td>Safety 1st Magnetic Tot Lok Complete Set</td>\n",
       "      <td>0.999096</td>\n",
       "    </tr>\n",
       "    <tr>\n",
       "      <th>139</th>\n",
       "      <td>Fisher Price Nesting Action Vehicles</td>\n",
       "      <td>0.998971</td>\n",
       "    </tr>\n",
       "  </tbody>\n",
       "</table>\n",
       "</div>"
      ],
      "text/plain": [
       "                                                  name   predict\n",
       "377                            Baby Trend Diaper Champ  1.000000\n",
       "261  Crown Crafts The Original NoJo BabySling by Dr...  1.000000\n",
       "408                            Baby Trend Diaper Champ  0.999998\n",
       "365                            Baby Trend Diaper Champ  0.999996\n",
       "299                            Baby Trend Diaper Champ  0.999995\n",
       "429                            Baby Trend Diaper Champ  0.999994\n",
       "584           Basic Comfort Rest EZ II Pregnancy Wedge  0.999911\n",
       "486                            Baby Trend Diaper Champ  0.999821\n",
       "208                        Fisher Price - Baby Bowling  0.999779\n",
       "55                           Our Baby Girl Memory Book  0.999725\n",
       "767  Graco Deluxe Tot-Lock with Tray and High Back ...  0.999713\n",
       "312                            Baby Trend Diaper Champ  0.999711\n",
       "158               Fisher Price Nesting Action Vehicles  0.999629\n",
       "298                            Baby Trend Diaper Champ  0.999530\n",
       "522                            Baby Trend Diaper Champ  0.999507\n",
       "604  Summer Infant Ultimate Crib Sheet, 52&quot; x ...  0.999501\n",
       "599  Summer Infant Ultimate Crib Sheet, 52&quot; x ...  0.999341\n",
       "800           Safety 1st Magnetic Tot Lok Complete Set  0.999199\n",
       "802           Safety 1st Magnetic Tot Lok Complete Set  0.999096\n",
       "139               Fisher Price Nesting Action Vehicles  0.998971"
      ]
     },
     "execution_count": 416,
     "metadata": {},
     "output_type": "execute_result"
    }
   ],
   "source": [
    "test_data_1000_df[[\"name\", \"predict\"]].sort_values(by=[\"predict\"], ascending=False).head(20)"
   ]
  },
  {
   "cell_type": "code",
   "execution_count": 431,
   "metadata": {},
   "outputs": [
    {
     "data": {
      "text/html": [
       "<div>\n",
       "<style scoped>\n",
       "    .dataframe tbody tr th:only-of-type {\n",
       "        vertical-align: middle;\n",
       "    }\n",
       "\n",
       "    .dataframe tbody tr th {\n",
       "        vertical-align: top;\n",
       "    }\n",
       "\n",
       "    .dataframe thead th {\n",
       "        text-align: right;\n",
       "    }\n",
       "</style>\n",
       "<table border=\"1\" class=\"dataframe\">\n",
       "  <thead>\n",
       "    <tr style=\"text-align: right;\">\n",
       "      <th></th>\n",
       "      <th>name</th>\n",
       "      <th>predict</th>\n",
       "    </tr>\n",
       "  </thead>\n",
       "  <tbody>\n",
       "    <tr>\n",
       "      <th>277</th>\n",
       "      <td>Sassy Busy Bugs Bar</td>\n",
       "      <td>0.000588</td>\n",
       "    </tr>\n",
       "    <tr>\n",
       "      <th>998</th>\n",
       "      <td>Safety 1st Deluxe 4-in-1 Bath Station</td>\n",
       "      <td>0.007901</td>\n",
       "    </tr>\n",
       "    <tr>\n",
       "      <th>986</th>\n",
       "      <td>Safety 1st Deluxe 4-in-1 Bath Station</td>\n",
       "      <td>0.008755</td>\n",
       "    </tr>\n",
       "    <tr>\n",
       "      <th>902</th>\n",
       "      <td>Safety 1st Deluxe 4-in-1 Bath Station</td>\n",
       "      <td>0.011120</td>\n",
       "    </tr>\n",
       "    <tr>\n",
       "      <th>749</th>\n",
       "      <td>Graco ultraclear baby monitor</td>\n",
       "      <td>0.020646</td>\n",
       "    </tr>\n",
       "    <tr>\n",
       "      <th>363</th>\n",
       "      <td>Baby Trend Diaper Champ</td>\n",
       "      <td>0.021105</td>\n",
       "    </tr>\n",
       "    <tr>\n",
       "      <th>901</th>\n",
       "      <td>Safety 1st Deluxe 4-in-1 Bath Station</td>\n",
       "      <td>0.026961</td>\n",
       "    </tr>\n",
       "    <tr>\n",
       "      <th>822</th>\n",
       "      <td>Safety 1st Hospital's Choice Accu Scan Ear The...</td>\n",
       "      <td>0.030559</td>\n",
       "    </tr>\n",
       "    <tr>\n",
       "      <th>942</th>\n",
       "      <td>Safety 1st Deluxe 4-in-1 Bath Station</td>\n",
       "      <td>0.049139</td>\n",
       "    </tr>\n",
       "    <tr>\n",
       "      <th>978</th>\n",
       "      <td>Safety 1st Deluxe 4-in-1 Bath Station</td>\n",
       "      <td>0.059762</td>\n",
       "    </tr>\n",
       "    <tr>\n",
       "      <th>948</th>\n",
       "      <td>Safety 1st Deluxe 4-in-1 Bath Station</td>\n",
       "      <td>0.061495</td>\n",
       "    </tr>\n",
       "    <tr>\n",
       "      <th>215</th>\n",
       "      <td>The First Years Massaging Action Teether</td>\n",
       "      <td>0.083735</td>\n",
       "    </tr>\n",
       "    <tr>\n",
       "      <th>513</th>\n",
       "      <td>Baby Trend Diaper Champ</td>\n",
       "      <td>0.095494</td>\n",
       "    </tr>\n",
       "    <tr>\n",
       "      <th>989</th>\n",
       "      <td>Safety 1st Deluxe 4-in-1 Bath Station</td>\n",
       "      <td>0.110189</td>\n",
       "    </tr>\n",
       "    <tr>\n",
       "      <th>737</th>\n",
       "      <td>Safety 1st Power Strip Cover</td>\n",
       "      <td>0.117232</td>\n",
       "    </tr>\n",
       "    <tr>\n",
       "      <th>914</th>\n",
       "      <td>Safety 1st Deluxe 4-in-1 Bath Station</td>\n",
       "      <td>0.119252</td>\n",
       "    </tr>\n",
       "    <tr>\n",
       "      <th>947</th>\n",
       "      <td>Safety 1st Deluxe 4-in-1 Bath Station</td>\n",
       "      <td>0.174870</td>\n",
       "    </tr>\n",
       "    <tr>\n",
       "      <th>892</th>\n",
       "      <td>Safety 1st Deluxe 4-in-1 Bath Station</td>\n",
       "      <td>0.175611</td>\n",
       "    </tr>\n",
       "    <tr>\n",
       "      <th>938</th>\n",
       "      <td>Safety 1st Deluxe 4-in-1 Bath Station</td>\n",
       "      <td>0.190682</td>\n",
       "    </tr>\n",
       "    <tr>\n",
       "      <th>559</th>\n",
       "      <td>Baby Trend Diaper Champ</td>\n",
       "      <td>0.222075</td>\n",
       "    </tr>\n",
       "  </tbody>\n",
       "</table>\n",
       "</div>"
      ],
      "text/plain": [
       "                                                  name   predict\n",
       "277                                Sassy Busy Bugs Bar  0.000588\n",
       "998              Safety 1st Deluxe 4-in-1 Bath Station  0.007901\n",
       "986              Safety 1st Deluxe 4-in-1 Bath Station  0.008755\n",
       "902              Safety 1st Deluxe 4-in-1 Bath Station  0.011120\n",
       "749                      Graco ultraclear baby monitor  0.020646\n",
       "363                            Baby Trend Diaper Champ  0.021105\n",
       "901              Safety 1st Deluxe 4-in-1 Bath Station  0.026961\n",
       "822  Safety 1st Hospital's Choice Accu Scan Ear The...  0.030559\n",
       "942              Safety 1st Deluxe 4-in-1 Bath Station  0.049139\n",
       "978              Safety 1st Deluxe 4-in-1 Bath Station  0.059762\n",
       "948              Safety 1st Deluxe 4-in-1 Bath Station  0.061495\n",
       "215           The First Years Massaging Action Teether  0.083735\n",
       "513                            Baby Trend Diaper Champ  0.095494\n",
       "989              Safety 1st Deluxe 4-in-1 Bath Station  0.110189\n",
       "737                       Safety 1st Power Strip Cover  0.117232\n",
       "914              Safety 1st Deluxe 4-in-1 Bath Station  0.119252\n",
       "947              Safety 1st Deluxe 4-in-1 Bath Station  0.174870\n",
       "892              Safety 1st Deluxe 4-in-1 Bath Station  0.175611\n",
       "938              Safety 1st Deluxe 4-in-1 Bath Station  0.190682\n",
       "559                            Baby Trend Diaper Champ  0.222075"
      ]
     },
     "execution_count": 431,
     "metadata": {},
     "output_type": "execute_result"
    }
   ],
   "source": [
    "test_data_1000_df[[\"name\", \"predict\"]].sort_values(by=[\"predict\"]).head(20)"
   ]
  },
  {
   "cell_type": "markdown",
   "metadata": {},
   "source": [
    "## Compute accuracy of the classifier"
   ]
  },
  {
   "cell_type": "code",
   "execution_count": 432,
   "metadata": {},
   "outputs": [],
   "source": [
    "def get_classification_accuracy(model, data, true_labels):\n",
    "    predictions = model.predict(data)\n",
    "    num_correct = sum(predictions == true_labels)\n",
    "    accuracy = num_correct/len(data)\n",
    "    \n",
    "    return accuracy"
   ]
  },
  {
   "cell_type": "code",
   "execution_count": 433,
   "metadata": {},
   "outputs": [
    {
     "data": {
      "text/plain": [
       "0.81"
      ]
     },
     "execution_count": 433,
     "metadata": {},
     "output_type": "execute_result"
    }
   ],
   "source": [
    "get_classification_accuracy(sentiment_model, test_data_1000_arr[:, :-1], test_data_1000_df[\"sentiment\"])"
   ]
  },
  {
   "cell_type": "markdown",
   "metadata": {},
   "source": [
    "## Learn another classifier with fewer words"
   ]
  },
  {
   "cell_type": "code",
   "execution_count": 436,
   "metadata": {},
   "outputs": [],
   "source": [
    "significant_words = [\"love\", \"great\", \"easy\", \"old\", \"little\", \"perfect\", \"loves\",\n",
    "                    \"well\", \"able\", \"car\", \"broke\", \"less\", \"even\", \"waste\", \"disappointed\",\n",
    "                    \"work\", \"product\", \"money\", \"would\", \"return\"]"
   ]
  },
  {
   "cell_type": "code",
   "execution_count": 437,
   "metadata": {},
   "outputs": [
    {
     "data": {
      "text/plain": [
       "20"
      ]
     },
     "execution_count": 437,
     "metadata": {},
     "output_type": "execute_result"
    }
   ],
   "source": [
    "len(significant_words)"
   ]
  },
  {
   "cell_type": "code",
   "execution_count": 556,
   "metadata": {},
   "outputs": [
    {
     "data": {
      "text/plain": [
       "{'disappointed': 1, 'love': 1}"
      ]
     },
     "execution_count": 556,
     "metadata": {},
     "output_type": "execute_result"
    }
   ],
   "source": [
    "dict = products[\"word_count\"][0]     \n",
    "dict_new = {}\n",
    "\n",
    "for i in range(len(dict)):\n",
    "    if dict.keys()[i] in significant_words:\n",
    "        dict_new[dict.keys()[i]] = dict[dict.keys()[i]]\n",
    "        \n",
    "dict_new"
   ]
  },
  {
   "cell_type": "code",
   "execution_count": 557,
   "metadata": {},
   "outputs": [],
   "source": [
    "def dict_trim(text):\n",
    "    dict0 = text\n",
    "    dict_new = {}\n",
    "    \n",
    "    for i in range(len(dict0)):\n",
    "        if dict0.keys()[i] in significant_words:\n",
    "            dict_new[dict0.keys()[i]] = dict0[dict0.keys()[i]]\n",
    "            \n",
    "    return dict_new"
   ]
  },
  {
   "cell_type": "code",
   "execution_count": 563,
   "metadata": {},
   "outputs": [],
   "source": [
    "products_1000_df_simple = products_1000_df\n",
    "\n",
    "products_1000_df_simple[\"word_count_subset\"] = products_1000_df_simple[\"word_count\"].apply(dict_trim)"
   ]
  },
  {
   "cell_type": "code",
   "execution_count": 568,
   "metadata": {},
   "outputs": [],
   "source": [
    "products_1000_df_simple_subset = products_1000_df_simple[products_1000_df_simple[\"word_count_subset\"] != {}]"
   ]
  },
  {
   "cell_type": "code",
   "execution_count": 569,
   "metadata": {},
   "outputs": [
    {
     "data": {
      "text/plain": [
       "850"
      ]
     },
     "execution_count": 569,
     "metadata": {},
     "output_type": "execute_result"
    }
   ],
   "source": [
    "len(products_1000_df_simple_subset) "
   ]
  },
  {
   "cell_type": "code",
   "execution_count": 572,
   "metadata": {},
   "outputs": [
    {
     "name": "stdout",
     "output_type": "stream",
     "text": [
      "680\n",
      "170\n",
      "850\n"
     ]
    }
   ],
   "source": [
    "train_data_1000_df_simple, test_data_1000_df_simple = train_test_split(products_1000_df_simple_subset, test_size=0.2, random_state=42)\n",
    "\n",
    "print len(train_data_1000_df_simple)\n",
    "print len(test_data_1000_df_simple)\n",
    "\n",
    "products_1000_df_simple_subset = train_data_1000_df_simple.append(test_data_1000_df_simple)\n",
    "products_1000_df_simple_subset = products_1000_df_simple_subset.reset_index(drop=True)\n",
    "\n",
    "print len(products_1000_df_simple_subset)"
   ]
  },
  {
   "cell_type": "code",
   "execution_count": 574,
   "metadata": {},
   "outputs": [],
   "source": [
    "df_new_simple = products_1000_df_simple_subset[\"word_count_subset\"].apply(pd.Series).stack()\n",
    "df_new_simple = df_new_simple.reset_index()\n",
    "df_new_simple.columns = [\"id\", \"feature\", \"value\"]"
   ]
  },
  {
   "cell_type": "code",
   "execution_count": 576,
   "metadata": {},
   "outputs": [],
   "source": [
    "f = LabelEncoder()\n",
    "df_new_simple_label = f.fit_transform(df_new_simple[\"feature\"])\n",
    "\n",
    "df_new_simple[\"feature_id\"] = df_new_simple_label"
   ]
  },
  {
   "cell_type": "code",
   "execution_count": 580,
   "metadata": {},
   "outputs": [],
   "source": [
    "v = np.array(df_new_simple[\"value\"])\n",
    "i = np.array(df_new_simple[\"id\"])\n",
    "j = np.array(df_new_simple[\"feature_id\"])\n",
    "\n",
    "row = df_new_simple[\"id\"].max() + 1\n",
    "col = j.max() + 1\n",
    "\n",
    "mat = csr_matrix((v, (i, j)), shape=(row, col))\n",
    "features_toarray_simple = mat.toarray()"
   ]
  },
  {
   "cell_type": "code",
   "execution_count": 581,
   "metadata": {},
   "outputs": [
    {
     "data": {
      "text/plain": [
       "(850L, 20L)"
      ]
     },
     "execution_count": 581,
     "metadata": {},
     "output_type": "execute_result"
    }
   ],
   "source": [
    "features_toarray_simple.shape"
   ]
  },
  {
   "cell_type": "code",
   "execution_count": 590,
   "metadata": {},
   "outputs": [],
   "source": [
    "sentiment_toarray_simple = np.array(products_1000_df_simple_subset[\"sentiment\"])\n",
    "sentiment_toarray_simple = sentiment_toarray_simple[:, None]"
   ]
  },
  {
   "cell_type": "code",
   "execution_count": 591,
   "metadata": {},
   "outputs": [
    {
     "name": "stdout",
     "output_type": "stream",
     "text": [
      "(850L, 20L)\n",
      "(850L, 1L)\n"
     ]
    }
   ],
   "source": [
    "print features_toarray_simple.shape\n",
    "print sentiment_toarray_simple.shape"
   ]
  },
  {
   "cell_type": "code",
   "execution_count": 592,
   "metadata": {},
   "outputs": [],
   "source": [
    "products_1000_array_simple = np.hstack((features_toarray_simple, sentiment_toarray_simple))"
   ]
  },
  {
   "cell_type": "code",
   "execution_count": 594,
   "metadata": {},
   "outputs": [
    {
     "name": "stdout",
     "output_type": "stream",
     "text": [
      "(850L, 21L)\n"
     ]
    },
    {
     "data": {
      "text/plain": [
       "array([[ 0.,  0.,  0., ...,  1.,  0.,  1.],\n",
       "       [ 0.,  0.,  0., ...,  0.,  0.,  1.],\n",
       "       [ 0.,  0.,  0., ...,  0.,  0.,  1.],\n",
       "       ...,\n",
       "       [ 0.,  0.,  0., ...,  0.,  2.,  1.],\n",
       "       [ 0.,  0.,  0., ...,  0.,  4., -1.],\n",
       "       [ 0.,  0.,  0., ...,  0.,  0., -1.]])"
      ]
     },
     "execution_count": 594,
     "metadata": {},
     "output_type": "execute_result"
    }
   ],
   "source": [
    "print products_1000_array_simple.shape\n",
    "\n",
    "products_1000_array_simple"
   ]
  },
  {
   "cell_type": "code",
   "execution_count": 596,
   "metadata": {},
   "outputs": [
    {
     "name": "stdout",
     "output_type": "stream",
     "text": [
      "680\n",
      "170\n"
     ]
    }
   ],
   "source": [
    "train_data_1000_arr_simple = products_1000_array_simple[:680, :]\n",
    "test_data_1000_arr_simple = products_1000_array_simple[680:, :]\n",
    "\n",
    "print len(train_data_1000_arr_simple)\n",
    "print len(test_data_1000_arr_simple)"
   ]
  },
  {
   "cell_type": "markdown",
   "metadata": {},
   "source": [
    "## Train a logistic regression model on a subset of data"
   ]
  },
  {
   "cell_type": "code",
   "execution_count": 597,
   "metadata": {},
   "outputs": [],
   "source": [
    "simple_model = LogisticRegression(solver=\"lbfgs\").fit(train_data_1000_arr_simple[:, :-1], train_data_1000_arr_simple[:, -1])"
   ]
  },
  {
   "cell_type": "code",
   "execution_count": 598,
   "metadata": {},
   "outputs": [
    {
     "data": {
      "text/plain": [
       "LogisticRegression(C=1.0, class_weight=None, dual=False, fit_intercept=True,\n",
       "          intercept_scaling=1, max_iter=100, multi_class='warn',\n",
       "          n_jobs=None, penalty='l2', random_state=None, solver='lbfgs',\n",
       "          tol=0.0001, verbose=0, warm_start=False)"
      ]
     },
     "execution_count": 598,
     "metadata": {},
     "output_type": "execute_result"
    }
   ],
   "source": [
    "simple_model"
   ]
  },
  {
   "cell_type": "code",
   "execution_count": 605,
   "metadata": {},
   "outputs": [
    {
     "data": {
      "text/plain": [
       "0.8176470588235294"
      ]
     },
     "execution_count": 605,
     "metadata": {},
     "output_type": "execute_result"
    }
   ],
   "source": [
    "get_classification_accuracy(simple_model, test_data_1000_arr_simple[:, :-1], test_data_1000_df_simple[\"sentiment\"])"
   ]
  },
  {
   "cell_type": "markdown",
   "metadata": {},
   "source": [
    "# Comparing models"
   ]
  },
  {
   "cell_type": "code",
   "execution_count": 606,
   "metadata": {},
   "outputs": [
    {
     "data": {
      "text/plain": [
       "0.99875"
      ]
     },
     "execution_count": 606,
     "metadata": {},
     "output_type": "execute_result"
    }
   ],
   "source": [
    "get_classification_accuracy(sentiment_model, train_data_1000_arr[:, :-1], train_data_1000_df[\"sentiment\"])"
   ]
  },
  {
   "cell_type": "code",
   "execution_count": 607,
   "metadata": {},
   "outputs": [
    {
     "data": {
      "text/plain": [
       "0.8058823529411765"
      ]
     },
     "execution_count": 607,
     "metadata": {},
     "output_type": "execute_result"
    }
   ],
   "source": [
    "get_classification_accuracy(simple_model, train_data_1000_arr_simple[:, :-1], train_data_1000_df_simple[\"sentiment\"])"
   ]
  },
  {
   "cell_type": "code",
   "execution_count": 608,
   "metadata": {},
   "outputs": [
    {
     "data": {
      "text/plain": [
       "0.81"
      ]
     },
     "execution_count": 608,
     "metadata": {},
     "output_type": "execute_result"
    }
   ],
   "source": [
    "get_classification_accuracy(sentiment_model, test_data_1000_arr[:, :-1], test_data_1000_df[\"sentiment\"])"
   ]
  },
  {
   "cell_type": "code",
   "execution_count": 610,
   "metadata": {},
   "outputs": [
    {
     "data": {
      "text/plain": [
       "0.8176470588235294"
      ]
     },
     "execution_count": 610,
     "metadata": {},
     "output_type": "execute_result"
    }
   ],
   "source": [
    "get_classification_accuracy(simple_model, test_data_1000_arr_simple[:, :-1], test_data_1000_df_simple[\"sentiment\"])"
   ]
  },
  {
   "cell_type": "markdown",
   "metadata": {},
   "source": [
    "## Baseline: Majority class prediction"
   ]
  },
  {
   "cell_type": "code",
   "execution_count": 611,
   "metadata": {},
   "outputs": [
    {
     "name": "stdout",
     "output_type": "stream",
     "text": [
      "598\n",
      "202\n"
     ]
    }
   ],
   "source": [
    "num_positive = (train_data_1000_df[\"sentiment\"] == 1).sum()\n",
    "num_negative = (train_data_1000_df[\"sentiment\"] == -1).sum()\n",
    "\n",
    "print num_positive\n",
    "print num_negative"
   ]
  },
  {
   "cell_type": "code",
   "execution_count": 612,
   "metadata": {},
   "outputs": [
    {
     "name": "stdout",
     "output_type": "stream",
     "text": [
      "149\n",
      "51\n"
     ]
    }
   ],
   "source": [
    "print (test_data_1000_df[\"sentiment\"] == 1).sum()\n",
    "print (test_data_1000_df[\"sentiment\"] == -1).sum()"
   ]
  },
  {
   "cell_type": "code",
   "execution_count": 613,
   "metadata": {},
   "outputs": [
    {
     "data": {
      "text/plain": [
       "0.745"
      ]
     },
     "execution_count": 613,
     "metadata": {},
     "output_type": "execute_result"
    }
   ],
   "source": [
    "(test_data_1000_df[\"sentiment\"]==1).sum()/len(test_data_1000_df)"
   ]
  },
  {
   "cell_type": "markdown",
   "metadata": {},
   "source": []
  }
 ],
 "metadata": {
  "kernelspec": {
   "display_name": "Python 2",
   "language": "python",
   "name": "python2"
  },
  "language_info": {
   "codemirror_mode": {
    "name": "ipython",
    "version": 2
   },
   "file_extension": ".py",
   "mimetype": "text/x-python",
   "name": "python",
   "nbconvert_exporter": "python",
   "pygments_lexer": "ipython2",
   "version": "2.7.14"
  }
 },
 "nbformat": 4,
 "nbformat_minor": 2
}
