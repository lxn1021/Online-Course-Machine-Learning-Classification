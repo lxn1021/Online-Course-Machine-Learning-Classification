{
 "cells": [
  {
   "cell_type": "markdown",
   "metadata": {},
   "source": [
    "# Boosting a decision stump"
   ]
  },
  {
   "cell_type": "code",
   "execution_count": 43,
   "metadata": {},
   "outputs": [],
   "source": [
    "import graphlab\n",
    "import matplotlib.pyplot as plt\n",
    "%matplotlib inline\n",
    "from __future__ import division\n",
    "import numpy as np\n",
    "import pandas as pd"
   ]
  },
  {
   "cell_type": "markdown",
   "metadata": {},
   "source": [
    "# Getting the data ready"
   ]
  },
  {
   "cell_type": "code",
   "execution_count": 44,
   "metadata": {},
   "outputs": [],
   "source": [
    "loans = graphlab.SFrame(\"E:\\\\Machine Learning\\\\U.W\\\\Classification\\\\lending-club-data.gl/\")\n",
    "loans.save(\"E:\\\\Machine Learning\\\\U.W\\\\Classification\\\\lending-club-data.csv\", format=\"csv\")\n",
    "loans = pd.read_csv(\"E:\\\\Machine Learning\\\\U.W\\\\Classification\\\\lending-club-data.csv\")"
   ]
  },
  {
   "cell_type": "code",
   "execution_count": 45,
   "metadata": {},
   "outputs": [
    {
     "data": {
      "text/html": [
       "<div>\n",
       "<style scoped>\n",
       "    .dataframe tbody tr th:only-of-type {\n",
       "        vertical-align: middle;\n",
       "    }\n",
       "\n",
       "    .dataframe tbody tr th {\n",
       "        vertical-align: top;\n",
       "    }\n",
       "\n",
       "    .dataframe thead th {\n",
       "        text-align: right;\n",
       "    }\n",
       "</style>\n",
       "<table border=\"1\" class=\"dataframe\">\n",
       "  <thead>\n",
       "    <tr style=\"text-align: right;\">\n",
       "      <th></th>\n",
       "      <th>id</th>\n",
       "      <th>member_id</th>\n",
       "      <th>loan_amnt</th>\n",
       "      <th>funded_amnt</th>\n",
       "      <th>funded_amnt_inv</th>\n",
       "      <th>term</th>\n",
       "      <th>int_rate</th>\n",
       "      <th>installment</th>\n",
       "      <th>grade</th>\n",
       "      <th>sub_grade</th>\n",
       "      <th>...</th>\n",
       "      <th>sub_grade_num</th>\n",
       "      <th>delinq_2yrs_zero</th>\n",
       "      <th>pub_rec_zero</th>\n",
       "      <th>collections_12_mths_zero</th>\n",
       "      <th>short_emp</th>\n",
       "      <th>payment_inc_ratio</th>\n",
       "      <th>final_d</th>\n",
       "      <th>last_delinq_none</th>\n",
       "      <th>last_record_none</th>\n",
       "      <th>last_major_derog_none</th>\n",
       "    </tr>\n",
       "  </thead>\n",
       "  <tbody>\n",
       "    <tr>\n",
       "      <th>0</th>\n",
       "      <td>1077501</td>\n",
       "      <td>1296599</td>\n",
       "      <td>5000</td>\n",
       "      <td>5000</td>\n",
       "      <td>4975</td>\n",
       "      <td>36 months</td>\n",
       "      <td>10.65</td>\n",
       "      <td>162.87</td>\n",
       "      <td>B</td>\n",
       "      <td>B2</td>\n",
       "      <td>...</td>\n",
       "      <td>0.4</td>\n",
       "      <td>1.0</td>\n",
       "      <td>1.0</td>\n",
       "      <td>1.0</td>\n",
       "      <td>0</td>\n",
       "      <td>8.14350</td>\n",
       "      <td>20141201T000000</td>\n",
       "      <td>1</td>\n",
       "      <td>1</td>\n",
       "      <td>1</td>\n",
       "    </tr>\n",
       "    <tr>\n",
       "      <th>1</th>\n",
       "      <td>1077430</td>\n",
       "      <td>1314167</td>\n",
       "      <td>2500</td>\n",
       "      <td>2500</td>\n",
       "      <td>2500</td>\n",
       "      <td>60 months</td>\n",
       "      <td>15.27</td>\n",
       "      <td>59.83</td>\n",
       "      <td>C</td>\n",
       "      <td>C4</td>\n",
       "      <td>...</td>\n",
       "      <td>0.8</td>\n",
       "      <td>1.0</td>\n",
       "      <td>1.0</td>\n",
       "      <td>1.0</td>\n",
       "      <td>1</td>\n",
       "      <td>2.39320</td>\n",
       "      <td>20161201T000000</td>\n",
       "      <td>1</td>\n",
       "      <td>1</td>\n",
       "      <td>1</td>\n",
       "    </tr>\n",
       "    <tr>\n",
       "      <th>2</th>\n",
       "      <td>1077175</td>\n",
       "      <td>1313524</td>\n",
       "      <td>2400</td>\n",
       "      <td>2400</td>\n",
       "      <td>2400</td>\n",
       "      <td>36 months</td>\n",
       "      <td>15.96</td>\n",
       "      <td>84.33</td>\n",
       "      <td>C</td>\n",
       "      <td>C5</td>\n",
       "      <td>...</td>\n",
       "      <td>1.0</td>\n",
       "      <td>1.0</td>\n",
       "      <td>1.0</td>\n",
       "      <td>1.0</td>\n",
       "      <td>0</td>\n",
       "      <td>8.25955</td>\n",
       "      <td>20141201T000000</td>\n",
       "      <td>1</td>\n",
       "      <td>1</td>\n",
       "      <td>1</td>\n",
       "    </tr>\n",
       "    <tr>\n",
       "      <th>3</th>\n",
       "      <td>1076863</td>\n",
       "      <td>1277178</td>\n",
       "      <td>10000</td>\n",
       "      <td>10000</td>\n",
       "      <td>10000</td>\n",
       "      <td>36 months</td>\n",
       "      <td>13.49</td>\n",
       "      <td>339.31</td>\n",
       "      <td>C</td>\n",
       "      <td>C1</td>\n",
       "      <td>...</td>\n",
       "      <td>0.2</td>\n",
       "      <td>1.0</td>\n",
       "      <td>1.0</td>\n",
       "      <td>1.0</td>\n",
       "      <td>0</td>\n",
       "      <td>8.27585</td>\n",
       "      <td>20141201T000000</td>\n",
       "      <td>0</td>\n",
       "      <td>1</td>\n",
       "      <td>1</td>\n",
       "    </tr>\n",
       "    <tr>\n",
       "      <th>4</th>\n",
       "      <td>1075269</td>\n",
       "      <td>1311441</td>\n",
       "      <td>5000</td>\n",
       "      <td>5000</td>\n",
       "      <td>5000</td>\n",
       "      <td>36 months</td>\n",
       "      <td>7.90</td>\n",
       "      <td>156.46</td>\n",
       "      <td>A</td>\n",
       "      <td>A4</td>\n",
       "      <td>...</td>\n",
       "      <td>0.8</td>\n",
       "      <td>1.0</td>\n",
       "      <td>1.0</td>\n",
       "      <td>1.0</td>\n",
       "      <td>0</td>\n",
       "      <td>5.21533</td>\n",
       "      <td>20141201T000000</td>\n",
       "      <td>1</td>\n",
       "      <td>1</td>\n",
       "      <td>1</td>\n",
       "    </tr>\n",
       "  </tbody>\n",
       "</table>\n",
       "<p>5 rows × 68 columns</p>\n",
       "</div>"
      ],
      "text/plain": [
       "        id  member_id  loan_amnt  funded_amnt  funded_amnt_inv        term  \\\n",
       "0  1077501    1296599       5000         5000             4975   36 months   \n",
       "1  1077430    1314167       2500         2500             2500   60 months   \n",
       "2  1077175    1313524       2400         2400             2400   36 months   \n",
       "3  1076863    1277178      10000        10000            10000   36 months   \n",
       "4  1075269    1311441       5000         5000             5000   36 months   \n",
       "\n",
       "   int_rate  installment grade sub_grade          ...          sub_grade_num  \\\n",
       "0     10.65       162.87     B        B2          ...                    0.4   \n",
       "1     15.27        59.83     C        C4          ...                    0.8   \n",
       "2     15.96        84.33     C        C5          ...                    1.0   \n",
       "3     13.49       339.31     C        C1          ...                    0.2   \n",
       "4      7.90       156.46     A        A4          ...                    0.8   \n",
       "\n",
       "  delinq_2yrs_zero pub_rec_zero  collections_12_mths_zero short_emp  \\\n",
       "0              1.0          1.0                       1.0         0   \n",
       "1              1.0          1.0                       1.0         1   \n",
       "2              1.0          1.0                       1.0         0   \n",
       "3              1.0          1.0                       1.0         0   \n",
       "4              1.0          1.0                       1.0         0   \n",
       "\n",
       "  payment_inc_ratio          final_d last_delinq_none last_record_none  \\\n",
       "0           8.14350  20141201T000000                1                1   \n",
       "1           2.39320  20161201T000000                1                1   \n",
       "2           8.25955  20141201T000000                1                1   \n",
       "3           8.27585  20141201T000000                0                1   \n",
       "4           5.21533  20141201T000000                1                1   \n",
       "\n",
       "  last_major_derog_none  \n",
       "0                     1  \n",
       "1                     1  \n",
       "2                     1  \n",
       "3                     1  \n",
       "4                     1  \n",
       "\n",
       "[5 rows x 68 columns]"
      ]
     },
     "execution_count": 45,
     "metadata": {},
     "output_type": "execute_result"
    }
   ],
   "source": [
    "loans.head()"
   ]
  },
  {
   "cell_type": "markdown",
   "metadata": {},
   "source": [
    "### Extracting the target and the feature columns"
   ]
  },
  {
   "cell_type": "code",
   "execution_count": 46,
   "metadata": {},
   "outputs": [],
   "source": [
    "features = [\"grade\", \"term\", \"home_ownership\", \"emp_length\"]\n",
    "\n",
    "loans[\"safe_loans\"] = loans[\"bad_loans\"].apply(lambda x: +1 if x==0 else -1)\n",
    "loans = loans.drop([\"bad_loans\"], axis=1)\n",
    "target = \"safe_loans\"\n",
    "loans = loans[features + [target]]"
   ]
  },
  {
   "cell_type": "markdown",
   "metadata": {},
   "source": [
    "### Subsample dataset to make sure classes are balanced"
   ]
  },
  {
   "cell_type": "code",
   "execution_count": 47,
   "metadata": {},
   "outputs": [
    {
     "name": "stdout",
     "output_type": "stream",
     "text": [
      "Percentage of safe loans                : 0.5\n",
      "Percentage of risky loans               : 0.5\n",
      "Total number of loans in our new dataset: 46300\n"
     ]
    }
   ],
   "source": [
    "safe_loans_raw = loans[loans[target] == 1]\n",
    "risky_loans_raw = loans[loans[target] == -1]\n",
    "\n",
    "percentage = len(risky_loans_raw)/float(len(safe_loans_raw))\n",
    "risky_loans = risky_loans_raw\n",
    "safe_loans = safe_loans_raw.sample(frac=percentage, random_state=42)\n",
    "loans_data = risky_loans.append(safe_loans)\n",
    "\n",
    "print \"Percentage of safe loans                :\", len(safe_loans)/float(len(loans_data))\n",
    "print \"Percentage of risky loans               :\", len(risky_loans)/float(len(loans_data))\n",
    "print \"Total number of loans in our new dataset:\", len(loans_data)"
   ]
  },
  {
   "cell_type": "markdown",
   "metadata": {},
   "source": [
    "### Transform categorical data into binary features"
   ]
  },
  {
   "cell_type": "code",
   "execution_count": 48,
   "metadata": {},
   "outputs": [],
   "source": [
    "loans_data = risky_loans.append(safe_loans)\n",
    "\n",
    "loans_data = pd.get_dummies(loans_data)"
   ]
  },
  {
   "cell_type": "code",
   "execution_count": 206,
   "metadata": {},
   "outputs": [
    {
     "data": {
      "text/plain": [
       "array(['grade_A', 'grade_B', 'grade_C', 'grade_D', 'grade_E', 'grade_F',\n",
       "       'grade_G', 'term_ 36 months', 'term_ 60 months',\n",
       "       'home_ownership_MORTGAGE', 'home_ownership_OTHER',\n",
       "       'home_ownership_OWN', 'home_ownership_RENT', 'emp_length_1 year',\n",
       "       'emp_length_10+ years', 'emp_length_2 years', 'emp_length_3 years',\n",
       "       'emp_length_4 years', 'emp_length_5 years', 'emp_length_6 years',\n",
       "       'emp_length_7 years', 'emp_length_8 years', 'emp_length_9 years',\n",
       "       'emp_length_< 1 year'], dtype=object)"
      ]
     },
     "execution_count": 206,
     "metadata": {},
     "output_type": "execute_result"
    }
   ],
   "source": [
    "features = loans_data.columns.values\n",
    "features = features[features != \"safe_loans\"]\n",
    "\n",
    "features"
   ]
  },
  {
   "cell_type": "markdown",
   "metadata": {},
   "source": [
    "### Train-test split"
   ]
  },
  {
   "cell_type": "code",
   "execution_count": 50,
   "metadata": {},
   "outputs": [],
   "source": [
    "from sklearn.model_selection import train_test_split"
   ]
  },
  {
   "cell_type": "code",
   "execution_count": 51,
   "metadata": {},
   "outputs": [],
   "source": [
    "train_data, test_data = train_test_split(loans_data, test_size=0.2, random_state=42)"
   ]
  },
  {
   "cell_type": "code",
   "execution_count": 52,
   "metadata": {},
   "outputs": [
    {
     "name": "stdout",
     "output_type": "stream",
     "text": [
      "0.8\n",
      "0.2\n"
     ]
    }
   ],
   "source": [
    "print len(train_data)/len(loans_data)\n",
    "print len(test_data)/len(loans_data)"
   ]
  },
  {
   "cell_type": "markdown",
   "metadata": {},
   "source": [
    "# Weighted decision trees"
   ]
  },
  {
   "cell_type": "markdown",
   "metadata": {},
   "source": [
    "### Weighted error definition\n",
    "\n",
    "$$\n",
    "\\mathrm{E}(\\mathbf{\\alpha}, \\mathbf{\\hat{y}}) = \\frac{\\sum_{i=1}^{n} \\alpha_i \\times 1[y_i \\neq \\hat{y_i}]}{\\sum_{i=1}^{n} \\alpha_i}\n",
    "$$\n",
    "\n",
    "\n",
    "### Write a function to compute weight of mistakes\n",
    "\n",
    "$$\n",
    "\\mathrm{WM}(\\mathbf{\\alpha}, \\mathbf{\\hat{y}}) = \\sum_{i=1}^{n} \\alpha_i \\times 1[y_i \\neq \\hat{y_i}].\n",
    "$$\n",
    "\n",
    "$$\n",
    "\\mathrm{E}(\\mathbf{\\alpha}, \\mathbf{\\hat{y}}) = \\frac{\\mathrm{WM}(\\mathbf{\\alpha}, \\mathbf{\\hat{y}})}{\\sum_{i=1}^{n} \\alpha_i}\n",
    "$$"
   ]
  },
  {
   "cell_type": "code",
   "execution_count": 132,
   "metadata": {},
   "outputs": [],
   "source": [
    "def intermediate_node_weighted_mistakes(labels_in_node, data_weights):\n",
    "    # Sum the weights of all entries with label +1.\n",
    "    arr1 = np.array(labels_in_node == +1)\n",
    "    total_weight_positive = sum(data_weights[list(arr1)])\n",
    "    \n",
    "    # Weight of mistakes for predicting all -1's is equal to the sum above.\n",
    "    weighted_mistakes_all_negative = total_weight_positive\n",
    "    \n",
    "    # Sum the weights of all entries with label -1.\n",
    "    arr2 = np.array(labels_in_node == -1)\n",
    "    total_weight_negative = sum(data_weights[list(arr2)])\n",
    "    \n",
    "    # Weight of mistakes for predicting all +1's is equal to the sum above.\n",
    "    weighted_mistakes_all_positive = total_weight_negative\n",
    "    \n",
    "    # Return the tuple (weight, class_label) representing the lower of the two weights\n",
    "    # class_label should be an integer of value +1 or -1.\n",
    "    # If the two weights are identical, return (weighted_mistakes_all_positive, +1)\n",
    "    if weighted_mistakes_all_negative < weighted_mistakes_all_positive:\n",
    "        return (weighted_mistakes_all_negative, -1)\n",
    "    else:\n",
    "        return (weighted_mistakes_all_positive, +1)"
   ]
  },
  {
   "cell_type": "markdown",
   "metadata": {},
   "source": [
    "### Function to pick best feature to split on"
   ]
  },
  {
   "cell_type": "code",
   "execution_count": 134,
   "metadata": {},
   "outputs": [],
   "source": [
    "def best_splitting_feature(data, features, target, data_weights):\n",
    "\n",
    "    best_feature = None\n",
    "    best_error = float(\"+inf\")\n",
    "    num_points = float(len(data))\n",
    "    \n",
    "    \n",
    "    for feature in features:\n",
    "        \n",
    "        left_split = data[data[feature] == 0]\n",
    "        right_split = data[data[feature] == 1]\n",
    "        \n",
    "        arr1 = np.array(data[feature] == 0)\n",
    "        arr2 = np.array(data[feature] == 1)\n",
    "        \n",
    "        left_data_weights = data_weights[list(arr1)]\n",
    "        right_data_weights = data_weights[list(arr2)]\n",
    "        \n",
    "        left_weighted_mistakes, left_class = intermediate_node_weighted_mistakes(left_split[target], left_data_weights)\n",
    "        right_weighted_mistakes, right_class = intermediate_node_weighted_mistakes(right_split[target], right_data_weights)\n",
    "        \n",
    "        error = (left_weighted_mistakes + right_weighted_mistakes) / num_points\n",
    "        \n",
    "        if error < best_error:\n",
    "            best_feature = feature\n",
    "            best_error = error\n",
    "            \n",
    "\n",
    "    return best_feature"
   ]
  },
  {
   "cell_type": "markdown",
   "metadata": {},
   "source": [
    "### Building the tree"
   ]
  },
  {
   "cell_type": "code",
   "execution_count": 135,
   "metadata": {},
   "outputs": [],
   "source": [
    "def create_leaf(target_values, data_weights):\n",
    "    leaf = {\"splitting_feature\": None,\n",
    "           \"is_leaf\": True}\n",
    "    \n",
    "    weighted_error, best_class = intermediate_node_weighted_mistakes(target_values, data_weights)\n",
    "    \n",
    "    leaf[\"prediction\"] = best_class\n",
    "    \n",
    "    return leaf"
   ]
  },
  {
   "cell_type": "code",
   "execution_count": 165,
   "metadata": {},
   "outputs": [],
   "source": [
    "def weighted_decision_tree_create(data, features, target, data_weights, current_depth = 1, max_depth = 10):\n",
    "    remaining_features = features[:]  \n",
    "    target_values = data[target]\n",
    "    print \"---------------------------------------------------------------------\"\n",
    "    print \"Subtree, depth = %s (%s data points).\" % (current_depth, len(target_values))\n",
    "    \n",
    "    \n",
    "    if intermediate_node_weighted_mistakes(target_values, data_weights)[0] <= 1e-15:\n",
    "        print \"Stopping condition 1 reached.\"\n",
    "        return create_leaf(target_values, data_weights)\n",
    "    \n",
    "    if remaining_features == []:\n",
    "        print \"Stopping condition 2 reached.\"\n",
    "        return create_leaf(target_values, data_weights)\n",
    "    \n",
    "    if current_depth > max_depth:\n",
    "        print \"Reached maximum depth. Stopping for now.\"\n",
    "        return create_leaf(target_values, data_weights)\n",
    "    \n",
    "    \n",
    "    splitting_feature = best_splitting_feature(data, features, target, data_weights)\n",
    "    remaining_features = remaining_features[remaining_features != splitting_feature]\n",
    "    \n",
    "    left_split = data[data[splitting_feature] == 0]\n",
    "    right_split = data[data[splitting_feature] == 1]\n",
    "    \n",
    "    arr1 = np.array(data[splitting_feature] == 0)\n",
    "    arr2 = np.array(data[splitting_feature] == 1)\n",
    "    \n",
    "    left_data_weights = data_weights[list(arr1)]\n",
    "    right_data_weights = data_weights[list(arr2)]\n",
    "    \n",
    "    print \"Split on feature %s. (%s, %s)\" % (splitting_feature, len(left_split), len(right_split))\n",
    "    \n",
    "    \n",
    "    if len(left_split) == len(data):\n",
    "        print \"Creating leaf node.\"\n",
    "        return create_leaf(left_split[target], data_weights)\n",
    "    if len(right_split) == len(data):\n",
    "        print \"Creating leaf node.\"\n",
    "        return create_leaf(right_split[target], data_weights)\n",
    "    \n",
    "\n",
    "    left_tree = weighted_decision_tree_create(left_split, remaining_features, target, left_data_weights, current_depth + 1, max_depth)\n",
    "    right_tree = weighted_decision_tree_create(right_split, remaining_features, target, right_data_weights, current_depth + 1, max_depth)\n",
    "    \n",
    "    return {\"is_leaf\": False,\n",
    "           \"prediction\": None,\n",
    "           \"splitting_feature\": splitting_feature,\n",
    "           \"left\": left_tree,\n",
    "           \"right\": right_tree}"
   ]
  },
  {
   "cell_type": "code",
   "execution_count": 137,
   "metadata": {},
   "outputs": [],
   "source": [
    "def count_nodes(tree):\n",
    "    if tree[\"is_leaf\"]:\n",
    "        return 1\n",
    "    \n",
    "    return 1 + count_nodes(tree[\"left\"]) + count_nodes(tree[\"right\"])"
   ]
  },
  {
   "cell_type": "markdown",
   "metadata": {},
   "source": [
    "### Making predictions with a weighted decision tree"
   ]
  },
  {
   "cell_type": "code",
   "execution_count": 138,
   "metadata": {},
   "outputs": [],
   "source": [
    "def classify(tree, x, annotate = False):\n",
    "    if tree[\"is_leaf\"]:\n",
    "        if annotate:\n",
    "            print \"At leaf, predicting %s\" % tree[\"prediction\"]\n",
    "        return tree[\"prediction\"]\n",
    "    else:\n",
    "        split_feature_value = x[tree[\"splitting_feature\"]]\n",
    "        if annotate:\n",
    "            print \"Split on %s = %s\" % (tree[\"splitting_feature\"], split_feature_value)\n",
    "        if split_feature_value == 0:\n",
    "            return classify(tree[\"left\"], x, annotate)\n",
    "        else:\n",
    "            return classify(tree[\"right\"], x, annotate)"
   ]
  },
  {
   "cell_type": "markdown",
   "metadata": {},
   "source": [
    "### Evaluating the tree\n",
    "\n",
    "$$\n",
    "\\mbox{classification error} = \\frac{\\mbox{# mistakes}}{\\mbox{# all data points}}\n",
    "$$"
   ]
  },
  {
   "cell_type": "code",
   "execution_count": 139,
   "metadata": {},
   "outputs": [],
   "source": [
    "def evaluate_classification_error(tree, data):\n",
    "    prediction = data.apply(lambda x: classify(tree, x))\n",
    "    \n",
    "    return (prediction != data[target]).sum() / float(len(data))"
   ]
  },
  {
   "cell_type": "markdown",
   "metadata": {},
   "source": [
    "# Implementing your own Adaboost (on decision stumps)"
   ]
  },
  {
   "cell_type": "markdown",
   "metadata": {},
   "source": [
    "1\\. Start with unweighted data with $\\alpha_j = 1$\n",
    "\n",
    "2\\. For t = 1,...T:\n",
    "  * Learn $f_t(x)$ with data weights $\\alpha_j$\n",
    "  * Compute coefficient $\\hat{w}_t$:\n",
    "     $$\\hat{w}_t = \\frac{1}{2}\\ln{\\left(\\frac{1- \\mbox{E}(\\mathbf{\\alpha}, \\mathbf{\\hat{y}})}{\\mbox{E}(\\mathbf{\\alpha}, \\mathbf{\\hat{y}})}\\right)}$$\n",
    "  * Re-compute weights $\\alpha_j$:\n",
    "     $$\\alpha_j \\gets \\begin{cases}\n",
    "     \\alpha_j \\exp{(-\\hat{w}_t)} & \\text{ if }f_t(x_j) = y_j\\\\\n",
    "     \\alpha_j \\exp{(\\hat{w}_t)} & \\text{ if }f_t(x_j) \\neq y_j\n",
    "     \\end{cases}$$\n",
    "  * Normalize weights $\\alpha_j$:\n",
    "      $$\\alpha_j \\gets \\frac{\\alpha_j}{\\sum_{i=1}^{N}{\\alpha_i}} $$"
   ]
  },
  {
   "cell_type": "code",
   "execution_count": 159,
   "metadata": {},
   "outputs": [],
   "source": [
    "from math import log\n",
    "from math import exp\n",
    "\n",
    "def adaboost_with_tree_stumps(data, features, target, num_tree_stumps):\n",
    "\n",
    "    alpha = np.array([1.]*len(data))\n",
    "    weights = []\n",
    "    tree_stumps = []\n",
    "    target_values = data[target]\n",
    "    \n",
    "    for t in xrange(num_tree_stumps):\n",
    "        print \"=====================================================\"\n",
    "        print \"Adaboost Iteration %d\" % t\n",
    "        print \"=====================================================\"\n",
    "        \n",
    "        tree_stump = weighted_decision_tree_create(data, features, target, data_weights=alpha, max_depth=1)\n",
    "        tree_stumps.append(tree_stump)\n",
    "        \n",
    "        predictions = []\n",
    "        for i in range(len(data)):\n",
    "            predictions.append(classify(tree_stump, data.iloc[i]))\n",
    "        \n",
    "        is_correct = predictions == target_values\n",
    "        is_wrong   = predictions != target_values\n",
    "        \n",
    "        weighted_error = sum(alpha[is_wrong])/sum(alpha)\n",
    "        \n",
    "        weight = 1/2 * log((1 - weighted_error)/weighted_error)\n",
    "        weights.append(weight)\n",
    "        \n",
    "        adjustment = is_correct.apply(lambda is_correct: exp(-weight) if is_correct else exp(weight))\n",
    "\n",
    "        alpha = (alpha * adjustment)/float(sum(alpha))\n",
    "\n",
    "        \n",
    "    return weights, tree_stumps"
   ]
  },
  {
   "cell_type": "markdown",
   "metadata": {},
   "source": [
    "### Checking your Adaboost code"
   ]
  },
  {
   "cell_type": "code",
   "execution_count": 160,
   "metadata": {},
   "outputs": [
    {
     "name": "stdout",
     "output_type": "stream",
     "text": [
      "=====================================================\n",
      "Adaboost Iteration 0\n",
      "=====================================================\n",
      "---------------------------------------------------------------------\n",
      "Subtree, depth = 1 (37040 data points).\n"
     ]
    },
    {
     "name": "stderr",
     "output_type": "stream",
     "text": [
      "c:\\python27\\lib\\site-packages\\ipykernel_launcher.py:12: DeprecationWarning: elementwise == comparison failed; this will raise an error in the future.\n",
      "  if sys.path[0] == '':\n"
     ]
    },
    {
     "name": "stdout",
     "output_type": "stream",
     "text": [
      "Split on feature term_ 36 months. (9199, 27841)\n",
      "---------------------------------------------------------------------\n",
      "Subtree, depth = 2 (9199 data points).\n",
      "Reached maximum depth. Stopping for now.\n",
      "---------------------------------------------------------------------\n",
      "Subtree, depth = 2 (27841 data points).\n",
      "Reached maximum depth. Stopping for now.\n",
      "=====================================================\n",
      "Adaboost Iteration 1\n",
      "=====================================================\n",
      "---------------------------------------------------------------------\n",
      "Subtree, depth = 1 (37040 data points).\n",
      "Split on feature grade_A. (31960, 5080)\n",
      "---------------------------------------------------------------------\n",
      "Subtree, depth = 2 (31960 data points).\n",
      "Reached maximum depth. Stopping for now.\n",
      "---------------------------------------------------------------------\n",
      "Subtree, depth = 2 (5080 data points).\n",
      "Reached maximum depth. Stopping for now.\n"
     ]
    }
   ],
   "source": [
    "stump_weights, tree_stumps = adaboost_with_tree_stumps(train_data, features, target, num_tree_stumps=2)"
   ]
  },
  {
   "cell_type": "code",
   "execution_count": 163,
   "metadata": {},
   "outputs": [
    {
     "name": "stdout",
     "output_type": "stream",
     "text": [
      "[0.15312961962530405, 0.1795979037893667]\n"
     ]
    }
   ],
   "source": [
    "print stump_weights"
   ]
  },
  {
   "cell_type": "markdown",
   "metadata": {},
   "source": [
    "### Training a boosted ensemble of 10 stumps"
   ]
  },
  {
   "cell_type": "code",
   "execution_count": 164,
   "metadata": {},
   "outputs": [
    {
     "name": "stdout",
     "output_type": "stream",
     "text": [
      "=====================================================\n",
      "Adaboost Iteration 0\n",
      "=====================================================\n",
      "---------------------------------------------------------------------\n",
      "Subtree, depth = 1 (37040 data points).\n"
     ]
    },
    {
     "name": "stderr",
     "output_type": "stream",
     "text": [
      "c:\\python27\\lib\\site-packages\\ipykernel_launcher.py:12: DeprecationWarning: elementwise == comparison failed; this will raise an error in the future.\n",
      "  if sys.path[0] == '':\n"
     ]
    },
    {
     "name": "stdout",
     "output_type": "stream",
     "text": [
      "Split on feature term_ 36 months. (9199, 27841)\n",
      "---------------------------------------------------------------------\n",
      "Subtree, depth = 2 (9199 data points).\n",
      "Reached maximum depth. Stopping for now.\n",
      "---------------------------------------------------------------------\n",
      "Subtree, depth = 2 (27841 data points).\n",
      "Reached maximum depth. Stopping for now.\n",
      "=====================================================\n",
      "Adaboost Iteration 1\n",
      "=====================================================\n",
      "---------------------------------------------------------------------\n",
      "Subtree, depth = 1 (37040 data points).\n",
      "Split on feature grade_A. (31960, 5080)\n",
      "---------------------------------------------------------------------\n",
      "Subtree, depth = 2 (31960 data points).\n",
      "Reached maximum depth. Stopping for now.\n",
      "---------------------------------------------------------------------\n",
      "Subtree, depth = 2 (5080 data points).\n",
      "Reached maximum depth. Stopping for now.\n",
      "=====================================================\n",
      "Adaboost Iteration 2\n",
      "=====================================================\n",
      "---------------------------------------------------------------------\n",
      "Subtree, depth = 1 (37040 data points).\n",
      "Split on feature grade_D. (30368, 6672)\n",
      "---------------------------------------------------------------------\n",
      "Subtree, depth = 2 (30368 data points).\n",
      "Reached maximum depth. Stopping for now.\n",
      "---------------------------------------------------------------------\n",
      "Subtree, depth = 2 (6672 data points).\n",
      "Reached maximum depth. Stopping for now.\n",
      "=====================================================\n",
      "Adaboost Iteration 3\n",
      "=====================================================\n",
      "---------------------------------------------------------------------\n",
      "Subtree, depth = 1 (37040 data points).\n",
      "Split on feature grade_B. (26721, 10319)\n",
      "---------------------------------------------------------------------\n",
      "Subtree, depth = 2 (26721 data points).\n",
      "Reached maximum depth. Stopping for now.\n",
      "---------------------------------------------------------------------\n",
      "Subtree, depth = 2 (10319 data points).\n",
      "Reached maximum depth. Stopping for now.\n",
      "=====================================================\n",
      "Adaboost Iteration 4\n",
      "=====================================================\n",
      "---------------------------------------------------------------------\n",
      "Subtree, depth = 1 (37040 data points).\n",
      "Split on feature home_ownership_RENT. (20329, 16711)\n",
      "---------------------------------------------------------------------\n",
      "Subtree, depth = 2 (20329 data points).\n",
      "Reached maximum depth. Stopping for now.\n",
      "---------------------------------------------------------------------\n",
      "Subtree, depth = 2 (16711 data points).\n",
      "Reached maximum depth. Stopping for now.\n",
      "=====================================================\n",
      "Adaboost Iteration 5\n",
      "=====================================================\n",
      "---------------------------------------------------------------------\n",
      "Subtree, depth = 1 (37040 data points).\n",
      "Split on feature grade_E. (33567, 3473)\n",
      "---------------------------------------------------------------------\n",
      "Subtree, depth = 2 (33567 data points).\n",
      "Reached maximum depth. Stopping for now.\n",
      "---------------------------------------------------------------------\n",
      "Subtree, depth = 2 (3473 data points).\n",
      "Reached maximum depth. Stopping for now.\n",
      "=====================================================\n",
      "Adaboost Iteration 6\n",
      "=====================================================\n",
      "---------------------------------------------------------------------\n",
      "Subtree, depth = 1 (37040 data points).\n",
      "Split on feature grade_A. (31960, 5080)\n",
      "---------------------------------------------------------------------\n",
      "Subtree, depth = 2 (31960 data points).\n",
      "Reached maximum depth. Stopping for now.\n",
      "---------------------------------------------------------------------\n",
      "Subtree, depth = 2 (5080 data points).\n",
      "Reached maximum depth. Stopping for now.\n",
      "=====================================================\n",
      "Adaboost Iteration 7\n",
      "=====================================================\n",
      "---------------------------------------------------------------------\n",
      "Subtree, depth = 1 (37040 data points).\n",
      "Split on feature grade_F. (35299, 1741)\n",
      "---------------------------------------------------------------------\n",
      "Subtree, depth = 2 (35299 data points).\n",
      "Reached maximum depth. Stopping for now.\n",
      "---------------------------------------------------------------------\n",
      "Subtree, depth = 2 (1741 data points).\n",
      "Reached maximum depth. Stopping for now.\n",
      "=====================================================\n",
      "Adaboost Iteration 8\n",
      "=====================================================\n",
      "---------------------------------------------------------------------\n",
      "Subtree, depth = 1 (37040 data points).\n",
      "Split on feature grade_A. (31960, 5080)\n",
      "---------------------------------------------------------------------\n",
      "Subtree, depth = 2 (31960 data points).\n",
      "Reached maximum depth. Stopping for now.\n",
      "---------------------------------------------------------------------\n",
      "Subtree, depth = 2 (5080 data points).\n",
      "Reached maximum depth. Stopping for now.\n",
      "=====================================================\n",
      "Adaboost Iteration 9\n",
      "=====================================================\n",
      "---------------------------------------------------------------------\n",
      "Subtree, depth = 1 (37040 data points).\n",
      "Split on feature grade_F. (35299, 1741)\n",
      "---------------------------------------------------------------------\n",
      "Subtree, depth = 2 (35299 data points).\n",
      "Reached maximum depth. Stopping for now.\n",
      "---------------------------------------------------------------------\n",
      "Subtree, depth = 2 (1741 data points).\n",
      "Reached maximum depth. Stopping for now.\n"
     ]
    }
   ],
   "source": [
    "stump_weights, tree_stumps = adaboost_with_tree_stumps(train_data, features, target, num_tree_stumps=10)"
   ]
  },
  {
   "cell_type": "markdown",
   "metadata": {},
   "source": [
    "## Making predictions\n",
    "\n",
    "$$\n",
    "\\hat{y} = sign\\left(\\sum_{t=1}^T \\hat{w}_t f_t(x)\\right)\n",
    "$$"
   ]
  },
  {
   "cell_type": "code",
   "execution_count": 242,
   "metadata": {},
   "outputs": [],
   "source": [
    "def predict_adaboost(stump_weights, tree_stumps, data):\n",
    "    scores = np.array([0.] * len(data))\n",
    "    \n",
    "    for i, tree_stump in enumerate(tree_stumps):\n",
    "        predictions = []\n",
    "        for j in range(len(data)):\n",
    "            predictions.append(classify(tree_stump, data.iloc[j]))\n",
    "            \n",
    "        scores += (stump_weights[i] * np.array(predictions))\n",
    "        \n",
    "    \n",
    "    for i in range(len(scores)):\n",
    "        if scores[i] > 0:\n",
    "            scores[i] = 1\n",
    "        else:\n",
    "            scores[i] = -1\n",
    "    \n",
    "    \n",
    "    return scores"
   ]
  },
  {
   "cell_type": "code",
   "execution_count": 246,
   "metadata": {},
   "outputs": [
    {
     "name": "stdout",
     "output_type": "stream",
     "text": [
      "Accuracy of 10-component ensemble = 0.61879049676\n"
     ]
    }
   ],
   "source": [
    "predictions = predict_adaboost(stump_weights, tree_stumps, test_data)\n",
    "accuracy = sum(test_data[target] == predictions)/len(test_data)\n",
    "\n",
    "print \"Accuracy of 10-component ensemble = %s\" % accuracy"
   ]
  },
  {
   "cell_type": "code",
   "execution_count": 248,
   "metadata": {},
   "outputs": [
    {
     "data": {
      "text/plain": [
       "[0.15312961962530405,\n",
       " 0.1795979037893667,\n",
       " 0.1002299872370041,\n",
       " 0.07750274938870685,\n",
       " 0.0728740530879282,\n",
       " 0.047065837472011054,\n",
       " 0.054688932558598,\n",
       " 0.042727718186904795,\n",
       " 0.028386567488876684,\n",
       " 0.018877673583882974]"
      ]
     },
     "execution_count": 248,
     "metadata": {},
     "output_type": "execute_result"
    }
   ],
   "source": [
    "stump_weights"
   ]
  },
  {
   "cell_type": "markdown",
   "metadata": {},
   "source": [
    "# Performance plots"
   ]
  },
  {
   "cell_type": "code",
   "execution_count": 250,
   "metadata": {},
   "outputs": [
    {
     "name": "stdout",
     "output_type": "stream",
     "text": [
      "=====================================================\n",
      "Adaboost Iteration 0\n",
      "=====================================================\n",
      "---------------------------------------------------------------------\n",
      "Subtree, depth = 1 (37040 data points).\n"
     ]
    },
    {
     "name": "stderr",
     "output_type": "stream",
     "text": [
      "c:\\python27\\lib\\site-packages\\ipykernel_launcher.py:12: DeprecationWarning: elementwise == comparison failed; this will raise an error in the future.\n",
      "  if sys.path[0] == '':\n"
     ]
    },
    {
     "name": "stdout",
     "output_type": "stream",
     "text": [
      "Split on feature term_ 36 months. (9199, 27841)\n",
      "---------------------------------------------------------------------\n",
      "Subtree, depth = 2 (9199 data points).\n",
      "Reached maximum depth. Stopping for now.\n",
      "---------------------------------------------------------------------\n",
      "Subtree, depth = 2 (27841 data points).\n",
      "Reached maximum depth. Stopping for now.\n",
      "=====================================================\n",
      "Adaboost Iteration 1\n",
      "=====================================================\n",
      "---------------------------------------------------------------------\n",
      "Subtree, depth = 1 (37040 data points).\n",
      "Split on feature grade_A. (31960, 5080)\n",
      "---------------------------------------------------------------------\n",
      "Subtree, depth = 2 (31960 data points).\n",
      "Reached maximum depth. Stopping for now.\n",
      "---------------------------------------------------------------------\n",
      "Subtree, depth = 2 (5080 data points).\n",
      "Reached maximum depth. Stopping for now.\n",
      "=====================================================\n",
      "Adaboost Iteration 2\n",
      "=====================================================\n",
      "---------------------------------------------------------------------\n",
      "Subtree, depth = 1 (37040 data points).\n",
      "Split on feature grade_D. (30368, 6672)\n",
      "---------------------------------------------------------------------\n",
      "Subtree, depth = 2 (30368 data points).\n",
      "Reached maximum depth. Stopping for now.\n",
      "---------------------------------------------------------------------\n",
      "Subtree, depth = 2 (6672 data points).\n",
      "Reached maximum depth. Stopping for now.\n",
      "=====================================================\n",
      "Adaboost Iteration 3\n",
      "=====================================================\n",
      "---------------------------------------------------------------------\n",
      "Subtree, depth = 1 (37040 data points).\n",
      "Split on feature grade_B. (26721, 10319)\n",
      "---------------------------------------------------------------------\n",
      "Subtree, depth = 2 (26721 data points).\n",
      "Reached maximum depth. Stopping for now.\n",
      "---------------------------------------------------------------------\n",
      "Subtree, depth = 2 (10319 data points).\n",
      "Reached maximum depth. Stopping for now.\n",
      "=====================================================\n",
      "Adaboost Iteration 4\n",
      "=====================================================\n",
      "---------------------------------------------------------------------\n",
      "Subtree, depth = 1 (37040 data points).\n",
      "Split on feature home_ownership_RENT. (20329, 16711)\n",
      "---------------------------------------------------------------------\n",
      "Subtree, depth = 2 (20329 data points).\n",
      "Reached maximum depth. Stopping for now.\n",
      "---------------------------------------------------------------------\n",
      "Subtree, depth = 2 (16711 data points).\n",
      "Reached maximum depth. Stopping for now.\n",
      "=====================================================\n",
      "Adaboost Iteration 5\n",
      "=====================================================\n",
      "---------------------------------------------------------------------\n",
      "Subtree, depth = 1 (37040 data points).\n",
      "Split on feature grade_E. (33567, 3473)\n",
      "---------------------------------------------------------------------\n",
      "Subtree, depth = 2 (33567 data points).\n",
      "Reached maximum depth. Stopping for now.\n",
      "---------------------------------------------------------------------\n",
      "Subtree, depth = 2 (3473 data points).\n",
      "Reached maximum depth. Stopping for now.\n",
      "=====================================================\n",
      "Adaboost Iteration 6\n",
      "=====================================================\n",
      "---------------------------------------------------------------------\n",
      "Subtree, depth = 1 (37040 data points).\n",
      "Split on feature grade_A. (31960, 5080)\n",
      "---------------------------------------------------------------------\n",
      "Subtree, depth = 2 (31960 data points).\n",
      "Reached maximum depth. Stopping for now.\n",
      "---------------------------------------------------------------------\n",
      "Subtree, depth = 2 (5080 data points).\n",
      "Reached maximum depth. Stopping for now.\n",
      "=====================================================\n",
      "Adaboost Iteration 7\n",
      "=====================================================\n",
      "---------------------------------------------------------------------\n",
      "Subtree, depth = 1 (37040 data points).\n",
      "Split on feature grade_F. (35299, 1741)\n",
      "---------------------------------------------------------------------\n",
      "Subtree, depth = 2 (35299 data points).\n",
      "Reached maximum depth. Stopping for now.\n",
      "---------------------------------------------------------------------\n",
      "Subtree, depth = 2 (1741 data points).\n",
      "Reached maximum depth. Stopping for now.\n",
      "=====================================================\n",
      "Adaboost Iteration 8\n",
      "=====================================================\n",
      "---------------------------------------------------------------------\n",
      "Subtree, depth = 1 (37040 data points).\n",
      "Split on feature grade_A. (31960, 5080)\n",
      "---------------------------------------------------------------------\n",
      "Subtree, depth = 2 (31960 data points).\n",
      "Reached maximum depth. Stopping for now.\n",
      "---------------------------------------------------------------------\n",
      "Subtree, depth = 2 (5080 data points).\n",
      "Reached maximum depth. Stopping for now.\n",
      "=====================================================\n",
      "Adaboost Iteration 9\n",
      "=====================================================\n",
      "---------------------------------------------------------------------\n",
      "Subtree, depth = 1 (37040 data points).\n",
      "Split on feature grade_F. (35299, 1741)\n",
      "---------------------------------------------------------------------\n",
      "Subtree, depth = 2 (35299 data points).\n",
      "Reached maximum depth. Stopping for now.\n",
      "---------------------------------------------------------------------\n",
      "Subtree, depth = 2 (1741 data points).\n",
      "Reached maximum depth. Stopping for now.\n",
      "=====================================================\n",
      "Adaboost Iteration 10\n",
      "=====================================================\n",
      "---------------------------------------------------------------------\n",
      "Subtree, depth = 1 (37040 data points).\n",
      "Split on feature grade_D. (30368, 6672)\n",
      "---------------------------------------------------------------------\n",
      "Subtree, depth = 2 (30368 data points).\n",
      "Reached maximum depth. Stopping for now.\n",
      "---------------------------------------------------------------------\n",
      "Subtree, depth = 2 (6672 data points).\n",
      "Reached maximum depth. Stopping for now.\n",
      "=====================================================\n",
      "Adaboost Iteration 11\n",
      "=====================================================\n",
      "---------------------------------------------------------------------\n",
      "Subtree, depth = 1 (37040 data points).\n",
      "Split on feature grade_B. (26721, 10319)\n",
      "---------------------------------------------------------------------\n",
      "Subtree, depth = 2 (26721 data points).\n",
      "Reached maximum depth. Stopping for now.\n",
      "---------------------------------------------------------------------\n",
      "Subtree, depth = 2 (10319 data points).\n",
      "Reached maximum depth. Stopping for now.\n",
      "=====================================================\n",
      "Adaboost Iteration 12\n",
      "=====================================================\n",
      "---------------------------------------------------------------------\n",
      "Subtree, depth = 1 (37040 data points).\n",
      "Split on feature grade_F. (35299, 1741)\n",
      "---------------------------------------------------------------------\n",
      "Subtree, depth = 2 (35299 data points).\n",
      "Reached maximum depth. Stopping for now.\n",
      "---------------------------------------------------------------------\n",
      "Subtree, depth = 2 (1741 data points).\n",
      "Reached maximum depth. Stopping for now.\n",
      "=====================================================\n",
      "Adaboost Iteration 13\n",
      "=====================================================\n",
      "---------------------------------------------------------------------\n",
      "Subtree, depth = 1 (37040 data points).\n",
      "Split on feature grade_C. (27723, 9317)\n",
      "---------------------------------------------------------------------\n",
      "Subtree, depth = 2 (27723 data points).\n",
      "Reached maximum depth. Stopping for now.\n",
      "---------------------------------------------------------------------\n",
      "Subtree, depth = 2 (9317 data points).\n",
      "Reached maximum depth. Stopping for now.\n",
      "=====================================================\n",
      "Adaboost Iteration 14\n",
      "=====================================================\n",
      "---------------------------------------------------------------------\n",
      "Subtree, depth = 1 (37040 data points).\n",
      "Split on feature term_ 36 months. (9199, 27841)\n",
      "---------------------------------------------------------------------\n",
      "Subtree, depth = 2 (9199 data points).\n",
      "Reached maximum depth. Stopping for now.\n",
      "---------------------------------------------------------------------\n",
      "Subtree, depth = 2 (27841 data points).\n",
      "Reached maximum depth. Stopping for now.\n"
     ]
    },
    {
     "name": "stdout",
     "output_type": "stream",
     "text": [
      "=====================================================\n",
      "Adaboost Iteration 15\n",
      "=====================================================\n",
      "---------------------------------------------------------------------\n",
      "Subtree, depth = 1 (37040 data points).\n",
      "Split on feature grade_E. (33567, 3473)\n",
      "---------------------------------------------------------------------\n",
      "Subtree, depth = 2 (33567 data points).\n",
      "Reached maximum depth. Stopping for now.\n",
      "---------------------------------------------------------------------\n",
      "Subtree, depth = 2 (3473 data points).\n",
      "Reached maximum depth. Stopping for now.\n",
      "=====================================================\n",
      "Adaboost Iteration 16\n",
      "=====================================================\n",
      "---------------------------------------------------------------------\n",
      "Subtree, depth = 1 (37040 data points).\n",
      "Split on feature grade_A. (31960, 5080)\n",
      "---------------------------------------------------------------------\n",
      "Subtree, depth = 2 (31960 data points).\n",
      "Reached maximum depth. Stopping for now.\n",
      "---------------------------------------------------------------------\n",
      "Subtree, depth = 2 (5080 data points).\n",
      "Reached maximum depth. Stopping for now.\n",
      "=====================================================\n",
      "Adaboost Iteration 17\n",
      "=====================================================\n",
      "---------------------------------------------------------------------\n",
      "Subtree, depth = 1 (37040 data points).\n",
      "Split on feature grade_F. (35299, 1741)\n",
      "---------------------------------------------------------------------\n",
      "Subtree, depth = 2 (35299 data points).\n",
      "Reached maximum depth. Stopping for now.\n",
      "---------------------------------------------------------------------\n",
      "Subtree, depth = 2 (1741 data points).\n",
      "Reached maximum depth. Stopping for now.\n",
      "=====================================================\n",
      "Adaboost Iteration 18\n",
      "=====================================================\n",
      "---------------------------------------------------------------------\n",
      "Subtree, depth = 1 (37040 data points).\n",
      "Split on feature emp_length_2 years. (33529, 3511)\n",
      "---------------------------------------------------------------------\n",
      "Subtree, depth = 2 (33529 data points).\n",
      "Reached maximum depth. Stopping for now.\n",
      "---------------------------------------------------------------------\n",
      "Subtree, depth = 2 (3511 data points).\n",
      "Reached maximum depth. Stopping for now.\n",
      "=====================================================\n",
      "Adaboost Iteration 19\n",
      "=====================================================\n",
      "---------------------------------------------------------------------\n",
      "Subtree, depth = 1 (37040 data points).\n",
      "Split on feature grade_G. (36602, 438)\n",
      "---------------------------------------------------------------------\n",
      "Subtree, depth = 2 (36602 data points).\n",
      "Reached maximum depth. Stopping for now.\n",
      "---------------------------------------------------------------------\n",
      "Subtree, depth = 2 (438 data points).\n",
      "Reached maximum depth. Stopping for now.\n",
      "=====================================================\n",
      "Adaboost Iteration 20\n",
      "=====================================================\n",
      "---------------------------------------------------------------------\n",
      "Subtree, depth = 1 (37040 data points).\n",
      "Split on feature grade_B. (26721, 10319)\n",
      "---------------------------------------------------------------------\n",
      "Subtree, depth = 2 (26721 data points).\n",
      "Reached maximum depth. Stopping for now.\n",
      "---------------------------------------------------------------------\n",
      "Subtree, depth = 2 (10319 data points).\n",
      "Reached maximum depth. Stopping for now.\n",
      "=====================================================\n",
      "Adaboost Iteration 21\n",
      "=====================================================\n",
      "---------------------------------------------------------------------\n",
      "Subtree, depth = 1 (37040 data points).\n",
      "Split on feature term_ 36 months. (9199, 27841)\n",
      "---------------------------------------------------------------------\n",
      "Subtree, depth = 2 (9199 data points).\n",
      "Reached maximum depth. Stopping for now.\n",
      "---------------------------------------------------------------------\n",
      "Subtree, depth = 2 (27841 data points).\n",
      "Reached maximum depth. Stopping for now.\n",
      "=====================================================\n",
      "Adaboost Iteration 22\n",
      "=====================================================\n",
      "---------------------------------------------------------------------\n",
      "Subtree, depth = 1 (37040 data points).\n",
      "Split on feature grade_G. (36602, 438)\n",
      "---------------------------------------------------------------------\n",
      "Subtree, depth = 2 (36602 data points).\n",
      "Reached maximum depth. Stopping for now.\n",
      "---------------------------------------------------------------------\n",
      "Subtree, depth = 2 (438 data points).\n",
      "Reached maximum depth. Stopping for now.\n",
      "=====================================================\n",
      "Adaboost Iteration 23\n",
      "=====================================================\n",
      "---------------------------------------------------------------------\n",
      "Subtree, depth = 1 (37040 data points).\n",
      "Split on feature grade_D. (30368, 6672)\n",
      "---------------------------------------------------------------------\n",
      "Subtree, depth = 2 (30368 data points).\n",
      "Reached maximum depth. Stopping for now.\n",
      "---------------------------------------------------------------------\n",
      "Subtree, depth = 2 (6672 data points).\n",
      "Reached maximum depth. Stopping for now.\n",
      "=====================================================\n",
      "Adaboost Iteration 24\n",
      "=====================================================\n",
      "---------------------------------------------------------------------\n",
      "Subtree, depth = 1 (37040 data points).\n",
      "Split on feature home_ownership_OWN. (33948, 3092)\n",
      "---------------------------------------------------------------------\n",
      "Subtree, depth = 2 (33948 data points).\n",
      "Reached maximum depth. Stopping for now.\n",
      "---------------------------------------------------------------------\n",
      "Subtree, depth = 2 (3092 data points).\n",
      "Reached maximum depth. Stopping for now.\n",
      "=====================================================\n",
      "Adaboost Iteration 25\n",
      "=====================================================\n",
      "---------------------------------------------------------------------\n",
      "Subtree, depth = 1 (37040 data points).\n",
      "Split on feature grade_A. (31960, 5080)\n",
      "---------------------------------------------------------------------\n",
      "Subtree, depth = 2 (31960 data points).\n",
      "Reached maximum depth. Stopping for now.\n",
      "---------------------------------------------------------------------\n",
      "Subtree, depth = 2 (5080 data points).\n",
      "Reached maximum depth. Stopping for now.\n",
      "=====================================================\n",
      "Adaboost Iteration 26\n",
      "=====================================================\n",
      "---------------------------------------------------------------------\n",
      "Subtree, depth = 1 (37040 data points).\n",
      "Split on feature grade_G. (36602, 438)\n",
      "---------------------------------------------------------------------\n",
      "Subtree, depth = 2 (36602 data points).\n",
      "Reached maximum depth. Stopping for now.\n",
      "---------------------------------------------------------------------\n",
      "Subtree, depth = 2 (438 data points).\n",
      "Reached maximum depth. Stopping for now.\n",
      "=====================================================\n",
      "Adaboost Iteration 27\n",
      "=====================================================\n",
      "---------------------------------------------------------------------\n",
      "Subtree, depth = 1 (37040 data points).\n",
      "Split on feature emp_length_10+ years. (26861, 10179)\n",
      "---------------------------------------------------------------------\n",
      "Subtree, depth = 2 (26861 data points).\n",
      "Reached maximum depth. Stopping for now.\n",
      "---------------------------------------------------------------------\n",
      "Subtree, depth = 2 (10179 data points).\n",
      "Reached maximum depth. Stopping for now.\n",
      "=====================================================\n",
      "Adaboost Iteration 28\n",
      "=====================================================\n",
      "---------------------------------------------------------------------\n",
      "Subtree, depth = 1 (37040 data points).\n",
      "Split on feature grade_C. (27723, 9317)\n",
      "---------------------------------------------------------------------\n",
      "Subtree, depth = 2 (27723 data points).\n",
      "Reached maximum depth. Stopping for now.\n",
      "---------------------------------------------------------------------\n",
      "Subtree, depth = 2 (9317 data points).\n",
      "Reached maximum depth. Stopping for now.\n",
      "=====================================================\n",
      "Adaboost Iteration 29\n",
      "=====================================================\n",
      "---------------------------------------------------------------------\n",
      "Subtree, depth = 1 (37040 data points).\n"
     ]
    },
    {
     "name": "stdout",
     "output_type": "stream",
     "text": [
      "Split on feature grade_G. (36602, 438)\n",
      "---------------------------------------------------------------------\n",
      "Subtree, depth = 2 (36602 data points).\n",
      "Reached maximum depth. Stopping for now.\n",
      "---------------------------------------------------------------------\n",
      "Subtree, depth = 2 (438 data points).\n",
      "Reached maximum depth. Stopping for now.\n"
     ]
    }
   ],
   "source": [
    "stump_weights, tree_stumps = adaboost_with_tree_stumps(train_data, features, target, num_tree_stumps=30)"
   ]
  },
  {
   "cell_type": "markdown",
   "metadata": {},
   "source": [
    "### Computing training error at the end of each iteration"
   ]
  },
  {
   "cell_type": "code",
   "execution_count": 251,
   "metadata": {},
   "outputs": [
    {
     "name": "stdout",
     "output_type": "stream",
     "text": [
      "Iteration 1, training error = 0.424028077754\n",
      "Iteration 2, training error = 0.431398488121\n",
      "Iteration 3, training error = 0.398110151188\n",
      "Iteration 4, training error = 0.383531317495\n",
      "Iteration 5, training error = 0.384638228942\n",
      "Iteration 6, training error = 0.384692224622\n",
      "Iteration 7, training error = 0.382910367171\n",
      "Iteration 8, training error = 0.384692224622\n",
      "Iteration 9, training error = 0.381695464363\n",
      "Iteration 10, training error = 0.383477321814\n",
      "Iteration 11, training error = 0.381695464363\n",
      "Iteration 12, training error = 0.381695464363\n",
      "Iteration 13, training error = 0.381695464363\n",
      "Iteration 14, training error = 0.381695464363\n",
      "Iteration 15, training error = 0.381695464363\n",
      "Iteration 16, training error = 0.381695464363\n",
      "Iteration 17, training error = 0.381695464363\n",
      "Iteration 18, training error = 0.381695464363\n",
      "Iteration 19, training error = 0.381695464363\n",
      "Iteration 20, training error = 0.381695464363\n",
      "Iteration 21, training error = 0.382127429806\n",
      "Iteration 22, training error = 0.382127429806\n",
      "Iteration 23, training error = 0.3813174946\n",
      "Iteration 24, training error = 0.381155507559\n",
      "Iteration 25, training error = 0.381128509719\n",
      "Iteration 26, training error = 0.381074514039\n",
      "Iteration 27, training error = 0.381101511879\n",
      "Iteration 28, training error = 0.38129049676\n",
      "Iteration 29, training error = 0.381047516199\n",
      "Iteration 30, training error = 0.38129049676\n"
     ]
    }
   ],
   "source": [
    "error_all = []\n",
    "\n",
    "for n in xrange(1, 31):\n",
    "    predictions = predict_adaboost(stump_weights[:n], tree_stumps[:n], train_data)\n",
    "    error = sum(train_data[target] != predictions)/len(train_data)\n",
    "    error_all.append(error)\n",
    "    \n",
    "    print \"Iteration %s, training error = %s\" % (n, error_all[n-1])"
   ]
  },
  {
   "cell_type": "markdown",
   "metadata": {},
   "source": [
    "### Visualizing training error vs number of iterations"
   ]
  },
  {
   "cell_type": "code",
   "execution_count": 253,
   "metadata": {},
   "outputs": [
    {
     "data": {
      "image/png": "[encoded data removed]",
      "text/plain": [
       "<Figure size 504x360 with 1 Axes>"
      ]
     },
     "metadata": {
      "needs_background": "light"
     },
     "output_type": "display_data"
    }
   ],
   "source": [
    "plt.rcParams[\"figure.figsize\"] = 7, 5\n",
    "\n",
    "plt.plot(range(1, 31), error_all, \"-\", linewidth=4.0, label=\"Training error\")\n",
    "plt.title(\"Performance of Adaboost ensemble\")\n",
    "plt.xlabel(\"# of iterations\")\n",
    "plt.ylabel(\"Classification error\")\n",
    "plt.legend(loc=\"best\", prop={\"size\":15})\n",
    "\n",
    "plt.rcParams.update({\"font.size\": 16})"
   ]
  },
  {
   "cell_type": "markdown",
   "metadata": {},
   "source": [
    "### Evaluation on the test data"
   ]
  },
  {
   "cell_type": "code",
   "execution_count": 254,
   "metadata": {},
   "outputs": [
    {
     "name": "stdout",
     "output_type": "stream",
     "text": [
      "Iteration 1, test error = 0.419330453564\n",
      "Iteration 2, test error = 0.427321814255\n",
      "Iteration 3, test error = 0.397732181425\n",
      "Iteration 4, test error = 0.378725701944\n",
      "Iteration 5, test error = 0.382505399568\n",
      "Iteration 6, test error = 0.382613390929\n",
      "Iteration 7, test error = 0.3813174946\n",
      "Iteration 8, test error = 0.382613390929\n",
      "Iteration 9, test error = 0.379913606911\n",
      "Iteration 10, test error = 0.38120950324\n",
      "Iteration 11, test error = 0.379913606911\n",
      "Iteration 12, test error = 0.379913606911\n",
      "Iteration 13, test error = 0.379913606911\n",
      "Iteration 14, test error = 0.379913606911\n",
      "Iteration 15, test error = 0.379913606911\n",
      "Iteration 16, test error = 0.379913606911\n",
      "Iteration 17, test error = 0.379913606911\n",
      "Iteration 18, test error = 0.379913606911\n",
      "Iteration 19, test error = 0.379913606911\n",
      "Iteration 20, test error = 0.379913606911\n",
      "Iteration 21, test error = 0.380345572354\n",
      "Iteration 22, test error = 0.380345572354\n",
      "Iteration 23, test error = 0.381749460043\n",
      "Iteration 24, test error = 0.379589632829\n",
      "Iteration 25, test error = 0.379589632829\n",
      "Iteration 26, test error = 0.379373650108\n",
      "Iteration 27, test error = 0.379589632829\n",
      "Iteration 28, test error = 0.380885529158\n",
      "Iteration 29, test error = 0.379373650108\n",
      "Iteration 30, test error = 0.380885529158\n"
     ]
    }
   ],
   "source": [
    "test_error_all = []\n",
    "\n",
    "for n in xrange(1, 31):\n",
    "    predictions = predict_adaboost(stump_weights[:n], tree_stumps[:n], test_data)\n",
    "    error = sum(test_data[target] != predictions)/float(len(test_data))\n",
    "    test_error_all.append(error)\n",
    "    \n",
    "    print \"Iteration %s, test error = %s\" % (n, test_error_all[n-1])"
   ]
  },
  {
   "cell_type": "markdown",
   "metadata": {},
   "source": [
    "### Visualize both the training and test errors"
   ]
  },
  {
   "cell_type": "code",
   "execution_count": 255,
   "metadata": {},
   "outputs": [
    {
     "data": {
      "image/png": "[encoded data removed]",
      "text/plain": [
       "<Figure size 504x360 with 1 Axes>"
      ]
     },
     "metadata": {
      "needs_background": "light"
     },
     "output_type": "display_data"
    }
   ],
   "source": [
    "plt.rcParams[\"figure.figsize\"] = 7, 5\n",
    "\n",
    "plt.plot(range(1, 31), error_all, \"-\", linewidth=4.0, label=\"Training error\")\n",
    "plt.plot(range(1, 31), test_error_all, \"-\", linewidth=4.0, label=\"Test error\")\n",
    "\n",
    "plt.title(\"Performance of Adaboost ensemble\")\n",
    "plt.xlabel(\"# of iterations\")\n",
    "plt.ylabel(\"Classification error\")\n",
    "plt.rcParams.update({\"font.size\": 16})\n",
    "plt.legend(loc=\"best\", prop={\"size\": 15})\n",
    "\n",
    "plt.tight_layout()"
   ]
  },
  {
   "cell_type": "markdown",
   "metadata": {},
   "source": []
  }
 ],
 "metadata": {
  "kernelspec": {
   "display_name": "Python 2",
   "language": "python",
   "name": "python2"
  },
  "language_info": {
   "codemirror_mode": {
    "name": "ipython",
    "version": 2
   },
   "file_extension": ".py",
   "mimetype": "text/x-python",
   "name": "python",
   "nbconvert_exporter": "python",
   "pygments_lexer": "ipython2",
   "version": "2.7.14"
  }
 },
 "nbformat": 4,
 "nbformat_minor": 2
}
