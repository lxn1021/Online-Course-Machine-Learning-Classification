{
 "cells": [
  {
   "cell_type": "markdown",
   "metadata": {},
   "source": [
    "## Implementing binary decision trees"
   ]
  },
  {
   "cell_type": "code",
   "execution_count": 1,
   "metadata": {},
   "outputs": [],
   "source": [
    "import graphlab\n",
    "import numpy as np\n",
    "import pandas as pd"
   ]
  },
  {
   "cell_type": "code",
   "execution_count": 2,
   "metadata": {},
   "outputs": [
    {
     "name": "stdout",
     "output_type": "stream",
     "text": [
      "This non-commercial license of GraphLab Create for academic use is assigned to lxn1021@gmail.com and will expire on November 18, 2019.\n"
     ]
    },
    {
     "name": "stderr",
     "output_type": "stream",
     "text": [
      "[INFO] graphlab.cython.cy_server: GraphLab Create v2.1 started. Logging: C:\\Users\\Xiaoning\\AppData\\Local\\Temp\\graphlab_server_1558481550.log.0\n",
      "c:\\python27\\lib\\site-packages\\IPython\\core\\interactiveshell.py:2714: DtypeWarning: Columns (19,47) have mixed types. Specify dtype option on import or set low_memory=False.\n",
      "  interactivity=interactivity, compiler=compiler, result=result)\n"
     ]
    }
   ],
   "source": [
    "loans = graphlab.SFrame(\"E:\\\\Machine Learning\\\\U.W\\\\Classification\\\\lending-club-data.gl/\")\n",
    "loans.save(\"E:\\\\Machine Learning\\\\U.W\\\\Classification\\\\lending-club-data.csv\", format=\"csv\")\n",
    "loans = pd.read_csv(\"E:\\\\Machine Learning\\\\U.W\\\\Classification\\\\lending-club-data.csv\")"
   ]
  },
  {
   "cell_type": "code",
   "execution_count": 3,
   "metadata": {},
   "outputs": [
    {
     "data": {
      "text/html": [
       "<div>\n",
       "<style scoped>\n",
       "    .dataframe tbody tr th:only-of-type {\n",
       "        vertical-align: middle;\n",
       "    }\n",
       "\n",
       "    .dataframe tbody tr th {\n",
       "        vertical-align: top;\n",
       "    }\n",
       "\n",
       "    .dataframe thead th {\n",
       "        text-align: right;\n",
       "    }\n",
       "</style>\n",
       "<table border=\"1\" class=\"dataframe\">\n",
       "  <thead>\n",
       "    <tr style=\"text-align: right;\">\n",
       "      <th></th>\n",
       "      <th>id</th>\n",
       "      <th>member_id</th>\n",
       "      <th>loan_amnt</th>\n",
       "      <th>funded_amnt</th>\n",
       "      <th>funded_amnt_inv</th>\n",
       "      <th>term</th>\n",
       "      <th>int_rate</th>\n",
       "      <th>installment</th>\n",
       "      <th>grade</th>\n",
       "      <th>sub_grade</th>\n",
       "      <th>...</th>\n",
       "      <th>sub_grade_num</th>\n",
       "      <th>delinq_2yrs_zero</th>\n",
       "      <th>pub_rec_zero</th>\n",
       "      <th>collections_12_mths_zero</th>\n",
       "      <th>short_emp</th>\n",
       "      <th>payment_inc_ratio</th>\n",
       "      <th>final_d</th>\n",
       "      <th>last_delinq_none</th>\n",
       "      <th>last_record_none</th>\n",
       "      <th>last_major_derog_none</th>\n",
       "    </tr>\n",
       "  </thead>\n",
       "  <tbody>\n",
       "    <tr>\n",
       "      <th>0</th>\n",
       "      <td>1077501</td>\n",
       "      <td>1296599</td>\n",
       "      <td>5000</td>\n",
       "      <td>5000</td>\n",
       "      <td>4975</td>\n",
       "      <td>36 months</td>\n",
       "      <td>10.65</td>\n",
       "      <td>162.87</td>\n",
       "      <td>B</td>\n",
       "      <td>B2</td>\n",
       "      <td>...</td>\n",
       "      <td>0.4</td>\n",
       "      <td>1.0</td>\n",
       "      <td>1.0</td>\n",
       "      <td>1.0</td>\n",
       "      <td>0</td>\n",
       "      <td>8.14350</td>\n",
       "      <td>20141201T000000</td>\n",
       "      <td>1</td>\n",
       "      <td>1</td>\n",
       "      <td>1</td>\n",
       "    </tr>\n",
       "    <tr>\n",
       "      <th>1</th>\n",
       "      <td>1077430</td>\n",
       "      <td>1314167</td>\n",
       "      <td>2500</td>\n",
       "      <td>2500</td>\n",
       "      <td>2500</td>\n",
       "      <td>60 months</td>\n",
       "      <td>15.27</td>\n",
       "      <td>59.83</td>\n",
       "      <td>C</td>\n",
       "      <td>C4</td>\n",
       "      <td>...</td>\n",
       "      <td>0.8</td>\n",
       "      <td>1.0</td>\n",
       "      <td>1.0</td>\n",
       "      <td>1.0</td>\n",
       "      <td>1</td>\n",
       "      <td>2.39320</td>\n",
       "      <td>20161201T000000</td>\n",
       "      <td>1</td>\n",
       "      <td>1</td>\n",
       "      <td>1</td>\n",
       "    </tr>\n",
       "    <tr>\n",
       "      <th>2</th>\n",
       "      <td>1077175</td>\n",
       "      <td>1313524</td>\n",
       "      <td>2400</td>\n",
       "      <td>2400</td>\n",
       "      <td>2400</td>\n",
       "      <td>36 months</td>\n",
       "      <td>15.96</td>\n",
       "      <td>84.33</td>\n",
       "      <td>C</td>\n",
       "      <td>C5</td>\n",
       "      <td>...</td>\n",
       "      <td>1.0</td>\n",
       "      <td>1.0</td>\n",
       "      <td>1.0</td>\n",
       "      <td>1.0</td>\n",
       "      <td>0</td>\n",
       "      <td>8.25955</td>\n",
       "      <td>20141201T000000</td>\n",
       "      <td>1</td>\n",
       "      <td>1</td>\n",
       "      <td>1</td>\n",
       "    </tr>\n",
       "    <tr>\n",
       "      <th>3</th>\n",
       "      <td>1076863</td>\n",
       "      <td>1277178</td>\n",
       "      <td>10000</td>\n",
       "      <td>10000</td>\n",
       "      <td>10000</td>\n",
       "      <td>36 months</td>\n",
       "      <td>13.49</td>\n",
       "      <td>339.31</td>\n",
       "      <td>C</td>\n",
       "      <td>C1</td>\n",
       "      <td>...</td>\n",
       "      <td>0.2</td>\n",
       "      <td>1.0</td>\n",
       "      <td>1.0</td>\n",
       "      <td>1.0</td>\n",
       "      <td>0</td>\n",
       "      <td>8.27585</td>\n",
       "      <td>20141201T000000</td>\n",
       "      <td>0</td>\n",
       "      <td>1</td>\n",
       "      <td>1</td>\n",
       "    </tr>\n",
       "    <tr>\n",
       "      <th>4</th>\n",
       "      <td>1075269</td>\n",
       "      <td>1311441</td>\n",
       "      <td>5000</td>\n",
       "      <td>5000</td>\n",
       "      <td>5000</td>\n",
       "      <td>36 months</td>\n",
       "      <td>7.90</td>\n",
       "      <td>156.46</td>\n",
       "      <td>A</td>\n",
       "      <td>A4</td>\n",
       "      <td>...</td>\n",
       "      <td>0.8</td>\n",
       "      <td>1.0</td>\n",
       "      <td>1.0</td>\n",
       "      <td>1.0</td>\n",
       "      <td>0</td>\n",
       "      <td>5.21533</td>\n",
       "      <td>20141201T000000</td>\n",
       "      <td>1</td>\n",
       "      <td>1</td>\n",
       "      <td>1</td>\n",
       "    </tr>\n",
       "  </tbody>\n",
       "</table>\n",
       "<p>5 rows × 68 columns</p>\n",
       "</div>"
      ],
      "text/plain": [
       "        id  member_id  loan_amnt  funded_amnt  funded_amnt_inv        term  \\\n",
       "0  1077501    1296599       5000         5000             4975   36 months   \n",
       "1  1077430    1314167       2500         2500             2500   60 months   \n",
       "2  1077175    1313524       2400         2400             2400   36 months   \n",
       "3  1076863    1277178      10000        10000            10000   36 months   \n",
       "4  1075269    1311441       5000         5000             5000   36 months   \n",
       "\n",
       "   int_rate  installment grade sub_grade          ...          sub_grade_num  \\\n",
       "0     10.65       162.87     B        B2          ...                    0.4   \n",
       "1     15.27        59.83     C        C4          ...                    0.8   \n",
       "2     15.96        84.33     C        C5          ...                    1.0   \n",
       "3     13.49       339.31     C        C1          ...                    0.2   \n",
       "4      7.90       156.46     A        A4          ...                    0.8   \n",
       "\n",
       "  delinq_2yrs_zero pub_rec_zero  collections_12_mths_zero short_emp  \\\n",
       "0              1.0          1.0                       1.0         0   \n",
       "1              1.0          1.0                       1.0         1   \n",
       "2              1.0          1.0                       1.0         0   \n",
       "3              1.0          1.0                       1.0         0   \n",
       "4              1.0          1.0                       1.0         0   \n",
       "\n",
       "  payment_inc_ratio          final_d last_delinq_none last_record_none  \\\n",
       "0           8.14350  20141201T000000                1                1   \n",
       "1           2.39320  20161201T000000                1                1   \n",
       "2           8.25955  20141201T000000                1                1   \n",
       "3           8.27585  20141201T000000                0                1   \n",
       "4           5.21533  20141201T000000                1                1   \n",
       "\n",
       "  last_major_derog_none  \n",
       "0                     1  \n",
       "1                     1  \n",
       "2                     1  \n",
       "3                     1  \n",
       "4                     1  \n",
       "\n",
       "[5 rows x 68 columns]"
      ]
     },
     "execution_count": 3,
     "metadata": {},
     "output_type": "execute_result"
    }
   ],
   "source": [
    "loans.head()"
   ]
  },
  {
   "cell_type": "code",
   "execution_count": 7,
   "metadata": {},
   "outputs": [],
   "source": [
    "loans[\"safe_loans\"] = loans[\"bad_loans\"].apply(lambda x: +1 if x==0 else -1)\n",
    "loans = loans.drop([\"bad_loans\"], axis=1)"
   ]
  },
  {
   "cell_type": "code",
   "execution_count": 10,
   "metadata": {},
   "outputs": [],
   "source": [
    "features = [\"grade\", \"term\", \"home_ownership\", \"emp_length\"]\n",
    "target = \"safe_loans\"\n",
    "\n",
    "loans = loans[features + [target]]"
   ]
  },
  {
   "cell_type": "code",
   "execution_count": 12,
   "metadata": {},
   "outputs": [
    {
     "data": {
      "text/html": [
       "<div>\n",
       "<style scoped>\n",
       "    .dataframe tbody tr th:only-of-type {\n",
       "        vertical-align: middle;\n",
       "    }\n",
       "\n",
       "    .dataframe tbody tr th {\n",
       "        vertical-align: top;\n",
       "    }\n",
       "\n",
       "    .dataframe thead th {\n",
       "        text-align: right;\n",
       "    }\n",
       "</style>\n",
       "<table border=\"1\" class=\"dataframe\">\n",
       "  <thead>\n",
       "    <tr style=\"text-align: right;\">\n",
       "      <th></th>\n",
       "      <th>grade</th>\n",
       "      <th>term</th>\n",
       "      <th>home_ownership</th>\n",
       "      <th>emp_length</th>\n",
       "      <th>safe_loans</th>\n",
       "    </tr>\n",
       "  </thead>\n",
       "  <tbody>\n",
       "    <tr>\n",
       "      <th>0</th>\n",
       "      <td>B</td>\n",
       "      <td>36 months</td>\n",
       "      <td>RENT</td>\n",
       "      <td>10+ years</td>\n",
       "      <td>1</td>\n",
       "    </tr>\n",
       "    <tr>\n",
       "      <th>1</th>\n",
       "      <td>C</td>\n",
       "      <td>60 months</td>\n",
       "      <td>RENT</td>\n",
       "      <td>&lt; 1 year</td>\n",
       "      <td>-1</td>\n",
       "    </tr>\n",
       "    <tr>\n",
       "      <th>2</th>\n",
       "      <td>C</td>\n",
       "      <td>36 months</td>\n",
       "      <td>RENT</td>\n",
       "      <td>10+ years</td>\n",
       "      <td>1</td>\n",
       "    </tr>\n",
       "    <tr>\n",
       "      <th>3</th>\n",
       "      <td>C</td>\n",
       "      <td>36 months</td>\n",
       "      <td>RENT</td>\n",
       "      <td>10+ years</td>\n",
       "      <td>1</td>\n",
       "    </tr>\n",
       "    <tr>\n",
       "      <th>4</th>\n",
       "      <td>A</td>\n",
       "      <td>36 months</td>\n",
       "      <td>RENT</td>\n",
       "      <td>3 years</td>\n",
       "      <td>1</td>\n",
       "    </tr>\n",
       "  </tbody>\n",
       "</table>\n",
       "</div>"
      ],
      "text/plain": [
       "  grade        term home_ownership emp_length  safe_loans\n",
       "0     B   36 months           RENT  10+ years           1\n",
       "1     C   60 months           RENT   < 1 year          -1\n",
       "2     C   36 months           RENT  10+ years           1\n",
       "3     C   36 months           RENT  10+ years           1\n",
       "4     A   36 months           RENT    3 years           1"
      ]
     },
     "execution_count": 12,
     "metadata": {},
     "output_type": "execute_result"
    }
   ],
   "source": [
    "loans.head()"
   ]
  },
  {
   "cell_type": "markdown",
   "metadata": {},
   "source": [
    "## Subsample dataset to make sure classes are balanced"
   ]
  },
  {
   "cell_type": "code",
   "execution_count": 14,
   "metadata": {},
   "outputs": [
    {
     "name": "stdout",
     "output_type": "stream",
     "text": [
      "Percentage of safe loans                : 0.5\n",
      "Percentage of risky loans               : 0.5\n",
      "Total number of loans in our new dataset: 46300\n"
     ]
    }
   ],
   "source": [
    "safe_loans_raw = loans[loans[target] == 1]\n",
    "risky_loans_raw = loans[loans[target] == -1]\n",
    "\n",
    "percentage = len(risky_loans_raw)/float(len(safe_loans_raw))\n",
    "safe_loans = safe_loans_raw.sample(frac=percentage, random_state=42)\n",
    "risky_loans = risky_loans_raw\n",
    "loans_data = risky_loans.append(safe_loans)\n",
    "\n",
    "print \"Percentage of safe loans                :\", len(safe_loans)/float(len(loans_data))\n",
    "print \"Percentage of risky loans               :\", len(risky_loans)/float(len(loans_data))\n",
    "print \"Total number of loans in our new dataset:\", len(loans_data)"
   ]
  },
  {
   "cell_type": "markdown",
   "metadata": {},
   "source": [
    "## Transform categorical data into binary features"
   ]
  },
  {
   "cell_type": "code",
   "execution_count": 34,
   "metadata": {},
   "outputs": [],
   "source": [
    "one_hot_grade = pd.get_dummies(loans_data[\"grade\"], prefix=\"grade\")\n",
    "one_hot_term = pd.get_dummies(loans_data[\"term\"], prefix=\"term\")\n",
    "one_hot_ownership = pd.get_dummies(loans_data[\"home_ownership\"], prefix=\"home_ownership\")\n",
    "one_hot_emp = pd.get_dummies(loans_data[\"emp_length\"], prefix=\"emp_length\")"
   ]
  },
  {
   "cell_type": "code",
   "execution_count": 42,
   "metadata": {},
   "outputs": [],
   "source": [
    "loans_data = pd.concat([one_hot_grade, one_hot_term, one_hot_ownership, one_hot_emp, loans_data[\"safe_loans\"]], axis=1)"
   ]
  },
  {
   "cell_type": "code",
   "execution_count": 69,
   "metadata": {},
   "outputs": [
    {
     "data": {
      "text/plain": [
       "array(['grade_A', 'grade_B', 'grade_C', 'grade_D', 'grade_E', 'grade_F',\n",
       "       'grade_G', 'term_ 36 months', 'term_ 60 months',\n",
       "       'home_ownership_MORTGAGE', 'home_ownership_OTHER',\n",
       "       'home_ownership_OWN', 'home_ownership_RENT', 'emp_length_1 year',\n",
       "       'emp_length_10+ years', 'emp_length_2 years', 'emp_length_3 years',\n",
       "       'emp_length_4 years', 'emp_length_5 years', 'emp_length_6 years',\n",
       "       'emp_length_7 years', 'emp_length_8 years', 'emp_length_9 years',\n",
       "       'emp_length_< 1 year'], dtype=object)"
      ]
     },
     "execution_count": 69,
     "metadata": {},
     "output_type": "execute_result"
    }
   ],
   "source": [
    "features = loans_data.columns.values \n",
    "features = features[features != \"safe_loans\"]\n",
    "features"
   ]
  },
  {
   "cell_type": "code",
   "execution_count": 70,
   "metadata": {},
   "outputs": [
    {
     "name": "stdout",
     "output_type": "stream",
     "text": [
      "Number of features (after binarizing categorical variables) = 24\n"
     ]
    }
   ],
   "source": [
    "print \"Number of features (after binarizing categorical variables) = %s\" % len(features)"
   ]
  },
  {
   "cell_type": "code",
   "execution_count": 73,
   "metadata": {},
   "outputs": [
    {
     "data": {
      "text/plain": [
       "1         0\n",
       "6         0\n",
       "7         0\n",
       "10        0\n",
       "12        0\n",
       "18        0\n",
       "21        0\n",
       "23        0\n",
       "24        0\n",
       "41        1\n",
       "45        0\n",
       "48        0\n",
       "50        0\n",
       "58        0\n",
       "60        0\n",
       "63        0\n",
       "87        0\n",
       "89        0\n",
       "93        0\n",
       "102       0\n",
       "108       0\n",
       "111       0\n",
       "118       0\n",
       "124       1\n",
       "132       0\n",
       "136       0\n",
       "138       0\n",
       "140       0\n",
       "151       1\n",
       "158       0\n",
       "         ..\n",
       "59302     0\n",
       "77224     0\n",
       "18741     0\n",
       "17317     1\n",
       "21021     1\n",
       "29577     0\n",
       "24427     0\n",
       "28755     0\n",
       "59504     0\n",
       "48055     0\n",
       "52456     0\n",
       "91559     0\n",
       "14479     0\n",
       "118235    0\n",
       "115801    0\n",
       "50842     0\n",
       "120961    0\n",
       "5449      0\n",
       "54905     0\n",
       "31383     0\n",
       "10865     1\n",
       "78186     0\n",
       "73459     0\n",
       "73923     1\n",
       "88033     0\n",
       "54114     0\n",
       "72079     1\n",
       "90112     0\n",
       "26711     0\n",
       "39278     1\n",
       "Name: grade_A, Length: 46300, dtype: uint8"
      ]
     },
     "execution_count": 73,
     "metadata": {},
     "output_type": "execute_result"
    }
   ],
   "source": [
    "loans_data[\"grade_A\"]"
   ]
  },
  {
   "cell_type": "code",
   "execution_count": 74,
   "metadata": {},
   "outputs": [
    {
     "name": "stdout",
     "output_type": "stream",
     "text": [
      "Total number of grade_A loans: 6390\n"
     ]
    }
   ],
   "source": [
    "print \"Total number of grade_A loans: %s\" % loans_data[\"grade_A\"].sum()"
   ]
  },
  {
   "cell_type": "markdown",
   "metadata": {},
   "source": [
    "## Train-test split"
   ]
  },
  {
   "cell_type": "code",
   "execution_count": 75,
   "metadata": {},
   "outputs": [],
   "source": [
    "from sklearn.model_selection import train_test_split\n",
    "\n",
    "train_data, test_data = train_test_split(loans_data, test_size=0.2, random_state=42)"
   ]
  },
  {
   "cell_type": "code",
   "execution_count": 77,
   "metadata": {},
   "outputs": [
    {
     "name": "stdout",
     "output_type": "stream",
     "text": [
      "0.8\n",
      "0.2\n"
     ]
    }
   ],
   "source": [
    "print len(train_data)/float(len(loans_data))\n",
    "print len(test_data)/float(len(loans_data))"
   ]
  },
  {
   "cell_type": "markdown",
   "metadata": {},
   "source": [
    "# Decision tree implementation"
   ]
  },
  {
   "cell_type": "markdown",
   "metadata": {},
   "source": [
    "## Function to count number of mistakes while predicting majority class"
   ]
  },
  {
   "cell_type": "code",
   "execution_count": 78,
   "metadata": {},
   "outputs": [],
   "source": [
    "def intermediate_node_num_mistakes(labels_in_node):\n",
    "    if len(labels_in_node) == 0:\n",
    "        return 0\n",
    "    \n",
    "    safe_loans = (labels_in_node == 1).sum()\n",
    "    risky_loans = (labels_in_node == -1).sum()\n",
    "    \n",
    "    if safe_loans <= risky_loans:\n",
    "        return safe_loans\n",
    "    else:\n",
    "        return risky_loans"
   ]
  },
  {
   "cell_type": "code",
   "execution_count": 79,
   "metadata": {},
   "outputs": [
    {
     "name": "stdout",
     "output_type": "stream",
     "text": [
      "Test passed!\n",
      "Test passed!\n",
      "Test passed!\n"
     ]
    }
   ],
   "source": [
    "# Test case 1\n",
    "example_labels = graphlab.SArray([-1, -1, 1, 1, 1])\n",
    "if intermediate_node_num_mistakes(example_labels) == 2:\n",
    "    print \"Test passed!\"\n",
    "else:\n",
    "    print \"Test 1 failed... try again!\"\n",
    "    \n",
    "# Test case 2\n",
    "example_labels = graphlab.SArray([-1, -1, 1, 1, 1, 1, 1])\n",
    "if intermediate_node_num_mistakes(example_labels) == 2:\n",
    "    print \"Test passed!\"\n",
    "else:\n",
    "    print \"Test 2 failed... try again!\"\n",
    "\n",
    "# Test case 3\n",
    "example_labels = graphlab.SArray([-1, -1, -1, -1, -1, 1, 1])\n",
    "if intermediate_node_num_mistakes(example_labels) == 2:\n",
    "    print \"Test passed!\"\n",
    "else:\n",
    "    print \"Test 3 failed... try again!\""
   ]
  },
  {
   "cell_type": "markdown",
   "metadata": {},
   "source": [
    "## Function to pick best feature to split on"
   ]
  },
  {
   "cell_type": "markdown",
   "metadata": {},
   "source": [
    "$$\n",
    "\\mbox{classification error} = \\frac{\\mbox{# mistakes}}{\\mbox{# total examples}}\n",
    "$$"
   ]
  },
  {
   "cell_type": "code",
   "execution_count": 80,
   "metadata": {},
   "outputs": [],
   "source": [
    "def best_splitting_feature(data, features, target):\n",
    "    \n",
    "    best_feature = None\n",
    "    best_error = 10\n",
    "    \n",
    "    num_data_points = float(len(data))\n",
    "    \n",
    "    for feature in features:\n",
    "        left_split = data[data[feature] == 0]\n",
    "        right_split = data[data[feature] == 1]\n",
    "        \n",
    "        left_mistakes = intermediate_node_num_mistakes(left_split[target])\n",
    "        right_mistakes = intermediate_node_num_mistakes(right_split[target])\n",
    "        \n",
    "        error = (left_mistakes + right_mistakes) / num_data_points\n",
    "        \n",
    "        if error < best_error:\n",
    "            best_feature = feature\n",
    "            best_error = error\n",
    "    \n",
    "    \n",
    "    return best_feature"
   ]
  },
  {
   "cell_type": "markdown",
   "metadata": {},
   "source": [
    "## Building the tree"
   ]
  },
  {
   "cell_type": "code",
   "execution_count": 83,
   "metadata": {},
   "outputs": [],
   "source": [
    "def create_leaf(target_values):\n",
    "    \n",
    "    leaf = {\"splitting_feature\": None,\n",
    "           \"left\": None,\n",
    "           \"right\": None,\n",
    "           \"is_leaf\": True}\n",
    "    \n",
    "    num_ones = len(target_values[target_values == +1])\n",
    "    num_minus_ones = len(target_values[target_values == -1])\n",
    "    \n",
    "    if num_ones > num_minus_ones:\n",
    "        leaf[\"prediction\"] = 1\n",
    "    else:\n",
    "        leaf[\"prediction\"] = -1\n",
    "        \n",
    "        \n",
    "    return leaf"
   ]
  },
  {
   "cell_type": "code",
   "execution_count": 89,
   "metadata": {},
   "outputs": [],
   "source": [
    "def decision_tree_create(data, features, target, current_depth = 0, max_depth = 10):\n",
    "    remaining_features = features[:]\n",
    "    \n",
    "    target_values = data[target]\n",
    "    print \"----------------------------------------------------------------------\"\n",
    "    print \"Subtree, depth= %s (%s data points).\" % (current_depth, len(target_values))\n",
    "    \n",
    "    \n",
    "    if intermediate_node_num_mistakes(target_values) == 0:\n",
    "        print \"Stopping condition 1 reached.\"\n",
    "        return create_leaf(target_values)\n",
    "    \n",
    "    if remaining_features == []:\n",
    "        print \"Stopping condition 2 reached.\"\n",
    "        return create_leaf(target_values)\n",
    "    \n",
    "    if current_depth >= max_depth:\n",
    "        print \"Reached maximum depth. Stopping for now.\"\n",
    "        return create_leaf(target_values)\n",
    "    \n",
    "    splitting_feature = best_splitting_feature(data, remaining_features, target)    \n",
    "    \n",
    "    left_split = data[data[splitting_feature] == 0]\n",
    "    right_split = data[data[splitting_feature] == 1]\n",
    "    remaining_features = remaining_features[remaining_features != splitting_feature]\n",
    "    print \"Split on feature %s. (%s, %s)\" % (splitting_feature, len(left_split), len(right_split))\n",
    "    \n",
    "    if len(left_split) == len(data):\n",
    "        print \"Creating leaf node.\"\n",
    "        return create_leaf(left_split[target])\n",
    "    if len(right_split) == len(data):\n",
    "        print \"Creating leaf node.\"\n",
    "        return create_leaf(right_split[target])\n",
    "    \n",
    "    \n",
    "    left_tree = decision_tree_create(left_split, remaining_features, target, current_depth + 1, max_depth)\n",
    "    right_tree = decision_tree_create(right_split, remaining_features, target, current_depth + 1, max_depth)\n",
    "    \n",
    "    return {\"is_leaf\": False,\n",
    "           \"prediction\": None,\n",
    "           \"splitting_feature\": splitting_feature,\n",
    "           \"left\": left_tree,\n",
    "           \"right\": right_tree}"
   ]
  },
  {
   "cell_type": "code",
   "execution_count": 90,
   "metadata": {},
   "outputs": [],
   "source": [
    "def count_nodes(tree):\n",
    "    if tree[\"is_leaf\"]:\n",
    "        return 1\n",
    "    \n",
    "    return 1 + count_nodes(tree[\"left\"]) + count_nodes(tree[\"right\"])"
   ]
  },
  {
   "cell_type": "code",
   "execution_count": 92,
   "metadata": {},
   "outputs": [
    {
     "name": "stdout",
     "output_type": "stream",
     "text": [
      "----------------------------------------------------------------------\n",
      "Subtree, depth= 0 (37040 data points).\n"
     ]
    },
    {
     "name": "stderr",
     "output_type": "stream",
     "text": [
      "c:\\python27\\lib\\site-packages\\ipykernel_launcher.py:13: DeprecationWarning: elementwise == comparison failed; this will raise an error in the future.\n",
      "  del sys.path[0]\n"
     ]
    },
    {
     "name": "stdout",
     "output_type": "stream",
     "text": [
      "Split on feature term_ 36 months. (9199, 27841)\n",
      "----------------------------------------------------------------------\n",
      "Subtree, depth= 1 (9199 data points).\n",
      "Split on feature grade_A. (9102, 97)\n",
      "----------------------------------------------------------------------\n",
      "Subtree, depth= 2 (9102 data points).\n",
      "Split on feature grade_B. (8064, 1038)\n",
      "----------------------------------------------------------------------\n",
      "Subtree, depth= 3 (8064 data points).\n",
      "Reached maximum depth. Stopping for now.\n",
      "----------------------------------------------------------------------\n",
      "Subtree, depth= 3 (1038 data points).\n",
      "Reached maximum depth. Stopping for now.\n",
      "----------------------------------------------------------------------\n",
      "Subtree, depth= 2 (97 data points).\n",
      "Split on feature home_ownership_RENT. (75, 22)\n",
      "----------------------------------------------------------------------\n",
      "Subtree, depth= 3 (75 data points).\n",
      "Reached maximum depth. Stopping for now.\n",
      "----------------------------------------------------------------------\n",
      "Subtree, depth= 3 (22 data points).\n",
      "Reached maximum depth. Stopping for now.\n",
      "----------------------------------------------------------------------\n",
      "Subtree, depth= 1 (27841 data points).\n",
      "Split on feature grade_D. (23204, 4637)\n",
      "----------------------------------------------------------------------\n",
      "Subtree, depth= 2 (23204 data points).\n",
      "Split on feature grade_E. (21896, 1308)\n",
      "----------------------------------------------------------------------\n",
      "Subtree, depth= 3 (21896 data points).\n",
      "Reached maximum depth. Stopping for now.\n",
      "----------------------------------------------------------------------\n",
      "Subtree, depth= 3 (1308 data points).\n",
      "Reached maximum depth. Stopping for now.\n",
      "----------------------------------------------------------------------\n",
      "Subtree, depth= 2 (4637 data points).\n",
      "Split on feature grade_A. (4637, 0)\n",
      "Creating leaf node.\n",
      "Test passed!\n"
     ]
    }
   ],
   "source": [
    "small_data_decision_tree = decision_tree_create(train_data, features, \"safe_loans\", max_depth = 3)\n",
    "if count_nodes(small_data_decision_tree) == 13:\n",
    "    print \"Test passed!\"\n",
    "else:\n",
    "    print \"Test failed... try again!\"\n",
    "    print \"Number of nodes found               :\", count_nodes(small_data_decision_tree)\n",
    "    print \"Number of nodes that should be there: 13\""
   ]
  },
  {
   "cell_type": "markdown",
   "metadata": {},
   "source": [
    "## Build the tree!"
   ]
  },
  {
   "cell_type": "code",
   "execution_count": 93,
   "metadata": {},
   "outputs": [
    {
     "name": "stdout",
     "output_type": "stream",
     "text": [
      "----------------------------------------------------------------------\n",
      "Subtree, depth= 0 (37040 data points).\n"
     ]
    },
    {
     "name": "stderr",
     "output_type": "stream",
     "text": [
      "c:\\python27\\lib\\site-packages\\ipykernel_launcher.py:13: DeprecationWarning: elementwise == comparison failed; this will raise an error in the future.\n",
      "  del sys.path[0]\n"
     ]
    },
    {
     "name": "stdout",
     "output_type": "stream",
     "text": [
      "Split on feature term_ 36 months. (9199, 27841)\n",
      "----------------------------------------------------------------------\n",
      "Subtree, depth= 1 (9199 data points).\n",
      "Split on feature grade_A. (9102, 97)\n",
      "----------------------------------------------------------------------\n",
      "Subtree, depth= 2 (9102 data points).\n",
      "Split on feature grade_B. (8064, 1038)\n",
      "----------------------------------------------------------------------\n",
      "Subtree, depth= 3 (8064 data points).\n",
      "Split on feature grade_C. (5895, 2169)\n",
      "----------------------------------------------------------------------\n",
      "Subtree, depth= 4 (5895 data points).\n",
      "Split on feature grade_D. (3860, 2035)\n",
      "----------------------------------------------------------------------\n",
      "Subtree, depth= 5 (3860 data points).\n",
      "Split on feature home_ownership_OTHER. (3859, 1)\n",
      "----------------------------------------------------------------------\n",
      "Subtree, depth= 6 (3859 data points).\n",
      "Reached maximum depth. Stopping for now.\n",
      "----------------------------------------------------------------------\n",
      "Subtree, depth= 6 (1 data points).\n",
      "Stopping condition 1 reached.\n",
      "----------------------------------------------------------------------\n",
      "Subtree, depth= 5 (2035 data points).\n",
      "Split on feature grade_E. (2035, 0)\n",
      "Creating leaf node.\n",
      "----------------------------------------------------------------------\n",
      "Subtree, depth= 4 (2169 data points).\n",
      "Split on feature grade_D. (2169, 0)\n",
      "Creating leaf node.\n",
      "----------------------------------------------------------------------\n",
      "Subtree, depth= 3 (1038 data points).\n",
      "Split on feature grade_C. (1038, 0)\n",
      "Creating leaf node.\n",
      "----------------------------------------------------------------------\n",
      "Subtree, depth= 2 (97 data points).\n",
      "Split on feature home_ownership_RENT. (75, 22)\n",
      "----------------------------------------------------------------------\n",
      "Subtree, depth= 3 (75 data points).\n",
      "Split on feature emp_length_4 years. (72, 3)\n",
      "----------------------------------------------------------------------\n",
      "Subtree, depth= 4 (72 data points).\n",
      "Split on feature emp_length_6 years. (69, 3)\n",
      "----------------------------------------------------------------------\n",
      "Subtree, depth= 5 (69 data points).\n",
      "Split on feature grade_B. (69, 0)\n",
      "Creating leaf node.\n",
      "----------------------------------------------------------------------\n",
      "Subtree, depth= 5 (3 data points).\n",
      "Split on feature grade_B. (3, 0)\n",
      "Creating leaf node.\n",
      "----------------------------------------------------------------------\n",
      "Subtree, depth= 4 (3 data points).\n",
      "Split on feature grade_B. (3, 0)\n",
      "Creating leaf node.\n",
      "----------------------------------------------------------------------\n",
      "Subtree, depth= 3 (22 data points).\n",
      "Split on feature emp_length_5 years. (19, 3)\n",
      "----------------------------------------------------------------------\n",
      "Subtree, depth= 4 (19 data points).\n",
      "Split on feature emp_length_6 years. (16, 3)\n",
      "----------------------------------------------------------------------\n",
      "Subtree, depth= 5 (16 data points).\n",
      "Split on feature grade_B. (16, 0)\n",
      "Creating leaf node.\n",
      "----------------------------------------------------------------------\n",
      "Subtree, depth= 5 (3 data points).\n",
      "Split on feature grade_B. (3, 0)\n",
      "Creating leaf node.\n",
      "----------------------------------------------------------------------\n",
      "Subtree, depth= 4 (3 data points).\n",
      "Split on feature grade_B. (3, 0)\n",
      "Creating leaf node.\n",
      "----------------------------------------------------------------------\n",
      "Subtree, depth= 1 (27841 data points).\n",
      "Split on feature grade_D. (23204, 4637)\n",
      "----------------------------------------------------------------------\n",
      "Subtree, depth= 2 (23204 data points).\n",
      "Split on feature grade_E. (21896, 1308)\n",
      "----------------------------------------------------------------------\n",
      "Subtree, depth= 3 (21896 data points).\n",
      "Split on feature grade_F. (21518, 378)\n",
      "----------------------------------------------------------------------\n",
      "Subtree, depth= 4 (21518 data points).\n",
      "Split on feature grade_C. (14370, 7148)\n",
      "----------------------------------------------------------------------\n",
      "Subtree, depth= 5 (14370 data points).\n",
      "Split on feature grade_G. (14264, 106)\n",
      "----------------------------------------------------------------------\n",
      "Subtree, depth= 6 (14264 data points).\n",
      "Reached maximum depth. Stopping for now.\n",
      "----------------------------------------------------------------------\n",
      "Subtree, depth= 6 (106 data points).\n",
      "Reached maximum depth. Stopping for now.\n",
      "----------------------------------------------------------------------\n",
      "Subtree, depth= 5 (7148 data points).\n",
      "Split on feature home_ownership_MORTGAGE. (4304, 2844)\n",
      "----------------------------------------------------------------------\n",
      "Subtree, depth= 6 (4304 data points).\n",
      "Reached maximum depth. Stopping for now.\n",
      "----------------------------------------------------------------------\n",
      "Subtree, depth= 6 (2844 data points).\n",
      "Reached maximum depth. Stopping for now.\n",
      "----------------------------------------------------------------------\n",
      "Subtree, depth= 4 (378 data points).\n",
      "Split on feature emp_length_8 years. (369, 9)\n",
      "----------------------------------------------------------------------\n",
      "Subtree, depth= 5 (369 data points).\n",
      "Split on feature grade_A. (369, 0)\n",
      "Creating leaf node.\n",
      "----------------------------------------------------------------------\n",
      "Subtree, depth= 5 (9 data points).\n",
      "Split on feature grade_A. (9, 0)\n",
      "Creating leaf node.\n",
      "----------------------------------------------------------------------\n",
      "Subtree, depth= 3 (1308 data points).\n",
      "Split on feature grade_A. (1308, 0)\n",
      "Creating leaf node.\n",
      "----------------------------------------------------------------------\n",
      "Subtree, depth= 2 (4637 data points).\n",
      "Split on feature grade_A. (4637, 0)\n",
      "Creating leaf node.\n"
     ]
    }
   ],
   "source": [
    "my_decision_tree = decision_tree_create(train_data, features, target, current_depth = 0, max_depth = 6)"
   ]
  },
  {
   "cell_type": "markdown",
   "metadata": {},
   "source": [
    "## Making predictions with a decision tree"
   ]
  },
  {
   "cell_type": "code",
   "execution_count": 94,
   "metadata": {},
   "outputs": [],
   "source": [
    "def classify(tree, x, annotate = False):\n",
    "    if tree[\"is_leaf\"]:\n",
    "        if annotate:\n",
    "            print \"At leaf, predicting %s\" % tree[\"prediction\"]\n",
    "        return tree[\"prediction\"]\n",
    "    else:\n",
    "        split_feature_value = x[tree[\"splitting_feature\"]]\n",
    "        if annotate:\n",
    "            print \"Split on %s = %s\" % (tree[\"splitting_feature\"], split_feature_value)\n",
    "        if split_feature_value == 0:\n",
    "            return classify(tree[\"left\"], x, annotate)\n",
    "        else:\n",
    "            return classify(tree[\"right\"], x, annotate)"
   ]
  },
  {
   "cell_type": "code",
   "execution_count": 97,
   "metadata": {},
   "outputs": [
    {
     "data": {
      "text/plain": [
       "grade_A                    0\n",
       "grade_B                    0\n",
       "grade_C                    0\n",
       "grade_D                    1\n",
       "grade_E                    0\n",
       "grade_F                    0\n",
       "grade_G                    0\n",
       "term_ 36 months            1\n",
       "term_ 60 months            0\n",
       "home_ownership_MORTGAGE    0\n",
       "home_ownership_OTHER       0\n",
       "home_ownership_OWN         0\n",
       "home_ownership_RENT        1\n",
       "emp_length_1 year          0\n",
       "emp_length_10+ years       0\n",
       "emp_length_2 years         0\n",
       "emp_length_3 years         1\n",
       "emp_length_4 years         0\n",
       "emp_length_5 years         0\n",
       "emp_length_6 years         0\n",
       "emp_length_7 years         0\n",
       "emp_length_8 years         0\n",
       "emp_length_9 years         0\n",
       "emp_length_< 1 year        0\n",
       "safe_loans                 1\n",
       "Name: 53330, dtype: int64"
      ]
     },
     "execution_count": 97,
     "metadata": {},
     "output_type": "execute_result"
    }
   ],
   "source": [
    "test_data.iloc[0]"
   ]
  },
  {
   "cell_type": "code",
   "execution_count": 99,
   "metadata": {},
   "outputs": [
    {
     "name": "stdout",
     "output_type": "stream",
     "text": [
      "Predicted class: -1\n"
     ]
    }
   ],
   "source": [
    "print \"Predicted class: %s\" % classify(my_decision_tree, test_data.iloc[0])"
   ]
  },
  {
   "cell_type": "code",
   "execution_count": 100,
   "metadata": {},
   "outputs": [
    {
     "name": "stdout",
     "output_type": "stream",
     "text": [
      "Split on term_ 36 months = 1\n",
      "Split on grade_D = 1\n",
      "At leaf, predicting -1\n"
     ]
    },
    {
     "data": {
      "text/plain": [
       "-1"
      ]
     },
     "execution_count": 100,
     "metadata": {},
     "output_type": "execute_result"
    }
   ],
   "source": [
    "classify(my_decision_tree, test_data.iloc[0], annotate=True)"
   ]
  },
  {
   "cell_type": "markdown",
   "metadata": {},
   "source": [
    "## Evaluating your decision tree"
   ]
  },
  {
   "cell_type": "markdown",
   "metadata": {},
   "source": [
    "$$\n",
    "\\mbox{classification error} = \\frac{\\mbox{# mistakes}}{\\mbox{# total examples}}\n",
    "$$"
   ]
  },
  {
   "cell_type": "code",
   "execution_count": 125,
   "metadata": {},
   "outputs": [],
   "source": [
    "def evaluate_classification_error(tree, data, target):\n",
    "    prediction = []\n",
    "    for i in range(len(test_data)):\n",
    "        prediction.append(classify(my_decision_tree, data.iloc[i]))\n",
    "    \n",
    "    error = (np.array(data[target]) != np.array(prediction)).sum()/float(len(data))\n",
    "    \n",
    "    \n",
    "    return error"
   ]
  },
  {
   "cell_type": "code",
   "execution_count": 126,
   "metadata": {},
   "outputs": [
    {
     "data": {
      "text/plain": [
       "0.3769978401727862"
      ]
     },
     "execution_count": 126,
     "metadata": {},
     "output_type": "execute_result"
    }
   ],
   "source": [
    "evaluate_classification_error(my_decision_tree, test_data, target)"
   ]
  },
  {
   "cell_type": "markdown",
   "metadata": {},
   "source": []
  }
 ],
 "metadata": {
  "kernelspec": {
   "display_name": "Python 2",
   "language": "python",
   "name": "python2"
  },
  "language_info": {
   "codemirror_mode": {
    "name": "ipython",
    "version": 2
   },
   "file_extension": ".py",
   "mimetype": "text/x-python",
   "name": "python",
   "nbconvert_exporter": "python",
   "pygments_lexer": "ipython2",
   "version": "2.7.14"
  }
 },
 "nbformat": 4,
 "nbformat_minor": 2
}
